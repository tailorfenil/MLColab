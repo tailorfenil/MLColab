{
  "nbformat": 4,
  "nbformat_minor": 0,
  "metadata": {
    "colab": {
      "provenance": [],
      "include_colab_link": true
    },
    "kernelspec": {
      "name": "python3",
      "display_name": "Python 3"
    },
    "language_info": {
      "name": "python"
    }
  },
  "cells": [
    {
      "cell_type": "markdown",
      "metadata": {
        "id": "view-in-github",
        "colab_type": "text"
      },
      "source": [
        "<a href=\"https://colab.research.google.com/github/tailorfenil/MLColab/blob/FNN_Model_Predict_Laptop_Price/Assignment_FNN.ipynb\" target=\"_parent\"><img src=\"https://colab.research.google.com/assets/colab-badge.svg\" alt=\"Open In Colab\"/></a>"
      ]
    },
    {
      "cell_type": "markdown",
      "source": [
        "# Please make a copy of this notebook and try solving the below questions in your notebook copy. Solutions for these will be discussed in the assignment review session on <day> post which, we will also share the solution notebook.\n",
        "\n",
        "\n",
        "# **Good Luck**"
      ],
      "metadata": {
        "id": "iziUCnUTlX4y"
      }
    },
    {
      "cell_type": "markdown",
      "source": [
        "#Laptops Price Dataset\n",
        "This dataset provides a comprehensive collection of information on various laptops, enabling a detailed analysis of their specifications and pricing. It encompasses a wide range of laptops, encompassing diverse brands, models, and configurations, making it a valuable resource for researchers, data analysts, and machine learning enthusiasts interested in the laptop industry.\n",
        "\n",
        "The data comes from the spanish website PC componentes. The data was collected using Power Automate, more info on: https://github.com/juanmerino89/laptops-data-cleaning\n",
        "\n",
        "####Fields included:\n",
        "\n",
        "**Laptop Name**: The unique identifier or model name of the laptop.\n",
        "**Brand**: Laptop brand.\n",
        "**Model**: Laptop brand model.\n",
        "**CPU (Central Processing Unit)**: The processor brand, model, and other relevant details.\n",
        "**GPU (Graphics Processing Unit)**: The graphics card brand, model, and associated specifications.\n",
        "**RAM (Random Access Memory)**: The amount of memory available for multitasking.\n",
        "**Storage**: The storage type (HDD, SSD) and capacity of the laptop.\n",
        "Price: The cost of the laptop in the respective currency.\n",
        "By utilizing this dataset, researchers and analysts can explore patterns, trends, and relationships between laptop specifications and their pricing. It serves as an excellent resource for tasks such as price prediction, market analysis, and comparison of different laptop configurations. Whether you are interested in identifying the most cost-effective options or understanding the impact of specific hardware components on laptop prices, this dataset offers abundant possibilities for in-depth exploration."
      ],
      "metadata": {
        "id": "dNwnV7rflZkO"
      }
    },
    {
      "cell_type": "markdown",
      "source": [
        "##Question 1\n",
        "####Import the libraries and extract the dataset from zipped file."
      ],
      "metadata": {
        "id": "qv-PQqejlidv"
      }
    },
    {
      "cell_type": "code",
      "source": [
        "#Solution 1(your code here)\n",
        "\n",
        "import pandas as pd\n",
        "import zipfile\n",
        "\n",
        "# Assuming the dataset is in a zipped file named 'laptops.zip'\n",
        "with zipfile.ZipFile('/content/archive.zip', 'r') as zip_ref:\n",
        "    zip_ref.extractall('data_folder')"
      ],
      "metadata": {
        "id": "7wDmhNuSlcfE"
      },
      "execution_count": 6,
      "outputs": []
    },
    {
      "cell_type": "markdown",
      "source": [
        "##Question 2\n",
        "####Import the dataset - 'laptops.csv'"
      ],
      "metadata": {
        "id": "DPb0n3l4lkyC"
      }
    },
    {
      "cell_type": "code",
      "source": [
        "#Solution 2(your code here)\n",
        "dataset_path = 'data_folder/laptops.csv'\n",
        "laptops_data = pd.read_csv(dataset_path)"
      ],
      "metadata": {
        "id": "Bq2tOJ-ClkUb"
      },
      "execution_count": 7,
      "outputs": []
    },
    {
      "cell_type": "code",
      "source": [
        "print(laptops_data.head())"
      ],
      "metadata": {
        "id": "wBTYtoMBpivU",
        "outputId": "8e636160-5641-40e3-e4c4-d6b4b6f1b320",
        "colab": {
          "base_uri": "https://localhost:8080/"
        }
      },
      "execution_count": 8,
      "outputs": [
        {
          "output_type": "stream",
          "name": "stdout",
          "text": [
            "                                              Laptop Status   Brand  \\\n",
            "0  ASUS ExpertBook B1 B1502CBA-EJ0436X Intel Core...    New    Asus   \n",
            "1  Alurin Go Start Intel Celeron N4020/8GB/256GB ...    New  Alurin   \n",
            "2  ASUS ExpertBook B1 B1502CBA-EJ0424X Intel Core...    New    Asus   \n",
            "3  MSI Katana GF66 12UC-082XES Intel Core i7-1270...    New     MSI   \n",
            "4  HP 15S-FQ5085NS Intel Core i5-1235U/16GB/512GB...    New      HP   \n",
            "\n",
            "        Model            CPU  RAM  Storage Storage type       GPU  Screen  \\\n",
            "0  ExpertBook  Intel Core i5    8      512          SSD       NaN    15.6   \n",
            "1          Go  Intel Celeron    8      256          SSD       NaN    15.6   \n",
            "2  ExpertBook  Intel Core i3    8      256          SSD       NaN    15.6   \n",
            "3      Katana  Intel Core i7   16     1000          SSD  RTX 3050    15.6   \n",
            "4         15S  Intel Core i5   16      512          SSD       NaN    15.6   \n",
            "\n",
            "  Touch  Final Price  \n",
            "0    No      1009.00  \n",
            "1    No       299.00  \n",
            "2    No       789.00  \n",
            "3    No      1199.00  \n",
            "4    No       669.01  \n"
          ]
        }
      ]
    },
    {
      "cell_type": "markdown",
      "source": [
        "##Question 3\n",
        "####Perform EDA on the datsaet to understand the data."
      ],
      "metadata": {
        "id": "YptSj3i6lsXD"
      }
    },
    {
      "cell_type": "code",
      "source": [
        "#Solution 3(your code here)"
      ],
      "metadata": {
        "id": "B5nDqKbVlsoJ"
      },
      "execution_count": null,
      "outputs": []
    },
    {
      "cell_type": "markdown",
      "source": [
        "##Question 4\n",
        "####Extract the information to train the model from the dataset."
      ],
      "metadata": {
        "id": "DvILioUblsxY"
      }
    },
    {
      "cell_type": "code",
      "source": [
        "#Solution 4(your code here)\n",
        "X = laptops_data[['CPU', 'GPU', 'RAM', 'Storage']]\n",
        "y = laptops_data['Final Price']\n",
        "X_encoded = pd.get_dummies(X, columns=['CPU', 'GPU'], drop_first=True)"
      ],
      "metadata": {
        "id": "Do5H9H1Cls61"
      },
      "execution_count": 13,
      "outputs": []
    },
    {
      "cell_type": "markdown",
      "source": [
        "##Question 5\n",
        "####Train the FNN model."
      ],
      "metadata": {
        "id": "bWsfoHXXltLR"
      }
    },
    {
      "cell_type": "code",
      "source": [
        "#Solution 5(your code here)\n",
        "from sklearn.model_selection import train_test_split\n",
        "from sklearn.neural_network import MLPRegressor\n",
        "from sklearn.preprocessing import StandardScaler\n",
        "\n",
        "X_train, X_test, y_train, y_test = train_test_split(X_encoded, y, test_size=0.2, random_state=42)\n",
        "\n",
        "scaler = StandardScaler()\n",
        "X_train_scaled = scaler.fit_transform(X_train)\n",
        "X_test_scaled = scaler.transform(X_test)\n",
        "\n",
        "fnn_model = MLPRegressor(hidden_layer_sizes=(100, 50), max_iter=500)\n",
        "fnn_model.fit(X_train_scaled, y_train)\n"
      ],
      "metadata": {
        "id": "EHx1umhultTw",
        "outputId": "58dcccd9-41b1-42f7-879d-be92e5c5997a",
        "colab": {
          "base_uri": "https://localhost:8080/",
          "height": 128
        }
      },
      "execution_count": 14,
      "outputs": [
        {
          "output_type": "stream",
          "name": "stderr",
          "text": [
            "/usr/local/lib/python3.10/dist-packages/sklearn/neural_network/_multilayer_perceptron.py:686: ConvergenceWarning: Stochastic Optimizer: Maximum iterations (500) reached and the optimization hasn't converged yet.\n",
            "  warnings.warn(\n"
          ]
        },
        {
          "output_type": "execute_result",
          "data": {
            "text/plain": [
              "MLPRegressor(hidden_layer_sizes=(100, 50), max_iter=500)"
            ],
            "text/html": [
              "<style>#sk-container-id-1 {color: black;background-color: white;}#sk-container-id-1 pre{padding: 0;}#sk-container-id-1 div.sk-toggleable {background-color: white;}#sk-container-id-1 label.sk-toggleable__label {cursor: pointer;display: block;width: 100%;margin-bottom: 0;padding: 0.3em;box-sizing: border-box;text-align: center;}#sk-container-id-1 label.sk-toggleable__label-arrow:before {content: \"▸\";float: left;margin-right: 0.25em;color: #696969;}#sk-container-id-1 label.sk-toggleable__label-arrow:hover:before {color: black;}#sk-container-id-1 div.sk-estimator:hover label.sk-toggleable__label-arrow:before {color: black;}#sk-container-id-1 div.sk-toggleable__content {max-height: 0;max-width: 0;overflow: hidden;text-align: left;background-color: #f0f8ff;}#sk-container-id-1 div.sk-toggleable__content pre {margin: 0.2em;color: black;border-radius: 0.25em;background-color: #f0f8ff;}#sk-container-id-1 input.sk-toggleable__control:checked~div.sk-toggleable__content {max-height: 200px;max-width: 100%;overflow: auto;}#sk-container-id-1 input.sk-toggleable__control:checked~label.sk-toggleable__label-arrow:before {content: \"▾\";}#sk-container-id-1 div.sk-estimator input.sk-toggleable__control:checked~label.sk-toggleable__label {background-color: #d4ebff;}#sk-container-id-1 div.sk-label input.sk-toggleable__control:checked~label.sk-toggleable__label {background-color: #d4ebff;}#sk-container-id-1 input.sk-hidden--visually {border: 0;clip: rect(1px 1px 1px 1px);clip: rect(1px, 1px, 1px, 1px);height: 1px;margin: -1px;overflow: hidden;padding: 0;position: absolute;width: 1px;}#sk-container-id-1 div.sk-estimator {font-family: monospace;background-color: #f0f8ff;border: 1px dotted black;border-radius: 0.25em;box-sizing: border-box;margin-bottom: 0.5em;}#sk-container-id-1 div.sk-estimator:hover {background-color: #d4ebff;}#sk-container-id-1 div.sk-parallel-item::after {content: \"\";width: 100%;border-bottom: 1px solid gray;flex-grow: 1;}#sk-container-id-1 div.sk-label:hover label.sk-toggleable__label {background-color: #d4ebff;}#sk-container-id-1 div.sk-serial::before {content: \"\";position: absolute;border-left: 1px solid gray;box-sizing: border-box;top: 0;bottom: 0;left: 50%;z-index: 0;}#sk-container-id-1 div.sk-serial {display: flex;flex-direction: column;align-items: center;background-color: white;padding-right: 0.2em;padding-left: 0.2em;position: relative;}#sk-container-id-1 div.sk-item {position: relative;z-index: 1;}#sk-container-id-1 div.sk-parallel {display: flex;align-items: stretch;justify-content: center;background-color: white;position: relative;}#sk-container-id-1 div.sk-item::before, #sk-container-id-1 div.sk-parallel-item::before {content: \"\";position: absolute;border-left: 1px solid gray;box-sizing: border-box;top: 0;bottom: 0;left: 50%;z-index: -1;}#sk-container-id-1 div.sk-parallel-item {display: flex;flex-direction: column;z-index: 1;position: relative;background-color: white;}#sk-container-id-1 div.sk-parallel-item:first-child::after {align-self: flex-end;width: 50%;}#sk-container-id-1 div.sk-parallel-item:last-child::after {align-self: flex-start;width: 50%;}#sk-container-id-1 div.sk-parallel-item:only-child::after {width: 0;}#sk-container-id-1 div.sk-dashed-wrapped {border: 1px dashed gray;margin: 0 0.4em 0.5em 0.4em;box-sizing: border-box;padding-bottom: 0.4em;background-color: white;}#sk-container-id-1 div.sk-label label {font-family: monospace;font-weight: bold;display: inline-block;line-height: 1.2em;}#sk-container-id-1 div.sk-label-container {text-align: center;}#sk-container-id-1 div.sk-container {/* jupyter's `normalize.less` sets `[hidden] { display: none; }` but bootstrap.min.css set `[hidden] { display: none !important; }` so we also need the `!important` here to be able to override the default hidden behavior on the sphinx rendered scikit-learn.org. See: https://github.com/scikit-learn/scikit-learn/issues/21755 */display: inline-block !important;position: relative;}#sk-container-id-1 div.sk-text-repr-fallback {display: none;}</style><div id=\"sk-container-id-1\" class=\"sk-top-container\"><div class=\"sk-text-repr-fallback\"><pre>MLPRegressor(hidden_layer_sizes=(100, 50), max_iter=500)</pre><b>In a Jupyter environment, please rerun this cell to show the HTML representation or trust the notebook. <br />On GitHub, the HTML representation is unable to render, please try loading this page with nbviewer.org.</b></div><div class=\"sk-container\" hidden><div class=\"sk-item\"><div class=\"sk-estimator sk-toggleable\"><input class=\"sk-toggleable__control sk-hidden--visually\" id=\"sk-estimator-id-1\" type=\"checkbox\" checked><label for=\"sk-estimator-id-1\" class=\"sk-toggleable__label sk-toggleable__label-arrow\">MLPRegressor</label><div class=\"sk-toggleable__content\"><pre>MLPRegressor(hidden_layer_sizes=(100, 50), max_iter=500)</pre></div></div></div></div></div>"
            ]
          },
          "metadata": {},
          "execution_count": 14
        }
      ]
    },
    {
      "cell_type": "markdown",
      "source": [
        "##Question 6\n",
        "####Plot the train loss vs Validation loss."
      ],
      "metadata": {
        "id": "d1KletfPltrz"
      }
    },
    {
      "cell_type": "code",
      "source": [
        "# Get training loss and validation loss\n",
        "train_loss = fnn_model.loss_curve_\n",
        "validation_loss = fnn_model.loss_curve_  # Assuming scikit-learn also records validation loss\n",
        "\n",
        "# Plot the training loss vs. validation loss\n",
        "plt.plot(train_loss, label='Training Loss')\n",
        "plt.plot(validation_loss, label='Validation Loss')\n",
        "plt.xlabel('Epochs')\n",
        "plt.ylabel('Loss')\n",
        "plt.title('Training Loss vs. Validation Loss')\n",
        "plt.legend()\n",
        "plt.show()"
      ],
      "metadata": {
        "id": "e9-oa1N0lt0D",
        "outputId": "091e44ee-0940-4069-a384-406c747cdf81",
        "colab": {
          "base_uri": "https://localhost:8080/",
          "height": 472
        }
      },
      "execution_count": 16,
      "outputs": [
        {
          "output_type": "display_data",
          "data": {
            "text/plain": [
              "<Figure size 640x480 with 1 Axes>"
            ],
            "image/png": "[encoded data removed]"
          },
          "metadata": {}
        }
      ]
    }
  ]
}