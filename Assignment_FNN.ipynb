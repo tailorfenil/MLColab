{
  "nbformat": 4,
  "nbformat_minor": 0,
  "metadata": {
    "colab": {
      "provenance": [],
      "include_colab_link": true
    },
    "kernelspec": {
      "name": "python3",
      "display_name": "Python 3"
    },
    "language_info": {
      "name": "python"
    }
  },
  "cells": [
    {
      "cell_type": "markdown",
      "metadata": {
        "id": "view-in-github",
        "colab_type": "text"
      },
      "source": [
        "<a href=\"https://colab.research.google.com/github/tailorfenil/MLColab/blob/FNN_Model_Predict_Laptop_Price/Assignment_FNN.ipynb\" target=\"_parent\"><img src=\"https://colab.research.google.com/assets/colab-badge.svg\" alt=\"Open In Colab\"/></a>"
      ]
    },
    {
      "cell_type": "markdown",
      "source": [
        "# Please make a copy of this notebook and try solving the below questions in your notebook copy. Solutions for these will be discussed in the assignment review session on <day> post which, we will also share the solution notebook.\n",
        "\n",
        "\n",
        "# **Good Luck**"
      ],
      "metadata": {
        "id": "iziUCnUTlX4y"
      }
    },
    {
      "cell_type": "markdown",
      "source": [
        "#Laptops Price Dataset\n",
        "This dataset provides a comprehensive collection of information on various laptops, enabling a detailed analysis of their specifications and pricing. It encompasses a wide range of laptops, encompassing diverse brands, models, and configurations, making it a valuable resource for researchers, data analysts, and machine learning enthusiasts interested in the laptop industry.\n",
        "\n",
        "The data comes from the spanish website PC componentes. The data was collected using Power Automate, more info on: https://github.com/juanmerino89/laptops-data-cleaning\n",
        "\n",
        "####Fields included:\n",
        "\n",
        "**Laptop Name**: The unique identifier or model name of the laptop.\n",
        "**Brand**: Laptop brand.\n",
        "**Model**: Laptop brand model.\n",
        "**CPU (Central Processing Unit)**: The processor brand, model, and other relevant details.\n",
        "**GPU (Graphics Processing Unit)**: The graphics card brand, model, and associated specifications.\n",
        "**RAM (Random Access Memory)**: The amount of memory available for multitasking.\n",
        "**Storage**: The storage type (HDD, SSD) and capacity of the laptop.\n",
        "Price: The cost of the laptop in the respective currency.\n",
        "By utilizing this dataset, researchers and analysts can explore patterns, trends, and relationships between laptop specifications and their pricing. It serves as an excellent resource for tasks such as price prediction, market analysis, and comparison of different laptop configurations. Whether you are interested in identifying the most cost-effective options or understanding the impact of specific hardware components on laptop prices, this dataset offers abundant possibilities for in-depth exploration."
      ],
      "metadata": {
        "id": "dNwnV7rflZkO"
      }
    },
    {
      "cell_type": "markdown",
      "source": [
        "##Question 1\n",
        "####Import the libraries and extract the dataset from zipped file."
      ],
      "metadata": {
        "id": "qv-PQqejlidv"
      }
    },
    {
      "cell_type": "code",
      "source": [
        "#Solution 1(your code here)"
      ],
      "metadata": {
        "id": "7wDmhNuSlcfE"
      },
      "execution_count": null,
      "outputs": []
    },
    {
      "cell_type": "markdown",
      "source": [
        "##Question 2\n",
        "####Import the dataset - 'laptops.csv'"
      ],
      "metadata": {
        "id": "DPb0n3l4lkyC"
      }
    },
    {
      "cell_type": "code",
      "source": [
        "#Solution 2(your code here)"
      ],
      "metadata": {
        "id": "Bq2tOJ-ClkUb"
      },
      "execution_count": null,
      "outputs": []
    },
    {
      "cell_type": "markdown",
      "source": [
        "##Question 3\n",
        "####Perform EDA on the datsaet to understand the data."
      ],
      "metadata": {
        "id": "YptSj3i6lsXD"
      }
    },
    {
      "cell_type": "code",
      "source": [
        "#Solution 3(your code here)"
      ],
      "metadata": {
        "id": "B5nDqKbVlsoJ"
      },
      "execution_count": null,
      "outputs": []
    },
    {
      "cell_type": "markdown",
      "source": [
        "##Question 4\n",
        "####Extract the information to train the model from the dataset."
      ],
      "metadata": {
        "id": "DvILioUblsxY"
      }
    },
    {
      "cell_type": "code",
      "source": [
        "#Solution 4(your code here)"
      ],
      "metadata": {
        "id": "Do5H9H1Cls61"
      },
      "execution_count": null,
      "outputs": []
    },
    {
      "cell_type": "markdown",
      "source": [
        "##Question 5\n",
        "####Train the FNN model."
      ],
      "metadata": {
        "id": "bWsfoHXXltLR"
      }
    },
    {
      "cell_type": "code",
      "source": [
        "#Solution 5(your code here)"
      ],
      "metadata": {
        "id": "EHx1umhultTw"
      },
      "execution_count": null,
      "outputs": []
    },
    {
      "cell_type": "markdown",
      "source": [
        "##Question 6\n",
        "####Plot the train loss vs Validation loss."
      ],
      "metadata": {
        "id": "d1KletfPltrz"
      }
    },
    {
      "cell_type": "code",
      "source": [
        "#Solution 6(your code here)"
      ],
      "metadata": {
        "id": "e9-oa1N0lt0D"
      },
      "execution_count": null,
      "outputs": []
    }
  ]
}