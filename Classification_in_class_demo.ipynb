{
  "nbformat": 4,
  "nbformat_minor": 0,
  "metadata": {
    "colab": {
      "provenance": [],
      "include_colab_link": true
    },
    "kernelspec": {
      "name": "python3",
      "display_name": "Python 3"
    },
    "language_info": {
      "name": "python"
    }
  },
  "cells": [
    {
      "cell_type": "markdown",
      "metadata": {
        "id": "view-in-github",
        "colab_type": "text"
      },
      "source": [
        "<a href=\"https://colab.research.google.com/github/tailorfenil/MLColab/blob/classification/Classification_in_class_demo.ipynb\" target=\"_parent\"><img src=\"https://colab.research.google.com/assets/colab-badge.svg\" alt=\"Open In Colab\"/></a>"
      ]
    },
    {
      "cell_type": "markdown",
      "source": [
        "Problem Description:\n",
        "\n",
        "**Suppose you are a data scientist working for a lending institution that wants to improve its loan approval process. The institution has provided you with a dataset containing information about loans issued by LendingClub, an online lending platform.**\n",
        "\n",
        "\n",
        "**Your task is to analyze this dataset and develop a machine learning model that can accurately predict whether a loan application should be approved or not.**\n",
        "\n",
        "\n",
        "**By accurately predicting loan approval outcomes, your model will assist the lending institution in making informed decisions, reducing the risk of default and improving the overall loan portfolio performance.**\n",
        "\n",
        "\n",
        "**This will not only streamline the loan approval process but also enable the institution to better assess the creditworthiness of loan applicants, leading to more sound lending practices.**"
      ],
      "metadata": {
        "id": "oAWC7pNC8pZh"
      }
    },
    {
      "cell_type": "code",
      "execution_count": null,
      "metadata": {
        "colab": {
          "base_uri": "https://localhost:8080/"
        },
        "id": "wVj9FYvIqSMM",
        "outputId": "2487ea05-6ed6-4343-c491-b3e8b1aa1179"
      },
      "outputs": [
        {
          "output_type": "stream",
          "name": "stdout",
          "text": [
            "Mounted at /content/mydrive\n"
          ]
        }
      ],
      "source": [
        "#data taken from https://www.kaggle.com/datasets/husainsb/lendingclub-issued-loans"
      ]
    },
    {
      "cell_type": "markdown",
      "source": [
        "# Importing the Libararies"
      ],
      "metadata": {
        "id": "uG1Iv9v88z2e"
      }
    },
    {
      "cell_type": "code",
      "source": [
        "import pandas as pd\n",
        "import numpy as np\n",
        "from sklearn.linear_model import LogisticRegression\n",
        "from sklearn.model_selection import train_test_split\n",
        "from sklearn.metrics import accuracy_score\n",
        "from sklearn.preprocessing import PolynomialFeatures\n",
        "from sklearn.pipeline import make_pipeline"
      ],
      "metadata": {
        "id": "VHKu7B3l6zDV"
      },
      "execution_count": null,
      "outputs": []
    },
    {
      "cell_type": "markdown",
      "source": [
        "## Upload data to colab"
      ],
      "metadata": {
        "id": "-N_pntZ-2VTD"
      }
    },
    {
      "cell_type": "code",
      "source": [
        "!ls"
      ],
      "metadata": {
        "colab": {
          "base_uri": "https://localhost:8080/"
        },
        "id": "uEbTaFSz2rOd",
        "outputId": "baaf66c9-960d-4351-f63f-3f4532b07634"
      },
      "execution_count": null,
      "outputs": [
        {
          "output_type": "stream",
          "name": "stdout",
          "text": [
            "sample_data\n"
          ]
        }
      ]
    },
    {
      "cell_type": "markdown",
      "source": [
        "#upload the data provided to you into colab from file ->"
      ],
      "metadata": {
        "id": "1s3JAq_ReCfp"
      }
    },
    {
      "cell_type": "code",
      "source": [
        "import pandas as pd\n",
        "# Reading the csv\n",
        "df = pd.read_csv('/content/lc_loan.csv')\n",
        "df.head()"
      ],
      "metadata": {
        "colab": {
          "base_uri": "https://localhost:8080/",
          "height": 421
        },
        "id": "DEQV_qXr23B7",
        "outputId": "20b883c8-17e0-4592-d71b-87630972766f"
      },
      "execution_count": null,
      "outputs": [
        {
          "output_type": "stream",
          "name": "stderr",
          "text": [
            "<ipython-input-3-d01d35b7c6c9>:3: DtypeWarning: Columns (19,55) have mixed types. Specify dtype option on import or set low_memory=False.\n",
            "  df = pd.read_csv('/content/mydrive/MyDrive/TA_DEB/lc_loan.csv')\n"
          ]
        },
        {
          "output_type": "execute_result",
          "data": {
            "text/plain": [
              "        id  member_id  loan_amnt  funded_amnt  funded_amnt_inv        term  \\\n",
              "0  1077501    1296599     5000.0       5000.0           4975.0   36 months   \n",
              "1  1077430    1314167     2500.0       2500.0           2500.0   60 months   \n",
              "2  1077175    1313524     2400.0       2400.0           2400.0   36 months   \n",
              "3  1076863    1277178    10000.0      10000.0          10000.0   36 months   \n",
              "4  1075358    1311748     3000.0       3000.0           3000.0   60 months   \n",
              "\n",
              "   int_rate  installment grade sub_grade  ... total_bal_il il_util  \\\n",
              "0     10.65       162.87     B        B2  ...          NaN     NaN   \n",
              "1     15.27        59.83     C        C4  ...          NaN     NaN   \n",
              "2     15.96        84.33     C        C5  ...          NaN     NaN   \n",
              "3     13.49       339.31     C        C1  ...          NaN     NaN   \n",
              "4     12.69        67.79     B        B5  ...          NaN     NaN   \n",
              "\n",
              "  open_rv_12m  open_rv_24m max_bal_bc all_util total_rev_hi_lim inq_fi  \\\n",
              "0         NaN          NaN        NaN      NaN              NaN    NaN   \n",
              "1         NaN          NaN        NaN      NaN              NaN    NaN   \n",
              "2         NaN          NaN        NaN      NaN              NaN    NaN   \n",
              "3         NaN          NaN        NaN      NaN              NaN    NaN   \n",
              "4         NaN          NaN        NaN      NaN              NaN    NaN   \n",
              "\n",
              "  total_cu_tl inq_last_12m  \n",
              "0         NaN          NaN  \n",
              "1         NaN          NaN  \n",
              "2         NaN          NaN  \n",
              "3         NaN          NaN  \n",
              "4         NaN          NaN  \n",
              "\n",
              "[5 rows x 74 columns]"
            ],
            "text/html": [
              "\n",
              "  <div id=\"df-1d0607ab-09b8-4c42-949f-9729f0c74a20\">\n",
              "    <div class=\"colab-df-container\">\n",
              "      <div>\n",
              "<style scoped>\n",
              "    .dataframe tbody tr th:only-of-type {\n",
              "        vertical-align: middle;\n",
              "    }\n",
              "\n",
              "    .dataframe tbody tr th {\n",
              "        vertical-align: top;\n",
              "    }\n",
              "\n",
              "    .dataframe thead th {\n",
              "        text-align: right;\n",
              "    }\n",
              "</style>\n",
              "<table border=\"1\" class=\"dataframe\">\n",
              "  <thead>\n",
              "    <tr style=\"text-align: right;\">\n",
              "      <th></th>\n",
              "      <th>id</th>\n",
              "      <th>member_id</th>\n",
              "      <th>loan_amnt</th>\n",
              "      <th>funded_amnt</th>\n",
              "      <th>funded_amnt_inv</th>\n",
              "      <th>term</th>\n",
              "      <th>int_rate</th>\n",
              "      <th>installment</th>\n",
              "      <th>grade</th>\n",
              "      <th>sub_grade</th>\n",
              "      <th>...</th>\n",
              "      <th>total_bal_il</th>\n",
              "      <th>il_util</th>\n",
              "      <th>open_rv_12m</th>\n",
              "      <th>open_rv_24m</th>\n",
              "      <th>max_bal_bc</th>\n",
              "      <th>all_util</th>\n",
              "      <th>total_rev_hi_lim</th>\n",
              "      <th>inq_fi</th>\n",
              "      <th>total_cu_tl</th>\n",
              "      <th>inq_last_12m</th>\n",
              "    </tr>\n",
              "  </thead>\n",
              "  <tbody>\n",
              "    <tr>\n",
              "      <th>0</th>\n",
              "      <td>1077501</td>\n",
              "      <td>1296599</td>\n",
              "      <td>5000.0</td>\n",
              "      <td>5000.0</td>\n",
              "      <td>4975.0</td>\n",
              "      <td>36 months</td>\n",
              "      <td>10.65</td>\n",
              "      <td>162.87</td>\n",
              "      <td>B</td>\n",
              "      <td>B2</td>\n",
              "      <td>...</td>\n",
              "      <td>NaN</td>\n",
              "      <td>NaN</td>\n",
              "      <td>NaN</td>\n",
              "      <td>NaN</td>\n",
              "      <td>NaN</td>\n",
              "      <td>NaN</td>\n",
              "      <td>NaN</td>\n",
              "      <td>NaN</td>\n",
              "      <td>NaN</td>\n",
              "      <td>NaN</td>\n",
              "    </tr>\n",
              "    <tr>\n",
              "      <th>1</th>\n",
              "      <td>1077430</td>\n",
              "      <td>1314167</td>\n",
              "      <td>2500.0</td>\n",
              "      <td>2500.0</td>\n",
              "      <td>2500.0</td>\n",
              "      <td>60 months</td>\n",
              "      <td>15.27</td>\n",
              "      <td>59.83</td>\n",
              "      <td>C</td>\n",
              "      <td>C4</td>\n",
              "      <td>...</td>\n",
              "      <td>NaN</td>\n",
              "      <td>NaN</td>\n",
              "      <td>NaN</td>\n",
              "      <td>NaN</td>\n",
              "      <td>NaN</td>\n",
              "      <td>NaN</td>\n",
              "      <td>NaN</td>\n",
              "      <td>NaN</td>\n",
              "      <td>NaN</td>\n",
              "      <td>NaN</td>\n",
              "    </tr>\n",
              "    <tr>\n",
              "      <th>2</th>\n",
              "      <td>1077175</td>\n",
              "      <td>1313524</td>\n",
              "      <td>2400.0</td>\n",
              "      <td>2400.0</td>\n",
              "      <td>2400.0</td>\n",
              "      <td>36 months</td>\n",
              "      <td>15.96</td>\n",
              "      <td>84.33</td>\n",
              "      <td>C</td>\n",
              "      <td>C5</td>\n",
              "      <td>...</td>\n",
              "      <td>NaN</td>\n",
              "      <td>NaN</td>\n",
              "      <td>NaN</td>\n",
              "      <td>NaN</td>\n",
              "      <td>NaN</td>\n",
              "      <td>NaN</td>\n",
              "      <td>NaN</td>\n",
              "      <td>NaN</td>\n",
              "      <td>NaN</td>\n",
              "      <td>NaN</td>\n",
              "    </tr>\n",
              "    <tr>\n",
              "      <th>3</th>\n",
              "      <td>1076863</td>\n",
              "      <td>1277178</td>\n",
              "      <td>10000.0</td>\n",
              "      <td>10000.0</td>\n",
              "      <td>10000.0</td>\n",
              "      <td>36 months</td>\n",
              "      <td>13.49</td>\n",
              "      <td>339.31</td>\n",
              "      <td>C</td>\n",
              "      <td>C1</td>\n",
              "      <td>...</td>\n",
              "      <td>NaN</td>\n",
              "      <td>NaN</td>\n",
              "      <td>NaN</td>\n",
              "      <td>NaN</td>\n",
              "      <td>NaN</td>\n",
              "      <td>NaN</td>\n",
              "      <td>NaN</td>\n",
              "      <td>NaN</td>\n",
              "      <td>NaN</td>\n",
              "      <td>NaN</td>\n",
              "    </tr>\n",
              "    <tr>\n",
              "      <th>4</th>\n",
              "      <td>1075358</td>\n",
              "      <td>1311748</td>\n",
              "      <td>3000.0</td>\n",
              "      <td>3000.0</td>\n",
              "      <td>3000.0</td>\n",
              "      <td>60 months</td>\n",
              "      <td>12.69</td>\n",
              "      <td>67.79</td>\n",
              "      <td>B</td>\n",
              "      <td>B5</td>\n",
              "      <td>...</td>\n",
              "      <td>NaN</td>\n",
              "      <td>NaN</td>\n",
              "      <td>NaN</td>\n",
              "      <td>NaN</td>\n",
              "      <td>NaN</td>\n",
              "      <td>NaN</td>\n",
              "      <td>NaN</td>\n",
              "      <td>NaN</td>\n",
              "      <td>NaN</td>\n",
              "      <td>NaN</td>\n",
              "    </tr>\n",
              "  </tbody>\n",
              "</table>\n",
              "<p>5 rows × 74 columns</p>\n",
              "</div>\n",
              "      <button class=\"colab-df-convert\" onclick=\"convertToInteractive('df-1d0607ab-09b8-4c42-949f-9729f0c74a20')\"\n",
              "              title=\"Convert this dataframe to an interactive table.\"\n",
              "              style=\"display:none;\">\n",
              "        \n",
              "  <svg xmlns=\"http://www.w3.org/2000/svg\" height=\"24px\"viewBox=\"0 0 24 24\"\n",
              "       width=\"24px\">\n",
              "    <path d=\"M0 0h24v24H0V0z\" fill=\"none\"/>\n",
              "    <path d=\"M18.56 5.44l.94 2.06.94-2.06 2.06-.94-2.06-.94-.94-2.06-.94 2.06-2.06.94zm-11 1L8.5 8.5l.94-2.06 2.06-.94-2.06-.94L8.5 2.5l-.94 2.06-2.06.94zm10 10l.94 2.06.94-2.06 2.06-.94-2.06-.94-.94-2.06-.94 2.06-2.06.94z\"/><path d=\"M17.41 7.96l-1.37-1.37c-.4-.4-.92-.59-1.43-.59-.52 0-1.04.2-1.43.59L10.3 9.45l-7.72 7.72c-.78.78-.78 2.05 0 2.83L4 21.41c.39.39.9.59 1.41.59.51 0 1.02-.2 1.41-.59l7.78-7.78 2.81-2.81c.8-.78.8-2.07 0-2.86zM5.41 20L4 18.59l7.72-7.72 1.47 1.35L5.41 20z\"/>\n",
              "  </svg>\n",
              "      </button>\n",
              "      \n",
              "  <style>\n",
              "    .colab-df-container {\n",
              "      display:flex;\n",
              "      flex-wrap:wrap;\n",
              "      gap: 12px;\n",
              "    }\n",
              "\n",
              "    .colab-df-convert {\n",
              "      background-color: #E8F0FE;\n",
              "      border: none;\n",
              "      border-radius: 50%;\n",
              "      cursor: pointer;\n",
              "      display: none;\n",
              "      fill: #1967D2;\n",
              "      height: 32px;\n",
              "      padding: 0 0 0 0;\n",
              "      width: 32px;\n",
              "    }\n",
              "\n",
              "    .colab-df-convert:hover {\n",
              "      background-color: #E2EBFA;\n",
              "      box-shadow: 0px 1px 2px rgba(60, 64, 67, 0.3), 0px 1px 3px 1px rgba(60, 64, 67, 0.15);\n",
              "      fill: #174EA6;\n",
              "    }\n",
              "\n",
              "    [theme=dark] .colab-df-convert {\n",
              "      background-color: #3B4455;\n",
              "      fill: #D2E3FC;\n",
              "    }\n",
              "\n",
              "    [theme=dark] .colab-df-convert:hover {\n",
              "      background-color: #434B5C;\n",
              "      box-shadow: 0px 1px 3px 1px rgba(0, 0, 0, 0.15);\n",
              "      filter: drop-shadow(0px 1px 2px rgba(0, 0, 0, 0.3));\n",
              "      fill: #FFFFFF;\n",
              "    }\n",
              "  </style>\n",
              "\n",
              "      <script>\n",
              "        const buttonEl =\n",
              "          document.querySelector('#df-1d0607ab-09b8-4c42-949f-9729f0c74a20 button.colab-df-convert');\n",
              "        buttonEl.style.display =\n",
              "          google.colab.kernel.accessAllowed ? 'block' : 'none';\n",
              "\n",
              "        async function convertToInteractive(key) {\n",
              "          const element = document.querySelector('#df-1d0607ab-09b8-4c42-949f-9729f0c74a20');\n",
              "          const dataTable =\n",
              "            await google.colab.kernel.invokeFunction('convertToInteractive',\n",
              "                                                     [key], {});\n",
              "          if (!dataTable) return;\n",
              "\n",
              "          const docLinkHtml = 'Like what you see? Visit the ' +\n",
              "            '<a target=\"_blank\" href=https://colab.research.google.com/notebooks/data_table.ipynb>data table notebook</a>'\n",
              "            + ' to learn more about interactive tables.';\n",
              "          element.innerHTML = '';\n",
              "          dataTable['output_type'] = 'display_data';\n",
              "          await google.colab.output.renderOutput(dataTable, element);\n",
              "          const docLink = document.createElement('div');\n",
              "          docLink.innerHTML = docLinkHtml;\n",
              "          element.appendChild(docLink);\n",
              "        }\n",
              "      </script>\n",
              "    </div>\n",
              "  </div>\n",
              "  "
            ]
          },
          "metadata": {},
          "execution_count": 3
        }
      ]
    },
    {
      "cell_type": "code",
      "source": [
        "# from google.colab import drive\n",
        "# drive.mount('/content/drive')"
      ],
      "metadata": {
        "id": "0FPIuw_13FC8"
      },
      "execution_count": null,
      "outputs": []
    },
    {
      "cell_type": "markdown",
      "source": [
        "## Data Introduction"
      ],
      "metadata": {
        "id": "AvE-TY8vpB5A"
      }
    },
    {
      "cell_type": "markdown",
      "source": [
        "Let's see what features we got from the data. We need to analyse the features"
      ],
      "metadata": {
        "id": "yDAdh-GtVq6L"
      }
    },
    {
      "cell_type": "code",
      "source": [
        "df.columns"
      ],
      "metadata": {
        "colab": {
          "base_uri": "https://localhost:8080/"
        },
        "id": "_UmQJs7d35XY",
        "outputId": "db1bee01-1209-489b-a53d-2c1ea16d81ec"
      },
      "execution_count": null,
      "outputs": [
        {
          "output_type": "execute_result",
          "data": {
            "text/plain": [
              "Index(['id', 'member_id', 'loan_amnt', 'funded_amnt', 'funded_amnt_inv',\n",
              "       'term', 'int_rate', 'installment', 'grade', 'sub_grade', 'emp_title',\n",
              "       'emp_length', 'home_ownership', 'annual_inc', 'verification_status',\n",
              "       'issue_d', 'loan_status', 'pymnt_plan', 'url', 'desc', 'purpose',\n",
              "       'title', 'zip_code', 'addr_state', 'dti', 'delinq_2yrs',\n",
              "       'earliest_cr_line', 'inq_last_6mths', 'mths_since_last_delinq',\n",
              "       'mths_since_last_record', 'open_acc', 'pub_rec', 'revol_bal',\n",
              "       'revol_util', 'total_acc', 'initial_list_status', 'out_prncp',\n",
              "       'out_prncp_inv', 'total_pymnt', 'total_pymnt_inv', 'total_rec_prncp',\n",
              "       'total_rec_int', 'total_rec_late_fee', 'recoveries',\n",
              "       'collection_recovery_fee', 'last_pymnt_d', 'last_pymnt_amnt',\n",
              "       'next_pymnt_d', 'last_credit_pull_d', 'collections_12_mths_ex_med',\n",
              "       'mths_since_last_major_derog', 'policy_code', 'application_type',\n",
              "       'annual_inc_joint', 'dti_joint', 'verification_status_joint',\n",
              "       'acc_now_delinq', 'tot_coll_amt', 'tot_cur_bal', 'open_acc_6m',\n",
              "       'open_il_6m', 'open_il_12m', 'open_il_24m', 'mths_since_rcnt_il',\n",
              "       'total_bal_il', 'il_util', 'open_rv_12m', 'open_rv_24m', 'max_bal_bc',\n",
              "       'all_util', 'total_rev_hi_lim', 'inq_fi', 'total_cu_tl',\n",
              "       'inq_last_12m'],\n",
              "      dtype='object')"
            ]
          },
          "metadata": {},
          "execution_count": 4
        }
      ]
    },
    {
      "cell_type": "markdown",
      "source": [
        "We have around 65-70 features when the id and prediction columns are removed"
      ],
      "metadata": {
        "id": "Om9YAMG024TA"
      }
    },
    {
      "cell_type": "code",
      "source": [
        "df.shape"
      ],
      "metadata": {
        "colab": {
          "base_uri": "https://localhost:8080/"
        },
        "id": "a75S2sMR7-Iw",
        "outputId": "95bb7e36-d5e3-4e38-bea7-6ae76079f2ae"
      },
      "execution_count": null,
      "outputs": [
        {
          "output_type": "execute_result",
          "data": {
            "text/plain": [
              "(887379, 74)"
            ]
          },
          "metadata": {},
          "execution_count": 5
        }
      ]
    },
    {
      "cell_type": "code",
      "source": [
        "df.isna().sum()"
      ],
      "metadata": {
        "colab": {
          "base_uri": "https://localhost:8080/"
        },
        "id": "vTgCWlxX8Ilt",
        "outputId": "9c4c8f90-1a2e-491a-fea1-0da005516cc6"
      },
      "execution_count": null,
      "outputs": [
        {
          "output_type": "execute_result",
          "data": {
            "text/plain": [
              "id                       0\n",
              "member_id                0\n",
              "loan_amnt                0\n",
              "funded_amnt              0\n",
              "funded_amnt_inv          0\n",
              "                     ...  \n",
              "all_util            866007\n",
              "total_rev_hi_lim     70276\n",
              "inq_fi              866007\n",
              "total_cu_tl         866007\n",
              "inq_last_12m        866007\n",
              "Length: 74, dtype: int64"
            ]
          },
          "metadata": {},
          "execution_count": 6
        }
      ]
    },
    {
      "cell_type": "markdown",
      "source": [
        "Calculating the percentage of missing value in the data\n",
        "\n",
        "Let's see how much missing values are there"
      ],
      "metadata": {
        "id": "PmaWxBaqjQ7C"
      }
    },
    {
      "cell_type": "code",
      "source": [
        "# Calculate the percentage of missing values in df_read\n",
        "percentage_missing = df.isnull().sum() / len(df) * 100\n",
        "\n",
        "# Create a new DataFrame with columns from df and index set to None\n",
        "new_df = pd.DataFrame(columns=df.columns, index=None)\n",
        "pd.set_option('display.max_columns', None)\n",
        "\n",
        "# Creating new Percentage index\n",
        "new_df.loc['Percentage'] = percentage_missing.values\n",
        "new_df"
      ],
      "metadata": {
        "colab": {
          "base_uri": "https://localhost:8080/",
          "height": 145
        },
        "id": "LY53ofis9g6C",
        "outputId": "da0c4a40-43d9-4037-be57-72b6e7ab9148"
      },
      "execution_count": null,
      "outputs": [
        {
          "output_type": "execute_result",
          "data": {
            "text/plain": [
              "             id  member_id  loan_amnt  funded_amnt  funded_amnt_inv  term  \\\n",
              "Percentage  0.0        0.0        0.0          0.0              0.0   0.0   \n",
              "\n",
              "            int_rate  installment  grade  sub_grade  emp_title  emp_length  \\\n",
              "Percentage       0.0          0.0    0.0        0.0   5.799326    5.051393   \n",
              "\n",
              "            home_ownership  annual_inc  verification_status  issue_d  \\\n",
              "Percentage             0.0    0.000451                  0.0      0.0   \n",
              "\n",
              "            loan_status  pymnt_plan  url       desc  purpose     title  \\\n",
              "Percentage          0.0         0.0  0.0  85.797726      0.0  0.017129   \n",
              "\n",
              "            zip_code  addr_state  dti  delinq_2yrs  earliest_cr_line  \\\n",
              "Percentage       0.0         0.0  0.0     0.003268          0.003268   \n",
              "\n",
              "            inq_last_6mths  mths_since_last_delinq  mths_since_last_record  \\\n",
              "Percentage        0.003268               51.197065               84.555303   \n",
              "\n",
              "            open_acc   pub_rec  revol_bal  revol_util  total_acc  \\\n",
              "Percentage  0.003268  0.003268        0.0    0.056571   0.003268   \n",
              "\n",
              "            initial_list_status  out_prncp  out_prncp_inv  total_pymnt  \\\n",
              "Percentage                  0.0        0.0            0.0          0.0   \n",
              "\n",
              "            total_pymnt_inv  total_rec_prncp  total_rec_int  \\\n",
              "Percentage              0.0              0.0            0.0   \n",
              "\n",
              "            total_rec_late_fee  recoveries  collection_recovery_fee  \\\n",
              "Percentage                 0.0         0.0                      0.0   \n",
              "\n",
              "            last_pymnt_d  last_pymnt_amnt  next_pymnt_d  last_credit_pull_d  \\\n",
              "Percentage      1.990018              0.0     28.507661            0.005973   \n",
              "\n",
              "            collections_12_mths_ex_med  mths_since_last_major_derog  \\\n",
              "Percentage                     0.01634                    75.015974   \n",
              "\n",
              "            policy_code  application_type  annual_inc_joint  dti_joint  \\\n",
              "Percentage          0.0               0.0         99.942415   99.94264   \n",
              "\n",
              "            verification_status_joint  acc_now_delinq  tot_coll_amt  \\\n",
              "Percentage                  99.942415        0.003268      7.919502   \n",
              "\n",
              "            tot_cur_bal  open_acc_6m  open_il_6m  open_il_12m  open_il_24m  \\\n",
              "Percentage     7.919502    97.591559   97.591559    97.591559    97.591559   \n",
              "\n",
              "            mths_since_rcnt_il  total_bal_il    il_util  open_rv_12m  \\\n",
              "Percentage           97.654892     97.591559  97.902024    97.591559   \n",
              "\n",
              "            open_rv_24m  max_bal_bc   all_util  total_rev_hi_lim     inq_fi  \\\n",
              "Percentage    97.591559   97.591559  97.591559          7.919502  97.591559   \n",
              "\n",
              "            total_cu_tl  inq_last_12m  \n",
              "Percentage    97.591559     97.591559  "
            ],
            "text/html": [
              "\n",
              "  <div id=\"df-d02d77cb-4aa3-44a0-b7cb-0f8aa7a17800\">\n",
              "    <div class=\"colab-df-container\">\n",
              "      <div>\n",
              "<style scoped>\n",
              "    .dataframe tbody tr th:only-of-type {\n",
              "        vertical-align: middle;\n",
              "    }\n",
              "\n",
              "    .dataframe tbody tr th {\n",
              "        vertical-align: top;\n",
              "    }\n",
              "\n",
              "    .dataframe thead th {\n",
              "        text-align: right;\n",
              "    }\n",
              "</style>\n",
              "<table border=\"1\" class=\"dataframe\">\n",
              "  <thead>\n",
              "    <tr style=\"text-align: right;\">\n",
              "      <th></th>\n",
              "      <th>id</th>\n",
              "      <th>member_id</th>\n",
              "      <th>loan_amnt</th>\n",
              "      <th>funded_amnt</th>\n",
              "      <th>funded_amnt_inv</th>\n",
              "      <th>term</th>\n",
              "      <th>int_rate</th>\n",
              "      <th>installment</th>\n",
              "      <th>grade</th>\n",
              "      <th>sub_grade</th>\n",
              "      <th>emp_title</th>\n",
              "      <th>emp_length</th>\n",
              "      <th>home_ownership</th>\n",
              "      <th>annual_inc</th>\n",
              "      <th>verification_status</th>\n",
              "      <th>issue_d</th>\n",
              "      <th>loan_status</th>\n",
              "      <th>pymnt_plan</th>\n",
              "      <th>url</th>\n",
              "      <th>desc</th>\n",
              "      <th>purpose</th>\n",
              "      <th>title</th>\n",
              "      <th>zip_code</th>\n",
              "      <th>addr_state</th>\n",
              "      <th>dti</th>\n",
              "      <th>delinq_2yrs</th>\n",
              "      <th>earliest_cr_line</th>\n",
              "      <th>inq_last_6mths</th>\n",
              "      <th>mths_since_last_delinq</th>\n",
              "      <th>mths_since_last_record</th>\n",
              "      <th>open_acc</th>\n",
              "      <th>pub_rec</th>\n",
              "      <th>revol_bal</th>\n",
              "      <th>revol_util</th>\n",
              "      <th>total_acc</th>\n",
              "      <th>initial_list_status</th>\n",
              "      <th>out_prncp</th>\n",
              "      <th>out_prncp_inv</th>\n",
              "      <th>total_pymnt</th>\n",
              "      <th>total_pymnt_inv</th>\n",
              "      <th>total_rec_prncp</th>\n",
              "      <th>total_rec_int</th>\n",
              "      <th>total_rec_late_fee</th>\n",
              "      <th>recoveries</th>\n",
              "      <th>collection_recovery_fee</th>\n",
              "      <th>last_pymnt_d</th>\n",
              "      <th>last_pymnt_amnt</th>\n",
              "      <th>next_pymnt_d</th>\n",
              "      <th>last_credit_pull_d</th>\n",
              "      <th>collections_12_mths_ex_med</th>\n",
              "      <th>mths_since_last_major_derog</th>\n",
              "      <th>policy_code</th>\n",
              "      <th>application_type</th>\n",
              "      <th>annual_inc_joint</th>\n",
              "      <th>dti_joint</th>\n",
              "      <th>verification_status_joint</th>\n",
              "      <th>acc_now_delinq</th>\n",
              "      <th>tot_coll_amt</th>\n",
              "      <th>tot_cur_bal</th>\n",
              "      <th>open_acc_6m</th>\n",
              "      <th>open_il_6m</th>\n",
              "      <th>open_il_12m</th>\n",
              "      <th>open_il_24m</th>\n",
              "      <th>mths_since_rcnt_il</th>\n",
              "      <th>total_bal_il</th>\n",
              "      <th>il_util</th>\n",
              "      <th>open_rv_12m</th>\n",
              "      <th>open_rv_24m</th>\n",
              "      <th>max_bal_bc</th>\n",
              "      <th>all_util</th>\n",
              "      <th>total_rev_hi_lim</th>\n",
              "      <th>inq_fi</th>\n",
              "      <th>total_cu_tl</th>\n",
              "      <th>inq_last_12m</th>\n",
              "    </tr>\n",
              "  </thead>\n",
              "  <tbody>\n",
              "    <tr>\n",
              "      <th>Percentage</th>\n",
              "      <td>0.0</td>\n",
              "      <td>0.0</td>\n",
              "      <td>0.0</td>\n",
              "      <td>0.0</td>\n",
              "      <td>0.0</td>\n",
              "      <td>0.0</td>\n",
              "      <td>0.0</td>\n",
              "      <td>0.0</td>\n",
              "      <td>0.0</td>\n",
              "      <td>0.0</td>\n",
              "      <td>5.799326</td>\n",
              "      <td>5.051393</td>\n",
              "      <td>0.0</td>\n",
              "      <td>0.000451</td>\n",
              "      <td>0.0</td>\n",
              "      <td>0.0</td>\n",
              "      <td>0.0</td>\n",
              "      <td>0.0</td>\n",
              "      <td>0.0</td>\n",
              "      <td>85.797726</td>\n",
              "      <td>0.0</td>\n",
              "      <td>0.017129</td>\n",
              "      <td>0.0</td>\n",
              "      <td>0.0</td>\n",
              "      <td>0.0</td>\n",
              "      <td>0.003268</td>\n",
              "      <td>0.003268</td>\n",
              "      <td>0.003268</td>\n",
              "      <td>51.197065</td>\n",
              "      <td>84.555303</td>\n",
              "      <td>0.003268</td>\n",
              "      <td>0.003268</td>\n",
              "      <td>0.0</td>\n",
              "      <td>0.056571</td>\n",
              "      <td>0.003268</td>\n",
              "      <td>0.0</td>\n",
              "      <td>0.0</td>\n",
              "      <td>0.0</td>\n",
              "      <td>0.0</td>\n",
              "      <td>0.0</td>\n",
              "      <td>0.0</td>\n",
              "      <td>0.0</td>\n",
              "      <td>0.0</td>\n",
              "      <td>0.0</td>\n",
              "      <td>0.0</td>\n",
              "      <td>1.990018</td>\n",
              "      <td>0.0</td>\n",
              "      <td>28.507661</td>\n",
              "      <td>0.005973</td>\n",
              "      <td>0.01634</td>\n",
              "      <td>75.015974</td>\n",
              "      <td>0.0</td>\n",
              "      <td>0.0</td>\n",
              "      <td>99.942415</td>\n",
              "      <td>99.94264</td>\n",
              "      <td>99.942415</td>\n",
              "      <td>0.003268</td>\n",
              "      <td>7.919502</td>\n",
              "      <td>7.919502</td>\n",
              "      <td>97.591559</td>\n",
              "      <td>97.591559</td>\n",
              "      <td>97.591559</td>\n",
              "      <td>97.591559</td>\n",
              "      <td>97.654892</td>\n",
              "      <td>97.591559</td>\n",
              "      <td>97.902024</td>\n",
              "      <td>97.591559</td>\n",
              "      <td>97.591559</td>\n",
              "      <td>97.591559</td>\n",
              "      <td>97.591559</td>\n",
              "      <td>7.919502</td>\n",
              "      <td>97.591559</td>\n",
              "      <td>97.591559</td>\n",
              "      <td>97.591559</td>\n",
              "    </tr>\n",
              "  </tbody>\n",
              "</table>\n",
              "</div>\n",
              "      <button class=\"colab-df-convert\" onclick=\"convertToInteractive('df-d02d77cb-4aa3-44a0-b7cb-0f8aa7a17800')\"\n",
              "              title=\"Convert this dataframe to an interactive table.\"\n",
              "              style=\"display:none;\">\n",
              "        \n",
              "  <svg xmlns=\"http://www.w3.org/2000/svg\" height=\"24px\"viewBox=\"0 0 24 24\"\n",
              "       width=\"24px\">\n",
              "    <path d=\"M0 0h24v24H0V0z\" fill=\"none\"/>\n",
              "    <path d=\"M18.56 5.44l.94 2.06.94-2.06 2.06-.94-2.06-.94-.94-2.06-.94 2.06-2.06.94zm-11 1L8.5 8.5l.94-2.06 2.06-.94-2.06-.94L8.5 2.5l-.94 2.06-2.06.94zm10 10l.94 2.06.94-2.06 2.06-.94-2.06-.94-.94-2.06-.94 2.06-2.06.94z\"/><path d=\"M17.41 7.96l-1.37-1.37c-.4-.4-.92-.59-1.43-.59-.52 0-1.04.2-1.43.59L10.3 9.45l-7.72 7.72c-.78.78-.78 2.05 0 2.83L4 21.41c.39.39.9.59 1.41.59.51 0 1.02-.2 1.41-.59l7.78-7.78 2.81-2.81c.8-.78.8-2.07 0-2.86zM5.41 20L4 18.59l7.72-7.72 1.47 1.35L5.41 20z\"/>\n",
              "  </svg>\n",
              "      </button>\n",
              "      \n",
              "  <style>\n",
              "    .colab-df-container {\n",
              "      display:flex;\n",
              "      flex-wrap:wrap;\n",
              "      gap: 12px;\n",
              "    }\n",
              "\n",
              "    .colab-df-convert {\n",
              "      background-color: #E8F0FE;\n",
              "      border: none;\n",
              "      border-radius: 50%;\n",
              "      cursor: pointer;\n",
              "      display: none;\n",
              "      fill: #1967D2;\n",
              "      height: 32px;\n",
              "      padding: 0 0 0 0;\n",
              "      width: 32px;\n",
              "    }\n",
              "\n",
              "    .colab-df-convert:hover {\n",
              "      background-color: #E2EBFA;\n",
              "      box-shadow: 0px 1px 2px rgba(60, 64, 67, 0.3), 0px 1px 3px 1px rgba(60, 64, 67, 0.15);\n",
              "      fill: #174EA6;\n",
              "    }\n",
              "\n",
              "    [theme=dark] .colab-df-convert {\n",
              "      background-color: #3B4455;\n",
              "      fill: #D2E3FC;\n",
              "    }\n",
              "\n",
              "    [theme=dark] .colab-df-convert:hover {\n",
              "      background-color: #434B5C;\n",
              "      box-shadow: 0px 1px 3px 1px rgba(0, 0, 0, 0.15);\n",
              "      filter: drop-shadow(0px 1px 2px rgba(0, 0, 0, 0.3));\n",
              "      fill: #FFFFFF;\n",
              "    }\n",
              "  </style>\n",
              "\n",
              "      <script>\n",
              "        const buttonEl =\n",
              "          document.querySelector('#df-d02d77cb-4aa3-44a0-b7cb-0f8aa7a17800 button.colab-df-convert');\n",
              "        buttonEl.style.display =\n",
              "          google.colab.kernel.accessAllowed ? 'block' : 'none';\n",
              "\n",
              "        async function convertToInteractive(key) {\n",
              "          const element = document.querySelector('#df-d02d77cb-4aa3-44a0-b7cb-0f8aa7a17800');\n",
              "          const dataTable =\n",
              "            await google.colab.kernel.invokeFunction('convertToInteractive',\n",
              "                                                     [key], {});\n",
              "          if (!dataTable) return;\n",
              "\n",
              "          const docLinkHtml = 'Like what you see? Visit the ' +\n",
              "            '<a target=\"_blank\" href=https://colab.research.google.com/notebooks/data_table.ipynb>data table notebook</a>'\n",
              "            + ' to learn more about interactive tables.';\n",
              "          element.innerHTML = '';\n",
              "          dataTable['output_type'] = 'display_data';\n",
              "          await google.colab.output.renderOutput(dataTable, element);\n",
              "          const docLink = document.createElement('div');\n",
              "          docLink.innerHTML = docLinkHtml;\n",
              "          element.appendChild(docLink);\n",
              "        }\n",
              "      </script>\n",
              "    </div>\n",
              "  </div>\n",
              "  "
            ]
          },
          "metadata": {},
          "execution_count": 7
        }
      ]
    },
    {
      "cell_type": "markdown",
      "source": [
        "Missing values can have a significant impact on the performance and reliability of machine learning models.\n",
        "\n",
        "How to handle the missing value that is completely dependent on the problem you have.\n",
        "\n",
        "Here, we will keep only those features which has less than of 20% missing values."
      ],
      "metadata": {
        "id": "OJbxh40SjfSx"
      }
    },
    {
      "cell_type": "code",
      "source": [
        "# Keeping only those features with less than 20% of missing values\n",
        "features_to_keep = df.columns[((df.isnull().sum()/len(df))*100 < 20)].to_list()\n",
        "print(\"Total features before:\",len(df.columns))\n",
        "print(\"Total features now:\",len(features_to_keep))"
      ],
      "metadata": {
        "colab": {
          "base_uri": "https://localhost:8080/"
        },
        "id": "YpVHRNi0_crw",
        "outputId": "7a24e188-ebde-41d6-9b89-18b90e368f6d"
      },
      "execution_count": null,
      "outputs": [
        {
          "output_type": "stream",
          "name": "stdout",
          "text": [
            "Total features before: 74\n",
            "Total features now: 52\n"
          ]
        }
      ]
    },
    {
      "cell_type": "markdown",
      "source": [
        "Only keeping those features with lees than of 20% missing value"
      ],
      "metadata": {
        "id": "270TIRYaak_Q"
      }
    },
    {
      "cell_type": "code",
      "source": [
        "df1=df[features_to_keep]\n",
        "df1.shape"
      ],
      "metadata": {
        "colab": {
          "base_uri": "https://localhost:8080/"
        },
        "id": "6aUyp84gOhCv",
        "outputId": "d793d2fa-add3-4df5-8e04-84cc99319b2f"
      },
      "execution_count": null,
      "outputs": [
        {
          "output_type": "execute_result",
          "data": {
            "text/plain": [
              "(887379, 52)"
            ]
          },
          "metadata": {},
          "execution_count": 9
        }
      ]
    },
    {
      "cell_type": "markdown",
      "source": [
        "List of 21 features"
      ],
      "metadata": {
        "id": "nKBFcTs0a0KW"
      }
    },
    {
      "cell_type": "code",
      "source": [
        "features=['loan_amnt','term', 'int_rate', 'installment', 'grade', 'sub_grade','emp_length','home_ownership',\n",
        "                'annual_inc','verification_status','purpose','dti','delinq_2yrs','inq_last_6mths','open_acc',\n",
        "                'pub_rec','revol_bal','revol_util','total_acc','last_pymnt_amnt','loan_status']\n",
        "print(len(features))"
      ],
      "metadata": {
        "colab": {
          "base_uri": "https://localhost:8080/"
        },
        "id": "DmaCwWbnEeCr",
        "outputId": "74e6f7bb-36c7-439e-a82a-b2023820b875"
      },
      "execution_count": null,
      "outputs": [
        {
          "output_type": "stream",
          "name": "stdout",
          "text": [
            "21\n"
          ]
        }
      ]
    },
    {
      "cell_type": "markdown",
      "source": [
        "Keeping only those 21 features"
      ],
      "metadata": {
        "id": "W1I2GiY9a5hX"
      }
    },
    {
      "cell_type": "code",
      "source": [
        "df=df1[features]\n",
        "print(\"Shape of the dataset:\",df.shape)\n",
        "df.head()"
      ],
      "metadata": {
        "colab": {
          "base_uri": "https://localhost:8080/",
          "height": 374
        },
        "id": "Sgj0ye3AN_eX",
        "outputId": "0ebaafe5-8876-49df-9641-63db9cc8ab36"
      },
      "execution_count": null,
      "outputs": [
        {
          "output_type": "stream",
          "name": "stdout",
          "text": [
            "Shape of the dataset: (887379, 21)\n"
          ]
        },
        {
          "output_type": "execute_result",
          "data": {
            "text/plain": [
              "   loan_amnt        term  int_rate  installment grade sub_grade emp_length  \\\n",
              "0     5000.0   36 months     10.65       162.87     B        B2  10+ years   \n",
              "1     2500.0   60 months     15.27        59.83     C        C4   < 1 year   \n",
              "2     2400.0   36 months     15.96        84.33     C        C5  10+ years   \n",
              "3    10000.0   36 months     13.49       339.31     C        C1  10+ years   \n",
              "4     3000.0   60 months     12.69        67.79     B        B5     1 year   \n",
              "\n",
              "  home_ownership  annual_inc verification_status         purpose    dti  \\\n",
              "0           RENT     24000.0            Verified     credit_card  27.65   \n",
              "1           RENT     30000.0     Source Verified             car   1.00   \n",
              "2           RENT     12252.0        Not Verified  small_business   8.72   \n",
              "3           RENT     49200.0     Source Verified           other  20.00   \n",
              "4           RENT     80000.0     Source Verified           other  17.94   \n",
              "\n",
              "   delinq_2yrs  inq_last_6mths  open_acc  pub_rec  revol_bal  revol_util  \\\n",
              "0          0.0             1.0       3.0      0.0    13648.0        83.7   \n",
              "1          0.0             5.0       3.0      0.0     1687.0         9.4   \n",
              "2          0.0             2.0       2.0      0.0     2956.0        98.5   \n",
              "3          0.0             1.0      10.0      0.0     5598.0        21.0   \n",
              "4          0.0             0.0      15.0      0.0    27783.0        53.9   \n",
              "\n",
              "   total_acc  last_pymnt_amnt  loan_status  \n",
              "0        9.0           171.62   Fully Paid  \n",
              "1        4.0           119.66  Charged Off  \n",
              "2       10.0           649.91   Fully Paid  \n",
              "3       37.0           357.48   Fully Paid  \n",
              "4       38.0            67.79      Current  "
            ],
            "text/html": [
              "\n",
              "  <div id=\"df-49f999d4-3e81-44d6-af20-a01aca3021e6\">\n",
              "    <div class=\"colab-df-container\">\n",
              "      <div>\n",
              "<style scoped>\n",
              "    .dataframe tbody tr th:only-of-type {\n",
              "        vertical-align: middle;\n",
              "    }\n",
              "\n",
              "    .dataframe tbody tr th {\n",
              "        vertical-align: top;\n",
              "    }\n",
              "\n",
              "    .dataframe thead th {\n",
              "        text-align: right;\n",
              "    }\n",
              "</style>\n",
              "<table border=\"1\" class=\"dataframe\">\n",
              "  <thead>\n",
              "    <tr style=\"text-align: right;\">\n",
              "      <th></th>\n",
              "      <th>loan_amnt</th>\n",
              "      <th>term</th>\n",
              "      <th>int_rate</th>\n",
              "      <th>installment</th>\n",
              "      <th>grade</th>\n",
              "      <th>sub_grade</th>\n",
              "      <th>emp_length</th>\n",
              "      <th>home_ownership</th>\n",
              "      <th>annual_inc</th>\n",
              "      <th>verification_status</th>\n",
              "      <th>purpose</th>\n",
              "      <th>dti</th>\n",
              "      <th>delinq_2yrs</th>\n",
              "      <th>inq_last_6mths</th>\n",
              "      <th>open_acc</th>\n",
              "      <th>pub_rec</th>\n",
              "      <th>revol_bal</th>\n",
              "      <th>revol_util</th>\n",
              "      <th>total_acc</th>\n",
              "      <th>last_pymnt_amnt</th>\n",
              "      <th>loan_status</th>\n",
              "    </tr>\n",
              "  </thead>\n",
              "  <tbody>\n",
              "    <tr>\n",
              "      <th>0</th>\n",
              "      <td>5000.0</td>\n",
              "      <td>36 months</td>\n",
              "      <td>10.65</td>\n",
              "      <td>162.87</td>\n",
              "      <td>B</td>\n",
              "      <td>B2</td>\n",
              "      <td>10+ years</td>\n",
              "      <td>RENT</td>\n",
              "      <td>24000.0</td>\n",
              "      <td>Verified</td>\n",
              "      <td>credit_card</td>\n",
              "      <td>27.65</td>\n",
              "      <td>0.0</td>\n",
              "      <td>1.0</td>\n",
              "      <td>3.0</td>\n",
              "      <td>0.0</td>\n",
              "      <td>13648.0</td>\n",
              "      <td>83.7</td>\n",
              "      <td>9.0</td>\n",
              "      <td>171.62</td>\n",
              "      <td>Fully Paid</td>\n",
              "    </tr>\n",
              "    <tr>\n",
              "      <th>1</th>\n",
              "      <td>2500.0</td>\n",
              "      <td>60 months</td>\n",
              "      <td>15.27</td>\n",
              "      <td>59.83</td>\n",
              "      <td>C</td>\n",
              "      <td>C4</td>\n",
              "      <td>&lt; 1 year</td>\n",
              "      <td>RENT</td>\n",
              "      <td>30000.0</td>\n",
              "      <td>Source Verified</td>\n",
              "      <td>car</td>\n",
              "      <td>1.00</td>\n",
              "      <td>0.0</td>\n",
              "      <td>5.0</td>\n",
              "      <td>3.0</td>\n",
              "      <td>0.0</td>\n",
              "      <td>1687.0</td>\n",
              "      <td>9.4</td>\n",
              "      <td>4.0</td>\n",
              "      <td>119.66</td>\n",
              "      <td>Charged Off</td>\n",
              "    </tr>\n",
              "    <tr>\n",
              "      <th>2</th>\n",
              "      <td>2400.0</td>\n",
              "      <td>36 months</td>\n",
              "      <td>15.96</td>\n",
              "      <td>84.33</td>\n",
              "      <td>C</td>\n",
              "      <td>C5</td>\n",
              "      <td>10+ years</td>\n",
              "      <td>RENT</td>\n",
              "      <td>12252.0</td>\n",
              "      <td>Not Verified</td>\n",
              "      <td>small_business</td>\n",
              "      <td>8.72</td>\n",
              "      <td>0.0</td>\n",
              "      <td>2.0</td>\n",
              "      <td>2.0</td>\n",
              "      <td>0.0</td>\n",
              "      <td>2956.0</td>\n",
              "      <td>98.5</td>\n",
              "      <td>10.0</td>\n",
              "      <td>649.91</td>\n",
              "      <td>Fully Paid</td>\n",
              "    </tr>\n",
              "    <tr>\n",
              "      <th>3</th>\n",
              "      <td>10000.0</td>\n",
              "      <td>36 months</td>\n",
              "      <td>13.49</td>\n",
              "      <td>339.31</td>\n",
              "      <td>C</td>\n",
              "      <td>C1</td>\n",
              "      <td>10+ years</td>\n",
              "      <td>RENT</td>\n",
              "      <td>49200.0</td>\n",
              "      <td>Source Verified</td>\n",
              "      <td>other</td>\n",
              "      <td>20.00</td>\n",
              "      <td>0.0</td>\n",
              "      <td>1.0</td>\n",
              "      <td>10.0</td>\n",
              "      <td>0.0</td>\n",
              "      <td>5598.0</td>\n",
              "      <td>21.0</td>\n",
              "      <td>37.0</td>\n",
              "      <td>357.48</td>\n",
              "      <td>Fully Paid</td>\n",
              "    </tr>\n",
              "    <tr>\n",
              "      <th>4</th>\n",
              "      <td>3000.0</td>\n",
              "      <td>60 months</td>\n",
              "      <td>12.69</td>\n",
              "      <td>67.79</td>\n",
              "      <td>B</td>\n",
              "      <td>B5</td>\n",
              "      <td>1 year</td>\n",
              "      <td>RENT</td>\n",
              "      <td>80000.0</td>\n",
              "      <td>Source Verified</td>\n",
              "      <td>other</td>\n",
              "      <td>17.94</td>\n",
              "      <td>0.0</td>\n",
              "      <td>0.0</td>\n",
              "      <td>15.0</td>\n",
              "      <td>0.0</td>\n",
              "      <td>27783.0</td>\n",
              "      <td>53.9</td>\n",
              "      <td>38.0</td>\n",
              "      <td>67.79</td>\n",
              "      <td>Current</td>\n",
              "    </tr>\n",
              "  </tbody>\n",
              "</table>\n",
              "</div>\n",
              "      <button class=\"colab-df-convert\" onclick=\"convertToInteractive('df-49f999d4-3e81-44d6-af20-a01aca3021e6')\"\n",
              "              title=\"Convert this dataframe to an interactive table.\"\n",
              "              style=\"display:none;\">\n",
              "        \n",
              "  <svg xmlns=\"http://www.w3.org/2000/svg\" height=\"24px\"viewBox=\"0 0 24 24\"\n",
              "       width=\"24px\">\n",
              "    <path d=\"M0 0h24v24H0V0z\" fill=\"none\"/>\n",
              "    <path d=\"M18.56 5.44l.94 2.06.94-2.06 2.06-.94-2.06-.94-.94-2.06-.94 2.06-2.06.94zm-11 1L8.5 8.5l.94-2.06 2.06-.94-2.06-.94L8.5 2.5l-.94 2.06-2.06.94zm10 10l.94 2.06.94-2.06 2.06-.94-2.06-.94-.94-2.06-.94 2.06-2.06.94z\"/><path d=\"M17.41 7.96l-1.37-1.37c-.4-.4-.92-.59-1.43-.59-.52 0-1.04.2-1.43.59L10.3 9.45l-7.72 7.72c-.78.78-.78 2.05 0 2.83L4 21.41c.39.39.9.59 1.41.59.51 0 1.02-.2 1.41-.59l7.78-7.78 2.81-2.81c.8-.78.8-2.07 0-2.86zM5.41 20L4 18.59l7.72-7.72 1.47 1.35L5.41 20z\"/>\n",
              "  </svg>\n",
              "      </button>\n",
              "      \n",
              "  <style>\n",
              "    .colab-df-container {\n",
              "      display:flex;\n",
              "      flex-wrap:wrap;\n",
              "      gap: 12px;\n",
              "    }\n",
              "\n",
              "    .colab-df-convert {\n",
              "      background-color: #E8F0FE;\n",
              "      border: none;\n",
              "      border-radius: 50%;\n",
              "      cursor: pointer;\n",
              "      display: none;\n",
              "      fill: #1967D2;\n",
              "      height: 32px;\n",
              "      padding: 0 0 0 0;\n",
              "      width: 32px;\n",
              "    }\n",
              "\n",
              "    .colab-df-convert:hover {\n",
              "      background-color: #E2EBFA;\n",
              "      box-shadow: 0px 1px 2px rgba(60, 64, 67, 0.3), 0px 1px 3px 1px rgba(60, 64, 67, 0.15);\n",
              "      fill: #174EA6;\n",
              "    }\n",
              "\n",
              "    [theme=dark] .colab-df-convert {\n",
              "      background-color: #3B4455;\n",
              "      fill: #D2E3FC;\n",
              "    }\n",
              "\n",
              "    [theme=dark] .colab-df-convert:hover {\n",
              "      background-color: #434B5C;\n",
              "      box-shadow: 0px 1px 3px 1px rgba(0, 0, 0, 0.15);\n",
              "      filter: drop-shadow(0px 1px 2px rgba(0, 0, 0, 0.3));\n",
              "      fill: #FFFFFF;\n",
              "    }\n",
              "  </style>\n",
              "\n",
              "      <script>\n",
              "        const buttonEl =\n",
              "          document.querySelector('#df-49f999d4-3e81-44d6-af20-a01aca3021e6 button.colab-df-convert');\n",
              "        buttonEl.style.display =\n",
              "          google.colab.kernel.accessAllowed ? 'block' : 'none';\n",
              "\n",
              "        async function convertToInteractive(key) {\n",
              "          const element = document.querySelector('#df-49f999d4-3e81-44d6-af20-a01aca3021e6');\n",
              "          const dataTable =\n",
              "            await google.colab.kernel.invokeFunction('convertToInteractive',\n",
              "                                                     [key], {});\n",
              "          if (!dataTable) return;\n",
              "\n",
              "          const docLinkHtml = 'Like what you see? Visit the ' +\n",
              "            '<a target=\"_blank\" href=https://colab.research.google.com/notebooks/data_table.ipynb>data table notebook</a>'\n",
              "            + ' to learn more about interactive tables.';\n",
              "          element.innerHTML = '';\n",
              "          dataTable['output_type'] = 'display_data';\n",
              "          await google.colab.output.renderOutput(dataTable, element);\n",
              "          const docLink = document.createElement('div');\n",
              "          docLink.innerHTML = docLinkHtml;\n",
              "          element.appendChild(docLink);\n",
              "        }\n",
              "      </script>\n",
              "    </div>\n",
              "  </div>\n",
              "  "
            ]
          },
          "metadata": {},
          "execution_count": 11
        }
      ]
    },
    {
      "cell_type": "markdown",
      "source": [
        "Checking the unique values of loan_status"
      ],
      "metadata": {
        "id": "LVu7HEKoa9jK"
      }
    },
    {
      "cell_type": "code",
      "source": [
        "df['loan_status'].unique()"
      ],
      "metadata": {
        "colab": {
          "base_uri": "https://localhost:8080/"
        },
        "id": "4tfTO-LyObrQ",
        "outputId": "e1820f56-1337-48ac-bf61-717a76e4e0f6"
      },
      "execution_count": null,
      "outputs": [
        {
          "output_type": "execute_result",
          "data": {
            "text/plain": [
              "array(['Fully Paid', 'Charged Off', 'Current', 'Default',\n",
              "       'Late (31-120 days)', 'In Grace Period', 'Late (16-30 days)',\n",
              "       'Does not meet the credit policy. Status:Fully Paid',\n",
              "       'Does not meet the credit policy. Status:Charged Off', 'Issued'],\n",
              "      dtype=object)"
            ]
          },
          "metadata": {},
          "execution_count": 12
        }
      ]
    },
    {
      "cell_type": "markdown",
      "source": [
        "Checking that particulat that two vlue is present in the loan_status"
      ],
      "metadata": {
        "id": "itDMxPA2bibP"
      }
    },
    {
      "cell_type": "code",
      "source": [
        "target_loan= [\"Fully Paid\",\"Charged Off\"]\n",
        "df=df[df[\"loan_status\"].isin(target_loan)]\n",
        "print(df.shape)"
      ],
      "metadata": {
        "colab": {
          "base_uri": "https://localhost:8080/"
        },
        "id": "1Yari0p_OtH2",
        "outputId": "33d739ea-413c-4a21-a270-53f705afd5a1"
      },
      "execution_count": null,
      "outputs": [
        {
          "output_type": "stream",
          "name": "stdout",
          "text": [
            "(252971, 21)\n"
          ]
        }
      ]
    },
    {
      "cell_type": "markdown",
      "source": [
        "**Begin by conducting exploratory data analysis (EDA) to gain insights into the dataset.**\n",
        "\n",
        "-------------------------------------------------------------------------------\n",
        "\n",
        "**Visualize the data, calculate summary statistics, and identify any patterns or trends.**"
      ],
      "metadata": {
        "id": "johNN8PZ9Q1N"
      }
    },
    {
      "cell_type": "markdown",
      "source": [
        "## EDA"
      ],
      "metadata": {
        "id": "mZ5VkkE9O0d8"
      }
    },
    {
      "cell_type": "markdown",
      "source": [
        "Calculating or checking if there is any missing value for features in the data."
      ],
      "metadata": {
        "id": "BHqkOHaJbpsC"
      }
    },
    {
      "cell_type": "code",
      "source": [
        "df.isnull().sum()"
      ],
      "metadata": {
        "colab": {
          "base_uri": "https://localhost:8080/"
        },
        "id": "Tf24u6ycOwGK",
        "outputId": "1a8d1f51-3e0d-4e37-a374-f5e59966e4de"
      },
      "execution_count": null,
      "outputs": [
        {
          "output_type": "execute_result",
          "data": {
            "text/plain": [
              "loan_amnt                 0\n",
              "term                      0\n",
              "int_rate                  0\n",
              "installment               0\n",
              "grade                     0\n",
              "sub_grade                 0\n",
              "emp_length             9897\n",
              "home_ownership            0\n",
              "annual_inc                0\n",
              "verification_status       0\n",
              "purpose                   0\n",
              "dti                       0\n",
              "delinq_2yrs               0\n",
              "inq_last_6mths            0\n",
              "open_acc                  0\n",
              "pub_rec                   0\n",
              "revol_bal                 0\n",
              "revol_util              199\n",
              "total_acc                 0\n",
              "last_pymnt_amnt           0\n",
              "loan_status               0\n",
              "dtype: int64"
            ]
          },
          "metadata": {},
          "execution_count": 14
        }
      ]
    },
    {
      "cell_type": "markdown",
      "source": [
        "Filling missing values, also known as imputation, is a common approach to handle missing data in machine learning.\n",
        "\n",
        "1. Mean/Median/Mode Imputation\n",
        "\n",
        "2. Forward Fill/Backward Fill\n",
        "\n",
        "3. Regression Imputation etc.\n",
        "\n",
        "\n",
        "We can see there are missing valu present in two features in the data.\n",
        "\n",
        "We will fill those value with mode and median."
      ],
      "metadata": {
        "id": "dSxO3Ku5kE7F"
      }
    },
    {
      "cell_type": "code",
      "source": [
        "df['emp_length']=df['emp_length'].fillna(df['emp_length'].mode()[0])\n",
        "df['revol_util']=df['revol_util'].fillna(df['revol_util'].median())"
      ],
      "metadata": {
        "id": "LtJ88hH9O1xC"
      },
      "execution_count": null,
      "outputs": []
    },
    {
      "cell_type": "markdown",
      "source": [
        "Plot or Visulaize Loan Status count.\n",
        "\n",
        "Class and count of classes\n",
        "\n",
        "What we can see from the plot. It's pretty simple status of loans and their counts. Which one is mostly present in the dataset."
      ],
      "metadata": {
        "id": "pTtBQEWBlAST"
      }
    },
    {
      "cell_type": "code",
      "source": [
        "# For visualization\n",
        "import matplotlib.pyplot as plt\n",
        "%matplotlib inline\n",
        "import seaborn as sns\n",
        "import pickle\n",
        "fig, ax =plt.subplots(figsize=(10,4))\n",
        "sns.countplot(data=df,x=\"loan_status\")\n",
        "ax.set(xlabel='Status', ylabel='')\n",
        "ax.set_title('Loan status count', size=20)"
      ],
      "metadata": {
        "colab": {
          "base_uri": "https://localhost:8080/",
          "height": 435
        },
        "id": "DGU1hbxQO4bP",
        "outputId": "41b4c81e-3c42-4b5a-a49f-59bcca20ffff"
      },
      "execution_count": null,
      "outputs": [
        {
          "output_type": "execute_result",
          "data": {
            "text/plain": [
              "Text(0.5, 1.0, 'Loan status count')"
            ]
          },
          "metadata": {},
          "execution_count": 16
        },
        {
          "output_type": "display_data",
          "data": {
            "text/plain": [
              "<Figure size 1000x400 with 1 Axes>"
            ],
            "image/png": "[encoded data removed]"
          },
          "metadata": {}
        }
      ]
    },
    {
      "cell_type": "markdown",
      "source": [
        "We can see that there is an imbalance in the class counts. Fully paid dominates as majority class."
      ],
      "metadata": {
        "id": "-B3EZh6u3cHu"
      }
    },
    {
      "cell_type": "markdown",
      "source": [
        "Loan status count VS Length of employment\n",
        "\n",
        "Let's try to give your inference."
      ],
      "metadata": {
        "id": "L2FCpS_7mxQk"
      }
    },
    {
      "cell_type": "code",
      "source": [
        "fig, ax =plt.subplots(figsize=(10,4))\n",
        "sns.countplot(data=df,x=\"emp_length\")\n",
        "ax.set(xlabel='Length of Employmnet', ylabel='')\n",
        "ax.set_title('Loan status count', size=20)\n",
        "plt.xticks(rotation='vertical')\n",
        "plt.show()"
      ],
      "metadata": {
        "colab": {
          "base_uri": "https://localhost:8080/",
          "height": 476
        },
        "id": "X9p2Wum-VKCx",
        "outputId": "41666e8f-3316-46d4-cda6-b3cf4ab40d7b"
      },
      "execution_count": null,
      "outputs": [
        {
          "output_type": "display_data",
          "data": {
            "text/plain": [
              "<Figure size 1000x400 with 1 Axes>"
            ],
            "image/png": "[encoded data removed]"
          },
          "metadata": {}
        }
      ]
    },
    {
      "cell_type": "markdown",
      "source": [
        "Most of the loans are of 10+ years. This might be quite informative on what happens for shorter tenure lengths. In general shorter tenure are consider more risky and hence might have higher charged off."
      ],
      "metadata": {
        "id": "RplpvteC3p1L"
      }
    },
    {
      "cell_type": "markdown",
      "source": [
        "Correlation is a statistical measure that quantifies the relationship between two variables. It measures the extent to which changes in one variable are associated with changes in another variable. Correlation is commonly used in data analysis to understand the strength and direction of the relationship between variables.\n",
        "\n",
        "Now let's map the correlation between features.\n",
        "\n",
        "if we take installment and Loan amount. You can see their correlation value\n",
        " 0.96. So they are highly correlated.\n",
        "\n",
        "Okay now how they are correlated? Positive or Negative and what does this two means?\n",
        "\n",
        "So positive correlation means: A high positive correlation indicates that as the feature increases, the other one also tend to increase as well.\n",
        "\n",
        "Negative Correlation: A high negative correlation indicates that as the feature increases, the other one also tend to decrease."
      ],
      "metadata": {
        "id": "JjOzMeL-m3U7"
      }
    },
    {
      "cell_type": "code",
      "source": [
        "# Plotting a heatmap\n",
        "plt.figure(figsize=(15,10))\n",
        "sns.heatmap(df.corr(),annot=True, cmap='coolwarm')\n",
        "plt.show()"
      ],
      "metadata": {
        "colab": {
          "base_uri": "https://localhost:8080/",
          "height": 997
        },
        "id": "5XcHB_riVcoK",
        "outputId": "24654495-d321-43f8-b4ef-bcc54936bd67"
      },
      "execution_count": null,
      "outputs": [
        {
          "output_type": "stream",
          "name": "stderr",
          "text": [
            "<ipython-input-19-a41e0b51cacd>:3: FutureWarning: The default value of numeric_only in DataFrame.corr is deprecated. In a future version, it will default to False. Select only valid columns or specify the value of numeric_only to silence this warning.\n",
            "  sns.heatmap(df.corr(),annot=True, cmap='coolwarm')\n"
          ]
        },
        {
          "output_type": "display_data",
          "data": {
            "text/plain": [
              "<Figure size 1500x1000 with 2 Axes>"
            ],
            "image/png": "[encoded data removed]"
          },
          "metadata": {}
        }
      ]
    },
    {
      "cell_type": "markdown",
      "source": [
        "Now we are dividing features into categorical and numerical, so why we will do it? Remember we need to convert categorical to numerical if we wanr to use those categorical features into the ML model"
      ],
      "metadata": {
        "id": "Tfc4O9cCcuVj"
      }
    },
    {
      "cell_type": "code",
      "source": [
        "# Dividing our features into categorical and numerical\n",
        "categorical=[feature for feature in df.columns if df[feature].dtype=='object']\n",
        "numerical=[feature for feature in df.columns if feature not in categorical]"
      ],
      "metadata": {
        "id": "qbpTQroPVnFW"
      },
      "execution_count": null,
      "outputs": []
    },
    {
      "cell_type": "markdown",
      "source": [
        "A histogram is a graphical representation of the distribution of a dataset. It displays the frequencies or counts of observations within different intervals or bins. A histogram can provide insights into the underlying distribution of a continuous variable and help identify patterns, outliers, or skewness in the data.\n",
        "\n",
        "\n",
        "we make a list of numerical features. Now we will plot histograms of that feature to look into their ditribution."
      ],
      "metadata": {
        "id": "LMf42-czrfPX"
      }
    },
    {
      "cell_type": "code",
      "source": [
        "# Histplot for each variable in numerical list\n",
        "def histplot_visual(data,column):\n",
        "    fig, ax = plt.subplots(3,5,figsize=(15,6))\n",
        "    fig.suptitle('Histplot for each variable',y=1, size=20)\n",
        "    ax=ax.flatten()\n",
        "    for i,feature in enumerate(column):\n",
        "        sns.histplot(data=data[feature],ax=ax[i], kde=True)\n",
        "histplot_visual(data=df,column=numerical)\n",
        "plt.tight_layout()"
      ],
      "metadata": {
        "colab": {
          "base_uri": "https://localhost:8080/",
          "height": 621
        },
        "id": "zytYcJLFVfrR",
        "outputId": "8d0026e9-3576-4308-b38d-2ff8c22b0fee"
      },
      "execution_count": null,
      "outputs": [
        {
          "output_type": "display_data",
          "data": {
            "text/plain": [
              "<Figure size 1500x600 with 15 Axes>"
            ],
            "image/png": "[encoded data removed]"
          },
          "metadata": {}
        }
      ]
    },
    {
      "cell_type": "markdown",
      "source": [
        "**Preprocess the dataset by handling missing values, addressing categorical variables, and performing any necessary data transformations.**\n",
        "\n",
        "--------------------------------------------------------------------------------\n",
        "\n",
        "**This step ensures that the data is in a suitable format for machine learning algorithms.**"
      ],
      "metadata": {
        "id": "emvflio39Zi3"
      }
    },
    {
      "cell_type": "markdown",
      "source": [
        "## Preprocessing"
      ],
      "metadata": {
        "id": "NLDTFQu_Vrye"
      }
    },
    {
      "cell_type": "markdown",
      "source": [
        "in 'term' features we got the data as ' 36 months' ' 60 months' etc. we need to make it numeric using lstrip and rstrip."
      ],
      "metadata": {
        "id": "g5W3QS7jlnia"
      }
    },
    {
      "cell_type": "code",
      "source": [
        "# Term column\n",
        "print(\"Before:\",df['term'].unique())\n",
        "df['term'] = df['term'].map(lambda x: x.lstrip(' ').rstrip(' months'))\n",
        "print(\"After:\",df['term'].unique())\n",
        "df['term']= df['term'].astype('int64')"
      ],
      "metadata": {
        "colab": {
          "base_uri": "https://localhost:8080/"
        },
        "id": "JT8wxjyoVj4y",
        "outputId": "14ba060d-55e9-4620-c624-455b27c60446"
      },
      "execution_count": null,
      "outputs": [
        {
          "output_type": "stream",
          "name": "stdout",
          "text": [
            "Before: [' 36 months' ' 60 months']\n",
            "After: ['36' '60']\n"
          ]
        }
      ]
    },
    {
      "cell_type": "markdown",
      "source": [
        "same thing we are doing here. '3 years' '9 years to 3, 9"
      ],
      "metadata": {
        "id": "fFen9ctOl_zj"
      }
    },
    {
      "cell_type": "code",
      "source": [
        "# emp_length column\n",
        "print(\"Before:\",df['emp_length'].unique())\n",
        "df['emp_length']= df['emp_length'].str.replace(r'[a-zA-Z]','')\n",
        "df['emp_length']= df['emp_length'].str.replace(' ','')\n",
        "print(\"After:\",df['emp_length'].unique())"
      ],
      "metadata": {
        "colab": {
          "base_uri": "https://localhost:8080/"
        },
        "id": "0mksxp1zVt43",
        "outputId": "daf0bd5a-0ea7-4fac-d25d-3dcb0f77ee5a"
      },
      "execution_count": null,
      "outputs": [
        {
          "output_type": "stream",
          "name": "stdout",
          "text": [
            "Before: ['10+ years' '< 1 year' '3 years' '9 years' '4 years' '5 years' '1 year'\n",
            " '6 years' '2 years' '7 years' '8 years']\n"
          ]
        },
        {
          "output_type": "stream",
          "name": "stderr",
          "text": [
            "<ipython-input-23-46f2ad2a7613>:3: FutureWarning: The default value of regex will change from True to False in a future version.\n",
            "  df['emp_length']= df['emp_length'].str.replace(r'[a-zA-Z]','')\n"
          ]
        },
        {
          "output_type": "stream",
          "name": "stdout",
          "text": [
            "After: ['10+' '<1' '3' '9' '4' '5' '1' '6' '2' '7' '8']\n"
          ]
        }
      ]
    },
    {
      "cell_type": "markdown",
      "source": [
        "Label encoding is a technique used to convert categorical variables into numerical representations. In machine learning, algorithms typically require numerical inputs, so label encoding is employed to transform categorical data into a format that can be easily understood by the algorithms.\n",
        "\n",
        "Encode the Categorical features into numeric value to use those features in the Machine Learning model developement"
      ],
      "metadata": {
        "id": "szYhF7dknvK5"
      }
    },
    {
      "cell_type": "code",
      "source": [
        "# Label Encoding\n",
        "df['grade']= df['grade'].map({'A':0,'B':1, 'C':2, 'D':3, 'E':4, 'F':5, 'G':6})\n",
        "\n",
        "df['sub_grade']= df['sub_grade'].map({'A1': 0, 'A2': 1, 'A3': 2, 'A4': 3, 'A5': 4,\n",
        "                                      'B1': 5, 'B2': 6, 'B3': 7, 'B4': 8, 'B5': 9,\n",
        "                                      'C1': 10, 'C2': 11, 'C3': 12, 'C4': 13, 'C5': 14,\n",
        "                                      'D1': 15, 'D2': 16, 'D3': 17, 'D4': 18, 'D5': 19,\n",
        "                                      'E1': 20, 'E2': 21, 'E3': 22, 'E4': 23, 'E5': 24,\n",
        "                                      'F1': 25, 'F2': 26, 'F3': 27, 'F4': 28, 'F5': 29,\n",
        "                                      'G1': 30, 'G2': 31, 'G3': 32, 'G4': 33, 'G5': 34})\n",
        "\n",
        "df['emp_length']= df['emp_length'].map({'<1': 0,'1': 1,'2': 2,'3': 3,\n",
        "                                        '4': 4, '5': 5,'6': 6,'7': 7,\n",
        "                                        '8': 8,'9': 9, '10+': 10})\n",
        "\n",
        "df['loan_status']= df['loan_status'].map({'Fully Paid':0, 'Charged Off':1})"
      ],
      "metadata": {
        "id": "l7tqAYfcVv9Q"
      },
      "execution_count": null,
      "outputs": []
    },
    {
      "cell_type": "markdown",
      "source": [
        "One-hot encoding is a technique used to convert categorical variables into a binary matrix format, where each category becomes a separate binary feature. It is commonly used in machine learning to represent categorical data in a way that is compatible with various algorithms.\n",
        "\n"
      ],
      "metadata": {
        "id": "NK-O50uCoA1a"
      }
    },
    {
      "cell_type": "code",
      "source": [
        "# One hot encoding\n",
        "df=pd.get_dummies(data=df,columns=['home_ownership','verification_status','purpose'],drop_first=True)\n",
        "df.head()"
      ],
      "metadata": {
        "colab": {
          "base_uri": "https://localhost:8080/",
          "height": 288
        },
        "id": "fdLIVYG_VycR",
        "outputId": "f4a1498f-0ae1-480a-e727-c9cf947fe1c7"
      },
      "execution_count": null,
      "outputs": [
        {
          "output_type": "execute_result",
          "data": {
            "text/plain": [
              "   loan_amnt  term  int_rate  installment  grade  sub_grade  emp_length  \\\n",
              "0     5000.0    36     10.65       162.87      1          6          10   \n",
              "1     2500.0    60     15.27        59.83      2         13           0   \n",
              "2     2400.0    36     15.96        84.33      2         14          10   \n",
              "3    10000.0    36     13.49       339.31      2         10          10   \n",
              "5     5000.0    36      7.90       156.46      0          3           3   \n",
              "\n",
              "   annual_inc    dti  delinq_2yrs  inq_last_6mths  open_acc  pub_rec  \\\n",
              "0     24000.0  27.65          0.0             1.0       3.0      0.0   \n",
              "1     30000.0   1.00          0.0             5.0       3.0      0.0   \n",
              "2     12252.0   8.72          0.0             2.0       2.0      0.0   \n",
              "3     49200.0  20.00          0.0             1.0      10.0      0.0   \n",
              "5     36000.0  11.20          0.0             3.0       9.0      0.0   \n",
              "\n",
              "   revol_bal  revol_util  total_acc  last_pymnt_amnt  loan_status  \\\n",
              "0    13648.0        83.7        9.0           171.62            0   \n",
              "1     1687.0         9.4        4.0           119.66            1   \n",
              "2     2956.0        98.5       10.0           649.91            0   \n",
              "3     5598.0        21.0       37.0           357.48            0   \n",
              "5     7963.0        28.3       12.0           161.03            0   \n",
              "\n",
              "   home_ownership_MORTGAGE  home_ownership_NONE  home_ownership_OTHER  \\\n",
              "0                        0                    0                     0   \n",
              "1                        0                    0                     0   \n",
              "2                        0                    0                     0   \n",
              "3                        0                    0                     0   \n",
              "5                        0                    0                     0   \n",
              "\n",
              "   home_ownership_OWN  home_ownership_RENT  \\\n",
              "0                   0                    1   \n",
              "1                   0                    1   \n",
              "2                   0                    1   \n",
              "3                   0                    1   \n",
              "5                   0                    1   \n",
              "\n",
              "   verification_status_Source Verified  verification_status_Verified  \\\n",
              "0                                    0                             1   \n",
              "1                                    1                             0   \n",
              "2                                    0                             0   \n",
              "3                                    1                             0   \n",
              "5                                    1                             0   \n",
              "\n",
              "   purpose_credit_card  purpose_debt_consolidation  purpose_educational  \\\n",
              "0                    1                           0                    0   \n",
              "1                    0                           0                    0   \n",
              "2                    0                           0                    0   \n",
              "3                    0                           0                    0   \n",
              "5                    0                           0                    0   \n",
              "\n",
              "   purpose_home_improvement  purpose_house  purpose_major_purchase  \\\n",
              "0                         0              0                       0   \n",
              "1                         0              0                       0   \n",
              "2                         0              0                       0   \n",
              "3                         0              0                       0   \n",
              "5                         0              0                       0   \n",
              "\n",
              "   purpose_medical  purpose_moving  purpose_other  purpose_renewable_energy  \\\n",
              "0                0               0              0                         0   \n",
              "1                0               0              0                         0   \n",
              "2                0               0              0                         0   \n",
              "3                0               0              1                         0   \n",
              "5                0               0              0                         0   \n",
              "\n",
              "   purpose_small_business  purpose_vacation  purpose_wedding  \n",
              "0                       0                 0                0  \n",
              "1                       0                 0                0  \n",
              "2                       1                 0                0  \n",
              "3                       0                 0                0  \n",
              "5                       0                 0                1  "
            ],
            "text/html": [
              "\n",
              "  <div id=\"df-cbc3fac1-cb4c-4dae-8550-40499c6151b1\">\n",
              "    <div class=\"colab-df-container\">\n",
              "      <div>\n",
              "<style scoped>\n",
              "    .dataframe tbody tr th:only-of-type {\n",
              "        vertical-align: middle;\n",
              "    }\n",
              "\n",
              "    .dataframe tbody tr th {\n",
              "        vertical-align: top;\n",
              "    }\n",
              "\n",
              "    .dataframe thead th {\n",
              "        text-align: right;\n",
              "    }\n",
              "</style>\n",
              "<table border=\"1\" class=\"dataframe\">\n",
              "  <thead>\n",
              "    <tr style=\"text-align: right;\">\n",
              "      <th></th>\n",
              "      <th>loan_amnt</th>\n",
              "      <th>term</th>\n",
              "      <th>int_rate</th>\n",
              "      <th>installment</th>\n",
              "      <th>grade</th>\n",
              "      <th>sub_grade</th>\n",
              "      <th>emp_length</th>\n",
              "      <th>annual_inc</th>\n",
              "      <th>dti</th>\n",
              "      <th>delinq_2yrs</th>\n",
              "      <th>inq_last_6mths</th>\n",
              "      <th>open_acc</th>\n",
              "      <th>pub_rec</th>\n",
              "      <th>revol_bal</th>\n",
              "      <th>revol_util</th>\n",
              "      <th>total_acc</th>\n",
              "      <th>last_pymnt_amnt</th>\n",
              "      <th>loan_status</th>\n",
              "      <th>home_ownership_MORTGAGE</th>\n",
              "      <th>home_ownership_NONE</th>\n",
              "      <th>home_ownership_OTHER</th>\n",
              "      <th>home_ownership_OWN</th>\n",
              "      <th>home_ownership_RENT</th>\n",
              "      <th>verification_status_Source Verified</th>\n",
              "      <th>verification_status_Verified</th>\n",
              "      <th>purpose_credit_card</th>\n",
              "      <th>purpose_debt_consolidation</th>\n",
              "      <th>purpose_educational</th>\n",
              "      <th>purpose_home_improvement</th>\n",
              "      <th>purpose_house</th>\n",
              "      <th>purpose_major_purchase</th>\n",
              "      <th>purpose_medical</th>\n",
              "      <th>purpose_moving</th>\n",
              "      <th>purpose_other</th>\n",
              "      <th>purpose_renewable_energy</th>\n",
              "      <th>purpose_small_business</th>\n",
              "      <th>purpose_vacation</th>\n",
              "      <th>purpose_wedding</th>\n",
              "    </tr>\n",
              "  </thead>\n",
              "  <tbody>\n",
              "    <tr>\n",
              "      <th>0</th>\n",
              "      <td>5000.0</td>\n",
              "      <td>36</td>\n",
              "      <td>10.65</td>\n",
              "      <td>162.87</td>\n",
              "      <td>1</td>\n",
              "      <td>6</td>\n",
              "      <td>10</td>\n",
              "      <td>24000.0</td>\n",
              "      <td>27.65</td>\n",
              "      <td>0.0</td>\n",
              "      <td>1.0</td>\n",
              "      <td>3.0</td>\n",
              "      <td>0.0</td>\n",
              "      <td>13648.0</td>\n",
              "      <td>83.7</td>\n",
              "      <td>9.0</td>\n",
              "      <td>171.62</td>\n",
              "      <td>0</td>\n",
              "      <td>0</td>\n",
              "      <td>0</td>\n",
              "      <td>0</td>\n",
              "      <td>0</td>\n",
              "      <td>1</td>\n",
              "      <td>0</td>\n",
              "      <td>1</td>\n",
              "      <td>1</td>\n",
              "      <td>0</td>\n",
              "      <td>0</td>\n",
              "      <td>0</td>\n",
              "      <td>0</td>\n",
              "      <td>0</td>\n",
              "      <td>0</td>\n",
              "      <td>0</td>\n",
              "      <td>0</td>\n",
              "      <td>0</td>\n",
              "      <td>0</td>\n",
              "      <td>0</td>\n",
              "      <td>0</td>\n",
              "    </tr>\n",
              "    <tr>\n",
              "      <th>1</th>\n",
              "      <td>2500.0</td>\n",
              "      <td>60</td>\n",
              "      <td>15.27</td>\n",
              "      <td>59.83</td>\n",
              "      <td>2</td>\n",
              "      <td>13</td>\n",
              "      <td>0</td>\n",
              "      <td>30000.0</td>\n",
              "      <td>1.00</td>\n",
              "      <td>0.0</td>\n",
              "      <td>5.0</td>\n",
              "      <td>3.0</td>\n",
              "      <td>0.0</td>\n",
              "      <td>1687.0</td>\n",
              "      <td>9.4</td>\n",
              "      <td>4.0</td>\n",
              "      <td>119.66</td>\n",
              "      <td>1</td>\n",
              "      <td>0</td>\n",
              "      <td>0</td>\n",
              "      <td>0</td>\n",
              "      <td>0</td>\n",
              "      <td>1</td>\n",
              "      <td>1</td>\n",
              "      <td>0</td>\n",
              "      <td>0</td>\n",
              "      <td>0</td>\n",
              "      <td>0</td>\n",
              "      <td>0</td>\n",
              "      <td>0</td>\n",
              "      <td>0</td>\n",
              "      <td>0</td>\n",
              "      <td>0</td>\n",
              "      <td>0</td>\n",
              "      <td>0</td>\n",
              "      <td>0</td>\n",
              "      <td>0</td>\n",
              "      <td>0</td>\n",
              "    </tr>\n",
              "    <tr>\n",
              "      <th>2</th>\n",
              "      <td>2400.0</td>\n",
              "      <td>36</td>\n",
              "      <td>15.96</td>\n",
              "      <td>84.33</td>\n",
              "      <td>2</td>\n",
              "      <td>14</td>\n",
              "      <td>10</td>\n",
              "      <td>12252.0</td>\n",
              "      <td>8.72</td>\n",
              "      <td>0.0</td>\n",
              "      <td>2.0</td>\n",
              "      <td>2.0</td>\n",
              "      <td>0.0</td>\n",
              "      <td>2956.0</td>\n",
              "      <td>98.5</td>\n",
              "      <td>10.0</td>\n",
              "      <td>649.91</td>\n",
              "      <td>0</td>\n",
              "      <td>0</td>\n",
              "      <td>0</td>\n",
              "      <td>0</td>\n",
              "      <td>0</td>\n",
              "      <td>1</td>\n",
              "      <td>0</td>\n",
              "      <td>0</td>\n",
              "      <td>0</td>\n",
              "      <td>0</td>\n",
              "      <td>0</td>\n",
              "      <td>0</td>\n",
              "      <td>0</td>\n",
              "      <td>0</td>\n",
              "      <td>0</td>\n",
              "      <td>0</td>\n",
              "      <td>0</td>\n",
              "      <td>0</td>\n",
              "      <td>1</td>\n",
              "      <td>0</td>\n",
              "      <td>0</td>\n",
              "    </tr>\n",
              "    <tr>\n",
              "      <th>3</th>\n",
              "      <td>10000.0</td>\n",
              "      <td>36</td>\n",
              "      <td>13.49</td>\n",
              "      <td>339.31</td>\n",
              "      <td>2</td>\n",
              "      <td>10</td>\n",
              "      <td>10</td>\n",
              "      <td>49200.0</td>\n",
              "      <td>20.00</td>\n",
              "      <td>0.0</td>\n",
              "      <td>1.0</td>\n",
              "      <td>10.0</td>\n",
              "      <td>0.0</td>\n",
              "      <td>5598.0</td>\n",
              "      <td>21.0</td>\n",
              "      <td>37.0</td>\n",
              "      <td>357.48</td>\n",
              "      <td>0</td>\n",
              "      <td>0</td>\n",
              "      <td>0</td>\n",
              "      <td>0</td>\n",
              "      <td>0</td>\n",
              "      <td>1</td>\n",
              "      <td>1</td>\n",
              "      <td>0</td>\n",
              "      <td>0</td>\n",
              "      <td>0</td>\n",
              "      <td>0</td>\n",
              "      <td>0</td>\n",
              "      <td>0</td>\n",
              "      <td>0</td>\n",
              "      <td>0</td>\n",
              "      <td>0</td>\n",
              "      <td>1</td>\n",
              "      <td>0</td>\n",
              "      <td>0</td>\n",
              "      <td>0</td>\n",
              "      <td>0</td>\n",
              "    </tr>\n",
              "    <tr>\n",
              "      <th>5</th>\n",
              "      <td>5000.0</td>\n",
              "      <td>36</td>\n",
              "      <td>7.90</td>\n",
              "      <td>156.46</td>\n",
              "      <td>0</td>\n",
              "      <td>3</td>\n",
              "      <td>3</td>\n",
              "      <td>36000.0</td>\n",
              "      <td>11.20</td>\n",
              "      <td>0.0</td>\n",
              "      <td>3.0</td>\n",
              "      <td>9.0</td>\n",
              "      <td>0.0</td>\n",
              "      <td>7963.0</td>\n",
              "      <td>28.3</td>\n",
              "      <td>12.0</td>\n",
              "      <td>161.03</td>\n",
              "      <td>0</td>\n",
              "      <td>0</td>\n",
              "      <td>0</td>\n",
              "      <td>0</td>\n",
              "      <td>0</td>\n",
              "      <td>1</td>\n",
              "      <td>1</td>\n",
              "      <td>0</td>\n",
              "      <td>0</td>\n",
              "      <td>0</td>\n",
              "      <td>0</td>\n",
              "      <td>0</td>\n",
              "      <td>0</td>\n",
              "      <td>0</td>\n",
              "      <td>0</td>\n",
              "      <td>0</td>\n",
              "      <td>0</td>\n",
              "      <td>0</td>\n",
              "      <td>0</td>\n",
              "      <td>0</td>\n",
              "      <td>1</td>\n",
              "    </tr>\n",
              "  </tbody>\n",
              "</table>\n",
              "</div>\n",
              "      <button class=\"colab-df-convert\" onclick=\"convertToInteractive('df-cbc3fac1-cb4c-4dae-8550-40499c6151b1')\"\n",
              "              title=\"Convert this dataframe to an interactive table.\"\n",
              "              style=\"display:none;\">\n",
              "        \n",
              "  <svg xmlns=\"http://www.w3.org/2000/svg\" height=\"24px\"viewBox=\"0 0 24 24\"\n",
              "       width=\"24px\">\n",
              "    <path d=\"M0 0h24v24H0V0z\" fill=\"none\"/>\n",
              "    <path d=\"M18.56 5.44l.94 2.06.94-2.06 2.06-.94-2.06-.94-.94-2.06-.94 2.06-2.06.94zm-11 1L8.5 8.5l.94-2.06 2.06-.94-2.06-.94L8.5 2.5l-.94 2.06-2.06.94zm10 10l.94 2.06.94-2.06 2.06-.94-2.06-.94-.94-2.06-.94 2.06-2.06.94z\"/><path d=\"M17.41 7.96l-1.37-1.37c-.4-.4-.92-.59-1.43-.59-.52 0-1.04.2-1.43.59L10.3 9.45l-7.72 7.72c-.78.78-.78 2.05 0 2.83L4 21.41c.39.39.9.59 1.41.59.51 0 1.02-.2 1.41-.59l7.78-7.78 2.81-2.81c.8-.78.8-2.07 0-2.86zM5.41 20L4 18.59l7.72-7.72 1.47 1.35L5.41 20z\"/>\n",
              "  </svg>\n",
              "      </button>\n",
              "      \n",
              "  <style>\n",
              "    .colab-df-container {\n",
              "      display:flex;\n",
              "      flex-wrap:wrap;\n",
              "      gap: 12px;\n",
              "    }\n",
              "\n",
              "    .colab-df-convert {\n",
              "      background-color: #E8F0FE;\n",
              "      border: none;\n",
              "      border-radius: 50%;\n",
              "      cursor: pointer;\n",
              "      display: none;\n",
              "      fill: #1967D2;\n",
              "      height: 32px;\n",
              "      padding: 0 0 0 0;\n",
              "      width: 32px;\n",
              "    }\n",
              "\n",
              "    .colab-df-convert:hover {\n",
              "      background-color: #E2EBFA;\n",
              "      box-shadow: 0px 1px 2px rgba(60, 64, 67, 0.3), 0px 1px 3px 1px rgba(60, 64, 67, 0.15);\n",
              "      fill: #174EA6;\n",
              "    }\n",
              "\n",
              "    [theme=dark] .colab-df-convert {\n",
              "      background-color: #3B4455;\n",
              "      fill: #D2E3FC;\n",
              "    }\n",
              "\n",
              "    [theme=dark] .colab-df-convert:hover {\n",
              "      background-color: #434B5C;\n",
              "      box-shadow: 0px 1px 3px 1px rgba(0, 0, 0, 0.15);\n",
              "      filter: drop-shadow(0px 1px 2px rgba(0, 0, 0, 0.3));\n",
              "      fill: #FFFFFF;\n",
              "    }\n",
              "  </style>\n",
              "\n",
              "      <script>\n",
              "        const buttonEl =\n",
              "          document.querySelector('#df-cbc3fac1-cb4c-4dae-8550-40499c6151b1 button.colab-df-convert');\n",
              "        buttonEl.style.display =\n",
              "          google.colab.kernel.accessAllowed ? 'block' : 'none';\n",
              "\n",
              "        async function convertToInteractive(key) {\n",
              "          const element = document.querySelector('#df-cbc3fac1-cb4c-4dae-8550-40499c6151b1');\n",
              "          const dataTable =\n",
              "            await google.colab.kernel.invokeFunction('convertToInteractive',\n",
              "                                                     [key], {});\n",
              "          if (!dataTable) return;\n",
              "\n",
              "          const docLinkHtml = 'Like what you see? Visit the ' +\n",
              "            '<a target=\"_blank\" href=https://colab.research.google.com/notebooks/data_table.ipynb>data table notebook</a>'\n",
              "            + ' to learn more about interactive tables.';\n",
              "          element.innerHTML = '';\n",
              "          dataTable['output_type'] = 'display_data';\n",
              "          await google.colab.output.renderOutput(dataTable, element);\n",
              "          const docLink = document.createElement('div');\n",
              "          docLink.innerHTML = docLinkHtml;\n",
              "          element.appendChild(docLink);\n",
              "        }\n",
              "      </script>\n",
              "    </div>\n",
              "  </div>\n",
              "  "
            ]
          },
          "metadata": {},
          "execution_count": 25
        }
      ]
    },
    {
      "cell_type": "markdown",
      "source": [
        "**Split the dataset into training and testing sets for model evaluation.**\n",
        "\n",
        "--------------------------------------------------------------------------------\n",
        "\n",
        "**Train and evaluate various classification models, such as logistic regression, SVM etc. Compare the performance of these models to identify the most accurate one for loan approval prediction.**\n",
        "\n",
        "--------------------------------------------------------------------------------\n",
        "\n",
        "**Fine-tune the selected model by adjusting hyperparameters. Use techniques like regularization.**"
      ],
      "metadata": {
        "id": "TbPNtiUQ9iPb"
      }
    },
    {
      "cell_type": "markdown",
      "source": [
        "training dataset only with features which is X and target feature as y"
      ],
      "metadata": {
        "id": "U0rFBVcDmQSm"
      }
    },
    {
      "cell_type": "code",
      "source": [
        "# Dividing our dataset into independent and dependent features\n",
        "X=df.drop('loan_status',axis=1)\n",
        "y=df['loan_status']"
      ],
      "metadata": {
        "id": "KVELBpAGV03-"
      },
      "execution_count": null,
      "outputs": []
    },
    {
      "cell_type": "markdown",
      "source": [
        "Splitting our dataset."
      ],
      "metadata": {
        "id": "Q9hIqkpdmbJ5"
      }
    },
    {
      "cell_type": "code",
      "source": [
        "# Splitting our dataset between training and testing set\n",
        "X_train, X_test, y_train, y_test = train_test_split(X, y, test_size=0.25,random_state=100)"
      ],
      "metadata": {
        "id": "8Z-_SkUcV3_q"
      },
      "execution_count": null,
      "outputs": []
    },
    {
      "cell_type": "markdown",
      "source": [
        "Transforming the dataset. We are using minmax scalar to normalize the feature.\n",
        "\n",
        "Okay so why we normalize?\n",
        "The MinMaxScaler is a common feature scaling technique used in machine learning. It scales features to a specified range, typically between 0 and 1. The main reason for using MinMaxScaler is to ensure that all features have the same scale and to bring the data within a specific range.\n",
        "\n",
        "as we saw from the distribution plot the data has various range and the distribution is different. We are mapping all those into a single range."
      ],
      "metadata": {
        "id": "fN4uVgtqmdrm"
      }
    },
    {
      "cell_type": "code",
      "source": [
        "from sklearn.preprocessing import MinMaxScaler\n",
        "# MinMax Scaler\n",
        "scaler = MinMaxScaler()\n",
        "X_train = scaler.fit_transform(X_train)\n",
        "X_test = scaler.transform(X_test)"
      ],
      "metadata": {
        "id": "Nsiy6RQnV6e4"
      },
      "execution_count": null,
      "outputs": []
    },
    {
      "cell_type": "code",
      "source": [
        "df['loan_status'].value_counts()"
      ],
      "metadata": {
        "colab": {
          "base_uri": "https://localhost:8080/"
        },
        "id": "t926Bof8V8MT",
        "outputId": "296df58c-ede4-4bac-9f02-d133d835429a"
      },
      "execution_count": null,
      "outputs": [
        {
          "output_type": "execute_result",
          "data": {
            "text/plain": [
              "0    207723\n",
              "1     45248\n",
              "Name: loan_status, dtype: int64"
            ]
          },
          "metadata": {},
          "execution_count": 29
        }
      ]
    },
    {
      "cell_type": "markdown",
      "source": [
        "# Model"
      ],
      "metadata": {
        "id": "LalHlr9iMXZQ"
      }
    },
    {
      "cell_type": "markdown",
      "source": [
        "**Logistic Regression**\n",
        "\n",
        "We are training our first model Logistic regression with one iteration. First we are fitting the data to learn. Then we are predicting on the test data whatever our model has learned from the training data.\n",
        "\n",
        "We are trying to learn the pattern of the training data to predict from unknown data.\n",
        "\n",
        "here, we got the accuracy as 82%."
      ],
      "metadata": {
        "id": "c6Qa3Zc8Oait"
      }
    },
    {
      "cell_type": "code",
      "source": [
        "# Fit a logistic regression model to the training data\n",
        "model = LogisticRegression(random_state = 42, max_iter = 1)\n",
        "model.fit(X_train, y_train)\n",
        "\n",
        "# Predict the rise and fall of crypto on the testing data\n",
        "y_pred = model.predict(X_test)\n",
        "\n",
        "# Compute the accuracy of the model\n",
        "accuracy = accuracy_score(y_test, y_pred)\n",
        "print('Accuracy:', accuracy)"
      ],
      "metadata": {
        "id": "GZLYYblRWGZw",
        "colab": {
          "base_uri": "https://localhost:8080/"
        },
        "outputId": "d1d8d171-cdd0-4d1f-b7a5-cd6f1fc72971"
      },
      "execution_count": null,
      "outputs": [
        {
          "output_type": "stream",
          "name": "stdout",
          "text": [
            "Accuracy: 0.8224625650269595\n"
          ]
        },
        {
          "output_type": "stream",
          "name": "stderr",
          "text": [
            "/usr/local/lib/python3.10/dist-packages/sklearn/linear_model/_logistic.py:458: ConvergenceWarning: lbfgs failed to converge (status=1):\n",
            "STOP: TOTAL NO. of ITERATIONS REACHED LIMIT.\n",
            "\n",
            "Increase the number of iterations (max_iter) or scale the data as shown in:\n",
            "    https://scikit-learn.org/stable/modules/preprocessing.html\n",
            "Please also refer to the documentation for alternative solver options:\n",
            "    https://scikit-learn.org/stable/modules/linear_model.html#logistic-regression\n",
            "  n_iter_i = _check_optimize_result(\n"
          ]
        }
      ]
    },
    {
      "cell_type": "markdown",
      "source": [
        "Suppose we are not satisfied with our models performance. May be it can underfit or overfit the data. we need more accuracy. So how we can improve the model?\n",
        "\n",
        "Here regularization comes into the field. here we are using l2 regularization technique with a extra parameter that is solver. Now what solver is doing??\n",
        "\n",
        "So as we know: L2 regularization, also known as Ridge regularization, is a commonly used technique in machine learning to prevent overfitting and improve the generalization performance of models. It accomplishes this by adding a penalty term to the loss function during the training process.\n",
        "\n",
        "Solver is nothing bu a optimization tecchnique. Different solvers employ different optimization techniques to minimize the cost function or maximize the likelihood function associated with logistic regression. The choice of solver can impact the efficiency and accuracy of the model's training process.\n",
        "\n",
        "Here we use l2 as penalty and newton-cholesky as solver. lets see if it is increase our accuracy"
      ],
      "metadata": {
        "id": "x9XqkvzXnpAF"
      }
    },
    {
      "cell_type": "code",
      "source": [
        "# Fit a logistic regression model to the training data\n",
        "model2 = LogisticRegression(penalty='l2', solver = 'newton-cholesky')\n",
        "model2.fit(X_train, y_train)\n",
        "\n",
        "# Predict the rise and fall of crypto on the testing data\n",
        "y_pred = model2.predict(X_test)\n",
        "\n",
        "# Compute the accuracy of the model\n",
        "accuracy = accuracy_score(y_test, y_pred)\n",
        "print('Accuracy:', accuracy)"
      ],
      "metadata": {
        "colab": {
          "base_uri": "https://localhost:8080/"
        },
        "id": "pK6D2LL-NGe0",
        "outputId": "9a56df41-878d-4fe0-f130-a1ae10e205e4"
      },
      "execution_count": null,
      "outputs": [
        {
          "output_type": "stream",
          "name": "stdout",
          "text": [
            "Accuracy: 0.8918773619214775\n"
          ]
        }
      ]
    },
    {
      "cell_type": "markdown",
      "source": [
        "model 2 is performing better than model 1 by using those parametrs.\n",
        "\n",
        "Now try some more different parameter. We are using l2 with 'sag' and the iteration is now 200.\n",
        "\n",
        "What we can see that there is no improvement in the model 3. Its okay to go with the model 2."
      ],
      "metadata": {
        "id": "ieDxuqBjpRUH"
      }
    },
    {
      "cell_type": "code",
      "source": [
        "# Fit a logistic regression model to the training data\n",
        "model3 = LogisticRegression(penalty='l2', solver = 'sag', max_iter = 200)\n",
        "model3.fit(X_train, y_train)\n",
        "\n",
        "# Predict the rise and fall of crypto on the testing data\n",
        "y_pred = model3.predict(X_test)\n",
        "\n",
        "# Compute the accuracy of the model\n",
        "accuracy = accuracy_score(y_test, y_pred)\n",
        "print('Accuracy:', accuracy)"
      ],
      "metadata": {
        "colab": {
          "base_uri": "https://localhost:8080/"
        },
        "id": "IhOfE5FMNtYJ",
        "outputId": "a2d12c30-8e76-47c0-c8f1-94a58b8c46c4"
      },
      "execution_count": null,
      "outputs": [
        {
          "output_type": "stream",
          "name": "stdout",
          "text": [
            "Accuracy: 0.8918141138149677\n"
          ]
        }
      ]
    },
    {
      "cell_type": "markdown",
      "source": [
        "**Polynomial Features**\n",
        "\n",
        "We have tried with our preprocessed features already. Okay now what if tried with some other kind of features. So let's make them ploynomial.\n",
        "\n",
        "then fit into the logistic reg model with penalty term, iteration and solver."
      ],
      "metadata": {
        "id": "5tMtC6cPPeWh"
      }
    },
    {
      "cell_type": "code",
      "source": [
        "from sklearn.pipeline import make_pipeline\n",
        "# Create a pipeline with polynomial features and logistic regression\n",
        "model4 = make_pipeline(PolynomialFeatures(2, include_bias=True), LogisticRegression(penalty='l2', solver = 'saga', max_iter = 50, random_state = 42))\n",
        "\n",
        "# Fit the model on the training data\n",
        "model4.fit(X_train, y_train)"
      ],
      "metadata": {
        "colab": {
          "base_uri": "https://localhost:8080/",
          "height": 161
        },
        "id": "3mjtB2WmOIyl",
        "outputId": "3dc0805e-727c-4a29-f1bb-7e21d45f552d"
      },
      "execution_count": null,
      "outputs": [
        {
          "output_type": "stream",
          "name": "stderr",
          "text": [
            "/usr/local/lib/python3.10/dist-packages/sklearn/linear_model/_sag.py:350: ConvergenceWarning: The max_iter was reached which means the coef_ did not converge\n",
            "  warnings.warn(\n"
          ]
        },
        {
          "output_type": "execute_result",
          "data": {
            "text/plain": [
              "Pipeline(steps=[('polynomialfeatures', PolynomialFeatures()),\n",
              "                ('logisticregression',\n",
              "                 LogisticRegression(max_iter=50, random_state=42,\n",
              "                                    solver='saga'))])"
            ],
            "text/html": [
              "<style>#sk-container-id-1 {color: black;background-color: white;}#sk-container-id-1 pre{padding: 0;}#sk-container-id-1 div.sk-toggleable {background-color: white;}#sk-container-id-1 label.sk-toggleable__label {cursor: pointer;display: block;width: 100%;margin-bottom: 0;padding: 0.3em;box-sizing: border-box;text-align: center;}#sk-container-id-1 label.sk-toggleable__label-arrow:before {content: \"▸\";float: left;margin-right: 0.25em;color: #696969;}#sk-container-id-1 label.sk-toggleable__label-arrow:hover:before {color: black;}#sk-container-id-1 div.sk-estimator:hover label.sk-toggleable__label-arrow:before {color: black;}#sk-container-id-1 div.sk-toggleable__content {max-height: 0;max-width: 0;overflow: hidden;text-align: left;background-color: #f0f8ff;}#sk-container-id-1 div.sk-toggleable__content pre {margin: 0.2em;color: black;border-radius: 0.25em;background-color: #f0f8ff;}#sk-container-id-1 input.sk-toggleable__control:checked~div.sk-toggleable__content {max-height: 200px;max-width: 100%;overflow: auto;}#sk-container-id-1 input.sk-toggleable__control:checked~label.sk-toggleable__label-arrow:before {content: \"▾\";}#sk-container-id-1 div.sk-estimator input.sk-toggleable__control:checked~label.sk-toggleable__label {background-color: #d4ebff;}#sk-container-id-1 div.sk-label input.sk-toggleable__control:checked~label.sk-toggleable__label {background-color: #d4ebff;}#sk-container-id-1 input.sk-hidden--visually {border: 0;clip: rect(1px 1px 1px 1px);clip: rect(1px, 1px, 1px, 1px);height: 1px;margin: -1px;overflow: hidden;padding: 0;position: absolute;width: 1px;}#sk-container-id-1 div.sk-estimator {font-family: monospace;background-color: #f0f8ff;border: 1px dotted black;border-radius: 0.25em;box-sizing: border-box;margin-bottom: 0.5em;}#sk-container-id-1 div.sk-estimator:hover {background-color: #d4ebff;}#sk-container-id-1 div.sk-parallel-item::after {content: \"\";width: 100%;border-bottom: 1px solid gray;flex-grow: 1;}#sk-container-id-1 div.sk-label:hover label.sk-toggleable__label {background-color: #d4ebff;}#sk-container-id-1 div.sk-serial::before {content: \"\";position: absolute;border-left: 1px solid gray;box-sizing: border-box;top: 0;bottom: 0;left: 50%;z-index: 0;}#sk-container-id-1 div.sk-serial {display: flex;flex-direction: column;align-items: center;background-color: white;padding-right: 0.2em;padding-left: 0.2em;position: relative;}#sk-container-id-1 div.sk-item {position: relative;z-index: 1;}#sk-container-id-1 div.sk-parallel {display: flex;align-items: stretch;justify-content: center;background-color: white;position: relative;}#sk-container-id-1 div.sk-item::before, #sk-container-id-1 div.sk-parallel-item::before {content: \"\";position: absolute;border-left: 1px solid gray;box-sizing: border-box;top: 0;bottom: 0;left: 50%;z-index: -1;}#sk-container-id-1 div.sk-parallel-item {display: flex;flex-direction: column;z-index: 1;position: relative;background-color: white;}#sk-container-id-1 div.sk-parallel-item:first-child::after {align-self: flex-end;width: 50%;}#sk-container-id-1 div.sk-parallel-item:last-child::after {align-self: flex-start;width: 50%;}#sk-container-id-1 div.sk-parallel-item:only-child::after {width: 0;}#sk-container-id-1 div.sk-dashed-wrapped {border: 1px dashed gray;margin: 0 0.4em 0.5em 0.4em;box-sizing: border-box;padding-bottom: 0.4em;background-color: white;}#sk-container-id-1 div.sk-label label {font-family: monospace;font-weight: bold;display: inline-block;line-height: 1.2em;}#sk-container-id-1 div.sk-label-container {text-align: center;}#sk-container-id-1 div.sk-container {/* jupyter's `normalize.less` sets `[hidden] { display: none; }` but bootstrap.min.css set `[hidden] { display: none !important; }` so we also need the `!important` here to be able to override the default hidden behavior on the sphinx rendered scikit-learn.org. See: https://github.com/scikit-learn/scikit-learn/issues/21755 */display: inline-block !important;position: relative;}#sk-container-id-1 div.sk-text-repr-fallback {display: none;}</style><div id=\"sk-container-id-1\" class=\"sk-top-container\"><div class=\"sk-text-repr-fallback\"><pre>Pipeline(steps=[(&#x27;polynomialfeatures&#x27;, PolynomialFeatures()),\n",
              "                (&#x27;logisticregression&#x27;,\n",
              "                 LogisticRegression(max_iter=50, random_state=42,\n",
              "                                    solver=&#x27;saga&#x27;))])</pre><b>In a Jupyter environment, please rerun this cell to show the HTML representation or trust the notebook. <br />On GitHub, the HTML representation is unable to render, please try loading this page with nbviewer.org.</b></div><div class=\"sk-container\" hidden><div class=\"sk-item sk-dashed-wrapped\"><div class=\"sk-label-container\"><div class=\"sk-label sk-toggleable\"><input class=\"sk-toggleable__control sk-hidden--visually\" id=\"sk-estimator-id-1\" type=\"checkbox\" ><label for=\"sk-estimator-id-1\" class=\"sk-toggleable__label sk-toggleable__label-arrow\">Pipeline</label><div class=\"sk-toggleable__content\"><pre>Pipeline(steps=[(&#x27;polynomialfeatures&#x27;, PolynomialFeatures()),\n",
              "                (&#x27;logisticregression&#x27;,\n",
              "                 LogisticRegression(max_iter=50, random_state=42,\n",
              "                                    solver=&#x27;saga&#x27;))])</pre></div></div></div><div class=\"sk-serial\"><div class=\"sk-item\"><div class=\"sk-estimator sk-toggleable\"><input class=\"sk-toggleable__control sk-hidden--visually\" id=\"sk-estimator-id-2\" type=\"checkbox\" ><label for=\"sk-estimator-id-2\" class=\"sk-toggleable__label sk-toggleable__label-arrow\">PolynomialFeatures</label><div class=\"sk-toggleable__content\"><pre>PolynomialFeatures()</pre></div></div></div><div class=\"sk-item\"><div class=\"sk-estimator sk-toggleable\"><input class=\"sk-toggleable__control sk-hidden--visually\" id=\"sk-estimator-id-3\" type=\"checkbox\" ><label for=\"sk-estimator-id-3\" class=\"sk-toggleable__label sk-toggleable__label-arrow\">LogisticRegression</label><div class=\"sk-toggleable__content\"><pre>LogisticRegression(max_iter=50, random_state=42, solver=&#x27;saga&#x27;)</pre></div></div></div></div></div></div></div>"
            ]
          },
          "metadata": {},
          "execution_count": 72
        }
      ]
    },
    {
      "cell_type": "markdown",
      "source": [
        "Accuracy is increased slightly. Actually too slight. 🙊"
      ],
      "metadata": {
        "id": "oN4UcmhGqqZr"
      }
    },
    {
      "cell_type": "code",
      "source": [
        "y_test_pred = model4.predict(X_test)\n",
        "\n",
        "print('Test Accuracy:', accuracy_score(y_test, y_test_pred))\n"
      ],
      "metadata": {
        "colab": {
          "base_uri": "https://localhost:8080/"
        },
        "id": "ckpYRe1fPsU2",
        "outputId": "428e4f65-fe18-4790-9969-9c3974d81c13"
      },
      "execution_count": null,
      "outputs": [
        {
          "output_type": "stream",
          "name": "stdout",
          "text": [
            "Test Accuracy: 0.8956722483120662\n"
          ]
        }
      ]
    },
    {
      "cell_type": "markdown",
      "source": [
        "**SVC**"
      ],
      "metadata": {
        "id": "TGCXU_pZTs5P"
      }
    },
    {
      "cell_type": "markdown",
      "source": [
        "Enough of logistic. Now try some another method or another model.\n",
        "\n",
        "we are going for support vector machine. New model. 😀\n",
        "\n"
      ],
      "metadata": {
        "id": "C-JtQBBArB-S"
      }
    },
    {
      "cell_type": "code",
      "source": [
        "from sklearn.svm import SVC"
      ],
      "metadata": {
        "id": "_-UXCpChQFvr"
      },
      "execution_count": null,
      "outputs": []
    },
    {
      "cell_type": "markdown",
      "source": [
        "Training the model with our training data with a simple paramater C.\n",
        "\n",
        "Do we know what C does?\n",
        "\n",
        "Regularization parameter. The strength of the regularization is inversely proportional to C. Must be strictly positive. The penalty is a squared l2 penalty. (https://scikit-learn.org/stable/modules/generated/sklearn.svm.SVC.html)\n",
        "\n",
        "You know what is regularization. BINGO!!!\n",
        "\n",
        "What is accuracy? Here with a simple param and in a single go we got the same accuracy as we got from the model2. That is great!!!\n"
      ],
      "metadata": {
        "id": "o7oNzrhErgiJ"
      }
    },
    {
      "cell_type": "code",
      "source": [
        "# Fit SVM model\n",
        "svm = SVC(kernel='linear', C=1)\n",
        "svm.fit(X_train, y_train)\n",
        "\n",
        "# Make predictions on the training and test sets\n",
        "test_preds = svm.predict(X_test)\n",
        "\n",
        "print('Test Accuracy:', accuracy_score(y_test, test_preds))"
      ],
      "metadata": {
        "colab": {
          "base_uri": "https://localhost:8080/"
        },
        "id": "qnC1Htk4So8H",
        "outputId": "82cb4c8f-de1c-41b4-d831-b3e3dc02e4ea"
      },
      "execution_count": null,
      "outputs": [
        {
          "output_type": "stream",
          "name": "stdout",
          "text": [
            "Test Accuracy: 0.891197444776497\n"
          ]
        }
      ]
    },
    {
      "cell_type": "markdown",
      "source": [
        "No can we increase the accuracy by using SVC with some more parameter?\n",
        "\n",
        "let's try it!!!!\n",
        "\n",
        "Using polynomial kernel with C=1, degree = 2 and gamma = auto.\n",
        "\n",
        "So what does all this means?\n",
        "\n",
        "kernel = Specifies the kernel type to be used in the algorithm.\n",
        "\n",
        "degree = Degree of the polynomial kernel function (‘poly’). Must be non-negative.\n",
        "\n",
        "gamma = Kernel coefficient for ‘rbf’, ‘poly’ and ‘sigmoid’.\n",
        "\n",
        "(https://scikit-learn.org/stable/modules/generated/sklearn.svm.SVC.html)\n",
        "\n",
        "\n",
        "ohhhooo!!!! We decrease the accuracy. Let's go with first svm model."
      ],
      "metadata": {
        "id": "nypQxmxwsbd-"
      }
    },
    {
      "cell_type": "code",
      "source": [
        "# Fit SVM model\n",
        "svm1 = SVC(kernel='poly', C=1, degree = 2, gamma = 'auto')\n",
        "svm1.fit(X_train, y_train)\n",
        "\n",
        "# Make predictions on the training and test sets\n",
        "test_preds = svm1.predict(X_test)\n",
        "\n",
        "print('Test Accuracy:', accuracy_score(y_test, test_preds))"
      ],
      "metadata": {
        "colab": {
          "base_uri": "https://localhost:8080/"
        },
        "id": "70Sq2qT9T5v1",
        "outputId": "dfe3d2ec-15ae-4fe5-b175-55b04eba78dc"
      },
      "execution_count": null,
      "outputs": [
        {
          "output_type": "stream",
          "name": "stdout",
          "text": [
            "Test Accuracy: 0.8707050582673181\n"
          ]
        }
      ]
    },
    {
      "cell_type": "markdown",
      "source": [
        "**KNN**"
      ],
      "metadata": {
        "id": "taZn24JnpsEr"
      }
    },
    {
      "cell_type": "code",
      "source": [
        "from sklearn.neighbors import KNeighborsClassifier"
      ],
      "metadata": {
        "id": "oYVqMw4npS7U"
      },
      "execution_count": null,
      "outputs": []
    },
    {
      "cell_type": "markdown",
      "source": [
        "Let's try KNN. With 3 neighbour.\n",
        "\n",
        "No!! accuracy is not good as svm. 😓"
      ],
      "metadata": {
        "id": "fB0T6vpDtbdl"
      }
    },
    {
      "cell_type": "code",
      "source": [
        "# Fit KNN model\n",
        "knn = KNeighborsClassifier(n_neighbors=3)\n",
        "knn.fit(X_train, y_train)\n",
        "\n",
        "test_preds = knn.predict(X_test)\n",
        "\n",
        "print('Test Accuracy:', accuracy_score(y_test, test_preds))"
      ],
      "metadata": {
        "id": "qXpEqjhvZCH6",
        "colab": {
          "base_uri": "https://localhost:8080/"
        },
        "outputId": "8efc1331-8591-4583-9fa2-efae71f2340b"
      },
      "execution_count": null,
      "outputs": [
        {
          "output_type": "stream",
          "name": "stdout",
          "text": [
            "Test Accuracy: 0.8534225131635121\n"
          ]
        }
      ]
    },
    {
      "cell_type": "markdown",
      "source": [
        "Now let's go and try some parameter to see if knn can surpass svm.\n",
        "\n",
        "We are using neighbour=5 with ball_tree algo.\n",
        "\n",
        "What is this algorithm parameter doing here? 🤔\n",
        "\n",
        "algorithm = Algorithm used to compute the nearest neighbors\n",
        "\n",
        "(https://scikit-learn.org/stable/modules/generated/sklearn.neighbors.KNeighborsClassifier.html)\n",
        "\n",
        "\n",
        "Okay, so we didn't reach that level of svm with KNN here. May be bad luck!!"
      ],
      "metadata": {
        "id": "DcXYYqmdttjI"
      }
    },
    {
      "cell_type": "code",
      "source": [
        "# Adding some extra parameter:\n",
        "# Fit KNN model\n",
        "knn = KNeighborsClassifier(n_neighbors=5, algorithm = 'ball_tree')\n",
        "knn.fit(X_train, y_train)\n",
        "\n",
        "test_preds = knn.predict(X_test)\n",
        "\n",
        "print('Test Accuracy:', accuracy_score(y_test, test_preds))"
      ],
      "metadata": {
        "colab": {
          "base_uri": "https://localhost:8080/"
        },
        "id": "9r9_C-cfSDIr",
        "outputId": "5a1a7c9e-56a1-4823-8cf5-1f6ff15d53b8"
      },
      "execution_count": null,
      "outputs": [
        {
          "output_type": "stream",
          "name": "stdout",
          "text": [
            "Test Accuracy: 0.8623721202346505\n"
          ]
        }
      ]
    },
    {
      "cell_type": "markdown",
      "source": [
        "**Gaussian Naive Bayes**"
      ],
      "metadata": {
        "id": "DsdrSpMgdahc"
      }
    },
    {
      "cell_type": "code",
      "source": [
        "from sklearn.naive_bayes import GaussianNB"
      ],
      "metadata": {
        "id": "Zmh2xtbHSwTg"
      },
      "execution_count": null,
      "outputs": []
    },
    {
      "cell_type": "markdown",
      "source": [
        "Looked into the models with parameters. You can try gaussian naive bayes."
      ],
      "metadata": {
        "id": "gfzV1oh9ukwH"
      }
    },
    {
      "cell_type": "code",
      "source": [
        "# Fit Naive Bayes model\n",
        "nb = GaussianNB()\n",
        "nb.fit(X_train, y_train)\n",
        "\n",
        "test_preds = nb.predict(X_test)\n",
        "\n",
        "print('Test Accuracy:', accuracy_score(y_test, test_preds))"
      ],
      "metadata": {
        "colab": {
          "base_uri": "https://localhost:8080/"
        },
        "id": "BLQ4QmTTdcU7",
        "outputId": "5c2ac056-cbf7-42c9-b204-85e9c5a8809e"
      },
      "execution_count": null,
      "outputs": [
        {
          "output_type": "stream",
          "name": "stdout",
          "text": [
            "Test Accuracy: 0.8639375108707683\n"
          ]
        }
      ]
    },
    {
      "cell_type": "markdown",
      "source": [
        "**Naive Bayes classifier for multivariate Bernoulli models**"
      ],
      "metadata": {
        "id": "GveiM_cZeixl"
      }
    },
    {
      "cell_type": "code",
      "source": [
        "from sklearn.naive_bayes import BernoulliNB\n",
        "from sklearn.model_selection import train_test_split, GridSearchCV"
      ],
      "metadata": {
        "id": "T-9yykzbespX"
      },
      "execution_count": null,
      "outputs": []
    },
    {
      "cell_type": "markdown",
      "source": [
        "Using the bernoulli models."
      ],
      "metadata": {
        "id": "TCZQV062uuJH"
      }
    },
    {
      "cell_type": "code",
      "source": [
        "# Fit Bernoulli Naive Bayes model\n",
        "bnb = BernoulliNB()\n",
        "bnb.fit(X_train, y_train)\n",
        "\n",
        "test_preds = bnb.predict(X_test)\n",
        "\n",
        "print('Test Accuracy:', accuracy_score(y_test, test_preds))"
      ],
      "metadata": {
        "colab": {
          "base_uri": "https://localhost:8080/"
        },
        "id": "J8G04pnYdky5",
        "outputId": "69d5d809-5008-42fe-957a-f6177fe4e468"
      },
      "execution_count": null,
      "outputs": [
        {
          "output_type": "stream",
          "name": "stdout",
          "text": [
            "Test Accuracy: 0.8244074443021362\n"
          ]
        }
      ]
    },
    {
      "cell_type": "markdown",
      "source": [
        "Okay!!\n",
        "\n",
        "so what is this now?\n",
        "If we are trying to put some extra parameter in the model and train it then put another into the model and again retrain it. It will take a lot of time to finalise or identify those parameter for which we have got the highest accuracy. 😓\n",
        "\n",
        "Here many things comes into the field. Let's try one of them.\n",
        "\n",
        "Model will be bernoulli. To search the best hyper parameter for this model we will use girdsearchcv.\n",
        "\n",
        "What is that means? 😶\n",
        "\n",
        "Finding the best combination of hyperparameters for a machine learning model. It performs an exhaustive search over a predefined grid of hyperparameter values and evaluates the model's performance for each combination.\n",
        "\n",
        "\n",
        "Here we found the best parameter and accuracy using that also. That is also not good as svm model.\n",
        "\n",
        "what can we do now?\n",
        "we all need to try this search for best parameter for the svm model. Let's try and let us know what did you find?"
      ],
      "metadata": {
        "id": "hsu2XYtpuyLd"
      }
    },
    {
      "cell_type": "code",
      "source": [
        "# Define the hyperparameters to tune and the range of values to try\n",
        "params = {\n",
        "    'alpha': [0.01, 0.1, 1, 10, 100]\n",
        "}\n",
        "\n",
        "# Create a Bernoulli Naive Bayes model\n",
        "bnb = BernoulliNB()\n",
        "\n",
        "# Use GridSearchCV to find the best hyperparameters\n",
        "grid_search = GridSearchCV(bnb, params, cv=5)\n",
        "grid_search.fit(X_train, y_train)\n",
        "\n",
        "# Print the best hyperparameters\n",
        "print('Best Hyperparameters:', grid_search.best_params_)\n",
        "\n",
        "# Use the best hyperparameters to fit the model on the training data\n",
        "best_bnb = BernoulliNB(alpha=grid_search.best_params_['alpha'])\n",
        "best_bnb.fit(X_train, y_train)\n",
        "\n",
        "test_preds = best_bnb.predict(X_test)\n",
        "\n",
        "print('Test Accuracy:', accuracy_score(y_test, test_preds))"
      ],
      "metadata": {
        "colab": {
          "base_uri": "https://localhost:8080/"
        },
        "id": "kHEpwjtoe0v2",
        "outputId": "64d6c9d6-c17f-4c8a-bcd0-e435eabe539a"
      },
      "execution_count": null,
      "outputs": [
        {
          "output_type": "stream",
          "name": "stdout",
          "text": [
            "Best Hyperparameters: {'alpha': 1}\n",
            "Test Accuracy: 0.8244074443021362\n"
          ]
        }
      ]
    },
    {
      "cell_type": "markdown",
      "source": [
        "Accuracy is one of the most commonly used evaluation metrics for classification models. It measures the proportion of correctly classified instances over the total number of instances in the dataset. While accuracy is an important metric, it is not the only factor to consider when evaluating a classification model.\n",
        "\n",
        "There are something called confusion matrix, classification report, precision, recall which we can get it from confusion matrix or directly by calling function of python sklearn.\n",
        "\n",
        "We need to look into it right?\n",
        "\n",
        "Let's try it by ourselves and let us know what did you understand?\n",
        "\n",
        "Link: https://medium.com/swlh/confusion-matrix-and-classification-report-88105288d48f"
      ],
      "metadata": {
        "id": "PCqzbMzPwPTf"
      }
    },
    {
      "cell_type": "markdown",
      "source": [
        "**Now What??**\n",
        "\n",
        "\n",
        "--------------------------------------------------------------------------------\n",
        "\n",
        "Assess the model's performance using appropriate evaluation metrics, such as accuracy, precision, recall, and F1-score. This evaluation will provide insights into how well the model can predict loan approval outcomes.\n",
        "Provide insights and recommendations based on the model's predictions and feature importance. Analyze the impact of different features on loan approval decisions and identify key factors that significantly influence the outcome.\n",
        "\n",
        "\n",
        "Additionally, prepare a comprehensive report summarizing your findings and recommendations for improving the loan approval process based on the insights gained from the developed model.\n",
        "\n",
        "Note: Ensure that you apply suitable feature engineering techniques, and use appropriate validation strategies to ensure reliable model performance. Additionally, consider the ethical implications of the model's predictions and address any biases that may arise during the analysis."
      ],
      "metadata": {
        "id": "waDSCKZB9oAa"
      }
    },
    {
      "cell_type": "code",
      "source": [],
      "metadata": {
        "id": "1IBJ5X-bfwbA"
      },
      "execution_count": null,
      "outputs": []
    }
  ]
}