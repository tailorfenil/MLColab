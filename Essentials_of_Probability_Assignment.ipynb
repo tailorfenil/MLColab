{
  "nbformat": 4,
  "nbformat_minor": 0,
  "metadata": {
    "colab": {
      "provenance": [],
      "include_colab_link": true
    },
    "kernelspec": {
      "name": "python3",
      "display_name": "Python 3"
    },
    "language_info": {
      "name": "python"
    }
  },
  "cells": [
    {
      "cell_type": "markdown",
      "metadata": {
        "id": "view-in-github",
        "colab_type": "text"
      },
      "source": [
        "<a href=\"https://colab.research.google.com/github/tailorfenil/MLColab/blob/main/Essentials_of_Probability_Assignment.ipynb\" target=\"_parent\"><img src=\"https://colab.research.google.com/assets/colab-badge.svg\" alt=\"Open In Colab\"/></a>"
      ]
    },
    {
      "cell_type": "markdown",
      "source": [
        "# Please make a copy of this notebook and try solving the below questions in youe notebook copy. Solutions for these will be discussed in the assignment review session on thursday post which, we will also share the solution notebook.\n",
        "\n",
        "\n",
        "# **Good Luck**\n"
      ],
      "metadata": {
        "id": "2ccUEjr0E7md"
      }
    },
    {
      "cell_type": "markdown",
      "source": [
        "# Question 1\n",
        "## Coin Toss and Betting\n",
        "We have given a function coin_toss which simulate a single coin toss.\n",
        "\n",
        "The function coin_trial simulates a trail of 100 coint tosses by calling coin_toss function each time.\n",
        "\n",
        "Note that a fair coin is suppose to give you 50 heads and 50 tails.\n",
        "But that is not always the case. If you toss 100 times you might get less or more than 50 heads.\n",
        "\n",
        "\n",
        "But what if you repeat the experiment 10, 100, 1000 .. 10000 times. You will see that then the average number of heads will reach close to 50.\n",
        "\n",
        "The simulate function simulates this repeating experiment. If you call simulate with n = 1 then it is same as 100 coin tosses. If you call it with n = 10 then you repeat a trail of 100 coin tosses, 10 times.\n",
        "\n",
        "There is a very interesting probability theory in play which you will learn in the next class.\n",
        "\n",
        "But even if one doesn't know the law they can verify this by simulation"
      ],
      "metadata": {
        "id": "x6k_00GnSjSr"
      }
    },
    {
      "cell_type": "code",
      "source": [
        "import random\n",
        "def coin_toss():\n",
        "  if random.random() <= 0.5:\n",
        "    return 1\n",
        "  return 0\n",
        "\n",
        "def coin_trial():\n",
        "  heads = 0\n",
        "  for i in range(100):\n",
        "      heads +=coin_toss()\n",
        "  return heads\n",
        "def simulate(n):\n",
        "    trials = []\n",
        "    for i in range(n):\n",
        "        trials.append(coin_trial())\n",
        "    return(sum(trials)/n)"
      ],
      "metadata": {
        "id": "V4MTw2nASEi0"
      },
      "execution_count": null,
      "outputs": []
    },
    {
      "cell_type": "code",
      "source": [
        "simulate(1)"
      ],
      "metadata": {
        "colab": {
          "base_uri": "https://localhost:8080/"
        },
        "id": "K3LbfwacSEfr",
        "outputId": "c80510f9-c0ac-48e1-bfd1-e25fe22613dc"
      },
      "execution_count": null,
      "outputs": [
        {
          "output_type": "execute_result",
          "data": {
            "text/plain": [
              "48.0"
            ]
          },
          "metadata": {},
          "execution_count": 2
        }
      ]
    },
    {
      "cell_type": "code",
      "source": [
        "simulate(10)"
      ],
      "metadata": {
        "colab": {
          "base_uri": "https://localhost:8080/"
        },
        "id": "t9_p8zcbSEc7",
        "outputId": "b136df82-fbc8-4d0e-b84e-c9069582908e"
      },
      "execution_count": null,
      "outputs": [
        {
          "output_type": "execute_result",
          "data": {
            "text/plain": [
              "49.1"
            ]
          },
          "metadata": {},
          "execution_count": 3
        }
      ]
    },
    {
      "cell_type": "code",
      "source": [
        "simulate(100)"
      ],
      "metadata": {
        "colab": {
          "base_uri": "https://localhost:8080/"
        },
        "id": "3ZeVfF4iTxZa",
        "outputId": "0ef74104-2798-49dd-b64b-1d5645fa8a5e"
      },
      "execution_count": null,
      "outputs": [
        {
          "output_type": "execute_result",
          "data": {
            "text/plain": [
              "49.52"
            ]
          },
          "metadata": {},
          "execution_count": 4
        }
      ]
    },
    {
      "cell_type": "code",
      "source": [
        "simulate(1000)"
      ],
      "metadata": {
        "colab": {
          "base_uri": "https://localhost:8080/"
        },
        "id": "hfLVdWc2TzSX",
        "outputId": "c417501a-5210-471b-dc1b-d743886e8a6f"
      },
      "execution_count": null,
      "outputs": [
        {
          "output_type": "execute_result",
          "data": {
            "text/plain": [
              "49.758"
            ]
          },
          "metadata": {},
          "execution_count": 5
        }
      ]
    },
    {
      "cell_type": "code",
      "source": [
        "simulate(10000)"
      ],
      "metadata": {
        "colab": {
          "base_uri": "https://localhost:8080/"
        },
        "id": "qG1hr61rTzPY",
        "outputId": "5371dfc1-bd32-4812-821d-f09ee5afa72e"
      },
      "execution_count": null,
      "outputs": [
        {
          "output_type": "execute_result",
          "data": {
            "text/plain": [
              "50.0971"
            ]
          },
          "metadata": {},
          "execution_count": 6
        }
      ]
    },
    {
      "cell_type": "markdown",
      "source": [
        "Try simulating this 100 coin toss 10, 100, 1000, 10000 times and notice if the average number of heads you are getting is approaching close to 50. Can you tell intuitively why this happens?\n"
      ],
      "metadata": {
        "id": "2N6NHNaxT2zL"
      }
    },
    {
      "cell_type": "code",
      "source": [],
      "metadata": {
        "id": "P7NBQxpVTzJe"
      },
      "execution_count": null,
      "outputs": []
    },
    {
      "cell_type": "markdown",
      "source": [
        "## Betting offer\n",
        "Your friends comes up with a fair coin and proposes the following. You will toss the coin untill heads comes up. For each tails you will pay your friend 10\\$, But if a head comes up your friend will pay you 15\\$\n",
        "\n",
        "The sample space of such an experiment looks like this {H, TH, TTH, .... TTTTTH ....}. As soon as a head comes up you stop tossing and your friend pays you 100\\$. You need to pay your friend 10\\$ for each tails that came up. So to make a profit you need to get head as quickly as possible.\n",
        "\n",
        "You can use the simulate a fair coin like we did above. Now you use power of simulation.\n",
        "\n",
        "Write a simulation logic and a trial logic with which you can decide if you should take this bet or not.\n",
        "\n",
        "What if your friend offered you 100\\$ once head comes up? Will you take the bet?\n",
        "\n",
        "Write a simulation function to decide."
      ],
      "metadata": {
        "id": "7IXQkuNXUGXL"
      }
    },
    {
      "cell_type": "code",
      "source": [
        "# your code here"
      ],
      "metadata": {
        "id": "d5LhXOUTWqii"
      },
      "execution_count": null,
      "outputs": []
    },
    {
      "cell_type": "code",
      "source": [],
      "metadata": {
        "id": "sOAdxN0KWqfu"
      },
      "execution_count": null,
      "outputs": []
    },
    {
      "cell_type": "markdown",
      "source": [
        "# Question 2\n",
        "## Dice Roll\n",
        "Write a python function to simulate a casino where 2 dice are rolled together and the player wins if there is two six and gets 100\\$. If the casino fee is 5 cents per game, what will be average profit?"
      ],
      "metadata": {
        "id": "QFYvWrVMaaY9"
      }
    },
    {
      "cell_type": "code",
      "source": [],
      "metadata": {
        "id": "ZA2WGJkCWqc3"
      },
      "execution_count": null,
      "outputs": []
    },
    {
      "cell_type": "code",
      "source": [],
      "metadata": {
        "id": "bkF-dBCQWqUq"
      },
      "execution_count": null,
      "outputs": []
    },
    {
      "cell_type": "markdown",
      "source": [
        "# Question 3\n",
        "## Covid Test Data\n",
        "### Cure Diagonistics is conducting covid test on people. They have some data on covid test done on last 1 week. You are an analyst at Cure Diagonistics.\n",
        "\n",
        "### You are given a covid test data where 100 patients underwent RT-PCR and Fast Test. You are also given whether the patients were actually infected or not and the gender of the person. Each of the column has a binary entry.\n",
        "\n",
        "### covid_fast_kit: 0 - Covid Negative, 1- Covid Positive\n",
        "\n",
        "\n",
        "### covid_rt_pcr: 0 - Covid Negative, 1- Covid Positive\n",
        "\n",
        "\n",
        "### actual_diagnostic: 0 - Covid Negative, 1- Covid Positive\n",
        "\n",
        "### Sex - 0 : Male, 1: Female\n",
        "\n",
        "\n",
        "\n",
        "\n"
      ],
      "metadata": {
        "id": "hvolcgvFFPsU"
      }
    },
    {
      "cell_type": "code",
      "source": [
        "import pandas as pd\n",
        "\n",
        "df= pd.read_csv(\"covid.csv\")"
      ],
      "metadata": {
        "id": "vTayyvREFPIM"
      },
      "execution_count": null,
      "outputs": []
    },
    {
      "cell_type": "code",
      "source": [
        "df.head()"
      ],
      "metadata": {
        "colab": {
          "base_uri": "https://localhost:8080/",
          "height": 206
        },
        "id": "NNuaCkcMB6vH",
        "outputId": "7f24928a-f60c-4f0a-8473-af52fcacc886"
      },
      "execution_count": null,
      "outputs": [
        {
          "output_type": "execute_result",
          "data": {
            "text/plain": [
              "   patient_id  sex  covid_fast_kit  covid_rt_pcr  actual_diagnostic\n",
              "0           0    0               1             0                  0\n",
              "1           1    1               0             1                  1\n",
              "2           2    0               1             0                  1\n",
              "3           3    0               0             0                  0\n",
              "4           4    0               1             0                  1"
            ],
            "text/html": [
              "\n",
              "  <div id=\"df-33b153d7-3a44-44a2-9eb3-67baa98802f0\">\n",
              "    <div class=\"colab-df-container\">\n",
              "      <div>\n",
              "<style scoped>\n",
              "    .dataframe tbody tr th:only-of-type {\n",
              "        vertical-align: middle;\n",
              "    }\n",
              "\n",
              "    .dataframe tbody tr th {\n",
              "        vertical-align: top;\n",
              "    }\n",
              "\n",
              "    .dataframe thead th {\n",
              "        text-align: right;\n",
              "    }\n",
              "</style>\n",
              "<table border=\"1\" class=\"dataframe\">\n",
              "  <thead>\n",
              "    <tr style=\"text-align: right;\">\n",
              "      <th></th>\n",
              "      <th>patient_id</th>\n",
              "      <th>sex</th>\n",
              "      <th>covid_fast_kit</th>\n",
              "      <th>covid_rt_pcr</th>\n",
              "      <th>actual_diagnostic</th>\n",
              "    </tr>\n",
              "  </thead>\n",
              "  <tbody>\n",
              "    <tr>\n",
              "      <th>0</th>\n",
              "      <td>0</td>\n",
              "      <td>0</td>\n",
              "      <td>1</td>\n",
              "      <td>0</td>\n",
              "      <td>0</td>\n",
              "    </tr>\n",
              "    <tr>\n",
              "      <th>1</th>\n",
              "      <td>1</td>\n",
              "      <td>1</td>\n",
              "      <td>0</td>\n",
              "      <td>1</td>\n",
              "      <td>1</td>\n",
              "    </tr>\n",
              "    <tr>\n",
              "      <th>2</th>\n",
              "      <td>2</td>\n",
              "      <td>0</td>\n",
              "      <td>1</td>\n",
              "      <td>0</td>\n",
              "      <td>1</td>\n",
              "    </tr>\n",
              "    <tr>\n",
              "      <th>3</th>\n",
              "      <td>3</td>\n",
              "      <td>0</td>\n",
              "      <td>0</td>\n",
              "      <td>0</td>\n",
              "      <td>0</td>\n",
              "    </tr>\n",
              "    <tr>\n",
              "      <th>4</th>\n",
              "      <td>4</td>\n",
              "      <td>0</td>\n",
              "      <td>1</td>\n",
              "      <td>0</td>\n",
              "      <td>1</td>\n",
              "    </tr>\n",
              "  </tbody>\n",
              "</table>\n",
              "</div>\n",
              "      <button class=\"colab-df-convert\" onclick=\"convertToInteractive('df-33b153d7-3a44-44a2-9eb3-67baa98802f0')\"\n",
              "              title=\"Convert this dataframe to an interactive table.\"\n",
              "              style=\"display:none;\">\n",
              "        \n",
              "  <svg xmlns=\"http://www.w3.org/2000/svg\" height=\"24px\"viewBox=\"0 0 24 24\"\n",
              "       width=\"24px\">\n",
              "    <path d=\"M0 0h24v24H0V0z\" fill=\"none\"/>\n",
              "    <path d=\"M18.56 5.44l.94 2.06.94-2.06 2.06-.94-2.06-.94-.94-2.06-.94 2.06-2.06.94zm-11 1L8.5 8.5l.94-2.06 2.06-.94-2.06-.94L8.5 2.5l-.94 2.06-2.06.94zm10 10l.94 2.06.94-2.06 2.06-.94-2.06-.94-.94-2.06-.94 2.06-2.06.94z\"/><path d=\"M17.41 7.96l-1.37-1.37c-.4-.4-.92-.59-1.43-.59-.52 0-1.04.2-1.43.59L10.3 9.45l-7.72 7.72c-.78.78-.78 2.05 0 2.83L4 21.41c.39.39.9.59 1.41.59.51 0 1.02-.2 1.41-.59l7.78-7.78 2.81-2.81c.8-.78.8-2.07 0-2.86zM5.41 20L4 18.59l7.72-7.72 1.47 1.35L5.41 20z\"/>\n",
              "  </svg>\n",
              "      </button>\n",
              "      \n",
              "  <style>\n",
              "    .colab-df-container {\n",
              "      display:flex;\n",
              "      flex-wrap:wrap;\n",
              "      gap: 12px;\n",
              "    }\n",
              "\n",
              "    .colab-df-convert {\n",
              "      background-color: #E8F0FE;\n",
              "      border: none;\n",
              "      border-radius: 50%;\n",
              "      cursor: pointer;\n",
              "      display: none;\n",
              "      fill: #1967D2;\n",
              "      height: 32px;\n",
              "      padding: 0 0 0 0;\n",
              "      width: 32px;\n",
              "    }\n",
              "\n",
              "    .colab-df-convert:hover {\n",
              "      background-color: #E2EBFA;\n",
              "      box-shadow: 0px 1px 2px rgba(60, 64, 67, 0.3), 0px 1px 3px 1px rgba(60, 64, 67, 0.15);\n",
              "      fill: #174EA6;\n",
              "    }\n",
              "\n",
              "    [theme=dark] .colab-df-convert {\n",
              "      background-color: #3B4455;\n",
              "      fill: #D2E3FC;\n",
              "    }\n",
              "\n",
              "    [theme=dark] .colab-df-convert:hover {\n",
              "      background-color: #434B5C;\n",
              "      box-shadow: 0px 1px 3px 1px rgba(0, 0, 0, 0.15);\n",
              "      filter: drop-shadow(0px 1px 2px rgba(0, 0, 0, 0.3));\n",
              "      fill: #FFFFFF;\n",
              "    }\n",
              "  </style>\n",
              "\n",
              "      <script>\n",
              "        const buttonEl =\n",
              "          document.querySelector('#df-33b153d7-3a44-44a2-9eb3-67baa98802f0 button.colab-df-convert');\n",
              "        buttonEl.style.display =\n",
              "          google.colab.kernel.accessAllowed ? 'block' : 'none';\n",
              "\n",
              "        async function convertToInteractive(key) {\n",
              "          const element = document.querySelector('#df-33b153d7-3a44-44a2-9eb3-67baa98802f0');\n",
              "          const dataTable =\n",
              "            await google.colab.kernel.invokeFunction('convertToInteractive',\n",
              "                                                     [key], {});\n",
              "          if (!dataTable) return;\n",
              "\n",
              "          const docLinkHtml = 'Like what you see? Visit the ' +\n",
              "            '<a target=\"_blank\" href=https://colab.research.google.com/notebooks/data_table.ipynb>data table notebook</a>'\n",
              "            + ' to learn more about interactive tables.';\n",
              "          element.innerHTML = '';\n",
              "          dataTable['output_type'] = 'display_data';\n",
              "          await google.colab.output.renderOutput(dataTable, element);\n",
              "          const docLink = document.createElement('div');\n",
              "          docLink.innerHTML = docLinkHtml;\n",
              "          element.appendChild(docLink);\n",
              "        }\n",
              "      </script>\n",
              "    </div>\n",
              "  </div>\n",
              "  "
            ]
          },
          "metadata": {},
          "execution_count": 12
        }
      ]
    },
    {
      "cell_type": "code",
      "source": [],
      "metadata": {
        "id": "5Bbaa762d745"
      },
      "execution_count": null,
      "outputs": []
    },
    {
      "cell_type": "markdown",
      "source": [
        "##\n",
        "### Given this data you need to figure out the following.\n",
        "\n",
        "1. Cure Diagonistics gives out free medicine kit to covid patient who are actually infected. Given they have 100 patients coming in ever week, how many free medicine kit should they prepare for next week given the data above?\n",
        "Who is more likely to be covid infected - Male or Female?\n",
        "\n",
        "2. covid_rt_pcr takes 48 hrs to get results. Cure Diagonistics is planning to have covid_fast_kit test which reduces testing time from 48 hrs to 40 mins. Both covid_rt_pcr and covid_fast_kit test were done last week for each patient.\n",
        "  \n",
        "\n",
        "    \n",
        "> i. If a patient has tested positive using covid_fast_kit, what is the probability that he or she is actually infected?\n",
        "\n",
        "> ii. If a patient has tested positive using covid_rt_pcr, what is the probability that he or she is actually infected?\n",
        "\n",
        "From i. and ii what will you inform the patients about the trade off?\n",
        "\n",
        "\n",
        "\n",
        "\n",
        "\n"
      ],
      "metadata": {
        "id": "rcncIHt6GuhG"
      }
    },
    {
      "cell_type": "code",
      "source": [],
      "metadata": {
        "id": "5al2-IuSB6rK"
      },
      "execution_count": null,
      "outputs": []
    },
    {
      "cell_type": "markdown",
      "source": [],
      "metadata": {
        "id": "3w_XD6TQbncR"
      }
    },
    {
      "cell_type": "markdown",
      "source": [],
      "metadata": {
        "id": "hQZ3GsQxbnZc"
      }
    },
    {
      "cell_type": "markdown",
      "source": [
        "# Question 4\n",
        "## Infinte monkey Theorem\n",
        "The infinite monkey theorem states that a monkey hitting keys at random on a typewriter keyboard for an infinite amount of time will almost surely type any given text, such as the complete works of William Shakespeare.\n",
        "\n",
        "Suppose the type writer can only type between A-Z. Ignoring punctuation, spacing, and capitalization write a function that calculates the probability of writing the tiltle \"Hamlet\"?\n",
        "\n",
        "The text of Hamlet contains approximately 130,000 letters. Can you comment on the chance of the monkey typing out Hamlet by randomly hitting keys of the typewriter?\n",
        "\n",
        "\n"
      ],
      "metadata": {
        "id": "eB53ExGJbnWm"
      }
    },
    {
      "cell_type": "markdown",
      "source": [],
      "metadata": {
        "id": "VZ6_SWqVbnTn"
      }
    },
    {
      "cell_type": "code",
      "source": [],
      "metadata": {
        "id": "5bwg9257B6n2"
      },
      "execution_count": null,
      "outputs": []
    },
    {
      "cell_type": "markdown",
      "source": [
        "# Question 5\n",
        "#Spam Classification\n",
        "\n",
        "##Exploring the Dataset\n",
        "\n",
        "Let's start by opening the SMSSpamCollection file with the read_csv() function from the pandas package. We're going to use:\n",
        "\n",
        "sep='\\t' because the data points are tab separated\n",
        "\n",
        "header=None because the dataset doesn't have a header row\n",
        "\n",
        "names=['Label', 'SMS'] to name the columns"
      ],
      "metadata": {
        "id": "WAhygSuptnaD"
      }
    },
    {
      "cell_type": "code",
      "source": [
        "!wget https://archive.ics.uci.edu/ml/machine-learning-databases/00228/smsspamcollection.zip\n",
        "!unzip smsspamcollection.zip\n"
      ],
      "metadata": {
        "colab": {
          "base_uri": "https://localhost:8080/"
        },
        "id": "R0AtM28Sc3W1",
        "outputId": "cb00d670-0df4-470c-a3e4-f7646d7ac6f6"
      },
      "execution_count": null,
      "outputs": [
        {
          "output_type": "stream",
          "name": "stdout",
          "text": [
            "--2023-04-01 04:24:46--  https://archive.ics.uci.edu/ml/machine-learning-databases/00228/smsspamcollection.zip\n",
            "Resolving archive.ics.uci.edu (archive.ics.uci.edu)... 128.195.10.252\n",
            "Connecting to archive.ics.uci.edu (archive.ics.uci.edu)|128.195.10.252|:443... connected.\n",
            "HTTP request sent, awaiting response... 200 OK\n",
            "Length: 203415 (199K) [application/x-httpd-php]\n",
            "Saving to: ‘smsspamcollection.zip’\n",
            "\n",
            "\rsmsspamcollection.z   0%[                    ]       0  --.-KB/s               \rsmsspamcollection.z 100%[===================>] 198.65K  --.-KB/s    in 0.04s   \n",
            "\n",
            "2023-04-01 04:24:46 (4.69 MB/s) - ‘smsspamcollection.zip’ saved [203415/203415]\n",
            "\n",
            "Archive:  smsspamcollection.zip\n",
            "  inflating: SMSSpamCollection       \n",
            "  inflating: readme                  \n"
          ]
        }
      ]
    },
    {
      "cell_type": "code",
      "source": [
        "import pandas as pd\n",
        "\n",
        "sms_spam = pd.read_csv('SMSSpamCollection', sep='\\t',\n",
        "header=None, names=['Label', 'SMS'])\n",
        "\n",
        "print(sms_spam.shape)\n",
        "sms_spam.head()"
      ],
      "metadata": {
        "id": "RxelxnFOR88U",
        "colab": {
          "base_uri": "https://localhost:8080/",
          "height": 225
        },
        "outputId": "3cfdf80a-f7e5-4bd6-bc89-a462ed081b69"
      },
      "execution_count": null,
      "outputs": [
        {
          "output_type": "stream",
          "name": "stdout",
          "text": [
            "(5572, 2)\n"
          ]
        },
        {
          "output_type": "execute_result",
          "data": {
            "text/plain": [
              "  Label                                                SMS\n",
              "0   ham  Go until jurong point, crazy.. Available only ...\n",
              "1   ham                      Ok lar... Joking wif u oni...\n",
              "2  spam  Free entry in 2 a wkly comp to win FA Cup fina...\n",
              "3   ham  U dun say so early hor... U c already then say...\n",
              "4   ham  Nah I don't think he goes to usf, he lives aro..."
            ],
            "text/html": [
              "\n",
              "  <div id=\"df-afeaa443-0bc9-4d38-bd49-ca048b6dd714\">\n",
              "    <div class=\"colab-df-container\">\n",
              "      <div>\n",
              "<style scoped>\n",
              "    .dataframe tbody tr th:only-of-type {\n",
              "        vertical-align: middle;\n",
              "    }\n",
              "\n",
              "    .dataframe tbody tr th {\n",
              "        vertical-align: top;\n",
              "    }\n",
              "\n",
              "    .dataframe thead th {\n",
              "        text-align: right;\n",
              "    }\n",
              "</style>\n",
              "<table border=\"1\" class=\"dataframe\">\n",
              "  <thead>\n",
              "    <tr style=\"text-align: right;\">\n",
              "      <th></th>\n",
              "      <th>Label</th>\n",
              "      <th>SMS</th>\n",
              "    </tr>\n",
              "  </thead>\n",
              "  <tbody>\n",
              "    <tr>\n",
              "      <th>0</th>\n",
              "      <td>ham</td>\n",
              "      <td>Go until jurong point, crazy.. Available only ...</td>\n",
              "    </tr>\n",
              "    <tr>\n",
              "      <th>1</th>\n",
              "      <td>ham</td>\n",
              "      <td>Ok lar... Joking wif u oni...</td>\n",
              "    </tr>\n",
              "    <tr>\n",
              "      <th>2</th>\n",
              "      <td>spam</td>\n",
              "      <td>Free entry in 2 a wkly comp to win FA Cup fina...</td>\n",
              "    </tr>\n",
              "    <tr>\n",
              "      <th>3</th>\n",
              "      <td>ham</td>\n",
              "      <td>U dun say so early hor... U c already then say...</td>\n",
              "    </tr>\n",
              "    <tr>\n",
              "      <th>4</th>\n",
              "      <td>ham</td>\n",
              "      <td>Nah I don't think he goes to usf, he lives aro...</td>\n",
              "    </tr>\n",
              "  </tbody>\n",
              "</table>\n",
              "</div>\n",
              "      <button class=\"colab-df-convert\" onclick=\"convertToInteractive('df-afeaa443-0bc9-4d38-bd49-ca048b6dd714')\"\n",
              "              title=\"Convert this dataframe to an interactive table.\"\n",
              "              style=\"display:none;\">\n",
              "        \n",
              "  <svg xmlns=\"http://www.w3.org/2000/svg\" height=\"24px\"viewBox=\"0 0 24 24\"\n",
              "       width=\"24px\">\n",
              "    <path d=\"M0 0h24v24H0V0z\" fill=\"none\"/>\n",
              "    <path d=\"M18.56 5.44l.94 2.06.94-2.06 2.06-.94-2.06-.94-.94-2.06-.94 2.06-2.06.94zm-11 1L8.5 8.5l.94-2.06 2.06-.94-2.06-.94L8.5 2.5l-.94 2.06-2.06.94zm10 10l.94 2.06.94-2.06 2.06-.94-2.06-.94-.94-2.06-.94 2.06-2.06.94z\"/><path d=\"M17.41 7.96l-1.37-1.37c-.4-.4-.92-.59-1.43-.59-.52 0-1.04.2-1.43.59L10.3 9.45l-7.72 7.72c-.78.78-.78 2.05 0 2.83L4 21.41c.39.39.9.59 1.41.59.51 0 1.02-.2 1.41-.59l7.78-7.78 2.81-2.81c.8-.78.8-2.07 0-2.86zM5.41 20L4 18.59l7.72-7.72 1.47 1.35L5.41 20z\"/>\n",
              "  </svg>\n",
              "      </button>\n",
              "      \n",
              "  <style>\n",
              "    .colab-df-container {\n",
              "      display:flex;\n",
              "      flex-wrap:wrap;\n",
              "      gap: 12px;\n",
              "    }\n",
              "\n",
              "    .colab-df-convert {\n",
              "      background-color: #E8F0FE;\n",
              "      border: none;\n",
              "      border-radius: 50%;\n",
              "      cursor: pointer;\n",
              "      display: none;\n",
              "      fill: #1967D2;\n",
              "      height: 32px;\n",
              "      padding: 0 0 0 0;\n",
              "      width: 32px;\n",
              "    }\n",
              "\n",
              "    .colab-df-convert:hover {\n",
              "      background-color: #E2EBFA;\n",
              "      box-shadow: 0px 1px 2px rgba(60, 64, 67, 0.3), 0px 1px 3px 1px rgba(60, 64, 67, 0.15);\n",
              "      fill: #174EA6;\n",
              "    }\n",
              "\n",
              "    [theme=dark] .colab-df-convert {\n",
              "      background-color: #3B4455;\n",
              "      fill: #D2E3FC;\n",
              "    }\n",
              "\n",
              "    [theme=dark] .colab-df-convert:hover {\n",
              "      background-color: #434B5C;\n",
              "      box-shadow: 0px 1px 3px 1px rgba(0, 0, 0, 0.15);\n",
              "      filter: drop-shadow(0px 1px 2px rgba(0, 0, 0, 0.3));\n",
              "      fill: #FFFFFF;\n",
              "    }\n",
              "  </style>\n",
              "\n",
              "      <script>\n",
              "        const buttonEl =\n",
              "          document.querySelector('#df-afeaa443-0bc9-4d38-bd49-ca048b6dd714 button.colab-df-convert');\n",
              "        buttonEl.style.display =\n",
              "          google.colab.kernel.accessAllowed ? 'block' : 'none';\n",
              "\n",
              "        async function convertToInteractive(key) {\n",
              "          const element = document.querySelector('#df-afeaa443-0bc9-4d38-bd49-ca048b6dd714');\n",
              "          const dataTable =\n",
              "            await google.colab.kernel.invokeFunction('convertToInteractive',\n",
              "                                                     [key], {});\n",
              "          if (!dataTable) return;\n",
              "\n",
              "          const docLinkHtml = 'Like what you see? Visit the ' +\n",
              "            '<a target=\"_blank\" href=https://colab.research.google.com/notebooks/data_table.ipynb>data table notebook</a>'\n",
              "            + ' to learn more about interactive tables.';\n",
              "          element.innerHTML = '';\n",
              "          dataTable['output_type'] = 'display_data';\n",
              "          await google.colab.output.renderOutput(dataTable, element);\n",
              "          const docLink = document.createElement('div');\n",
              "          docLink.innerHTML = docLinkHtml;\n",
              "          element.appendChild(docLink);\n",
              "        }\n",
              "      </script>\n",
              "    </div>\n",
              "  </div>\n",
              "  "
            ]
          },
          "metadata": {},
          "execution_count": 2
        }
      ]
    },
    {
      "cell_type": "code",
      "source": [
        "sms_spam[sms_spam['Label'] == 'spam']"
      ],
      "metadata": {
        "colab": {
          "base_uri": "https://localhost:8080/",
          "height": 424
        },
        "id": "55cadcfgD3wQ",
        "outputId": "7c1b234c-fa09-4e95-e1c4-1a4d8ddc8427"
      },
      "execution_count": null,
      "outputs": [
        {
          "output_type": "execute_result",
          "data": {
            "text/plain": [
              "     Label                                                SMS\n",
              "2     spam  Free entry in 2 a wkly comp to win FA Cup fina...\n",
              "5     spam  FreeMsg Hey there darling it's been 3 week's n...\n",
              "8     spam  WINNER!! As a valued network customer you have...\n",
              "9     spam  Had your mobile 11 months or more? U R entitle...\n",
              "11    spam  SIX chances to win CASH! From 100 to 20,000 po...\n",
              "...    ...                                                ...\n",
              "5537  spam  Want explicit SEX in 30 secs? Ring 02073162414...\n",
              "5540  spam  ASKED 3MOBILE IF 0870 CHATLINES INCLU IN FREE ...\n",
              "5547  spam  Had your contract mobile 11 Mnths? Latest Moto...\n",
              "5566  spam  REMINDER FROM O2: To get 2.50 pounds free call...\n",
              "5567  spam  This is the 2nd time we have tried 2 contact u...\n",
              "\n",
              "[747 rows x 2 columns]"
            ],
            "text/html": [
              "\n",
              "  <div id=\"df-758899c1-956e-4c4a-864e-f5bdf0c7b446\">\n",
              "    <div class=\"colab-df-container\">\n",
              "      <div>\n",
              "<style scoped>\n",
              "    .dataframe tbody tr th:only-of-type {\n",
              "        vertical-align: middle;\n",
              "    }\n",
              "\n",
              "    .dataframe tbody tr th {\n",
              "        vertical-align: top;\n",
              "    }\n",
              "\n",
              "    .dataframe thead th {\n",
              "        text-align: right;\n",
              "    }\n",
              "</style>\n",
              "<table border=\"1\" class=\"dataframe\">\n",
              "  <thead>\n",
              "    <tr style=\"text-align: right;\">\n",
              "      <th></th>\n",
              "      <th>Label</th>\n",
              "      <th>SMS</th>\n",
              "    </tr>\n",
              "  </thead>\n",
              "  <tbody>\n",
              "    <tr>\n",
              "      <th>2</th>\n",
              "      <td>spam</td>\n",
              "      <td>Free entry in 2 a wkly comp to win FA Cup fina...</td>\n",
              "    </tr>\n",
              "    <tr>\n",
              "      <th>5</th>\n",
              "      <td>spam</td>\n",
              "      <td>FreeMsg Hey there darling it's been 3 week's n...</td>\n",
              "    </tr>\n",
              "    <tr>\n",
              "      <th>8</th>\n",
              "      <td>spam</td>\n",
              "      <td>WINNER!! As a valued network customer you have...</td>\n",
              "    </tr>\n",
              "    <tr>\n",
              "      <th>9</th>\n",
              "      <td>spam</td>\n",
              "      <td>Had your mobile 11 months or more? U R entitle...</td>\n",
              "    </tr>\n",
              "    <tr>\n",
              "      <th>11</th>\n",
              "      <td>spam</td>\n",
              "      <td>SIX chances to win CASH! From 100 to 20,000 po...</td>\n",
              "    </tr>\n",
              "    <tr>\n",
              "      <th>...</th>\n",
              "      <td>...</td>\n",
              "      <td>...</td>\n",
              "    </tr>\n",
              "    <tr>\n",
              "      <th>5537</th>\n",
              "      <td>spam</td>\n",
              "      <td>Want explicit SEX in 30 secs? Ring 02073162414...</td>\n",
              "    </tr>\n",
              "    <tr>\n",
              "      <th>5540</th>\n",
              "      <td>spam</td>\n",
              "      <td>ASKED 3MOBILE IF 0870 CHATLINES INCLU IN FREE ...</td>\n",
              "    </tr>\n",
              "    <tr>\n",
              "      <th>5547</th>\n",
              "      <td>spam</td>\n",
              "      <td>Had your contract mobile 11 Mnths? Latest Moto...</td>\n",
              "    </tr>\n",
              "    <tr>\n",
              "      <th>5566</th>\n",
              "      <td>spam</td>\n",
              "      <td>REMINDER FROM O2: To get 2.50 pounds free call...</td>\n",
              "    </tr>\n",
              "    <tr>\n",
              "      <th>5567</th>\n",
              "      <td>spam</td>\n",
              "      <td>This is the 2nd time we have tried 2 contact u...</td>\n",
              "    </tr>\n",
              "  </tbody>\n",
              "</table>\n",
              "<p>747 rows × 2 columns</p>\n",
              "</div>\n",
              "      <button class=\"colab-df-convert\" onclick=\"convertToInteractive('df-758899c1-956e-4c4a-864e-f5bdf0c7b446')\"\n",
              "              title=\"Convert this dataframe to an interactive table.\"\n",
              "              style=\"display:none;\">\n",
              "        \n",
              "  <svg xmlns=\"http://www.w3.org/2000/svg\" height=\"24px\"viewBox=\"0 0 24 24\"\n",
              "       width=\"24px\">\n",
              "    <path d=\"M0 0h24v24H0V0z\" fill=\"none\"/>\n",
              "    <path d=\"M18.56 5.44l.94 2.06.94-2.06 2.06-.94-2.06-.94-.94-2.06-.94 2.06-2.06.94zm-11 1L8.5 8.5l.94-2.06 2.06-.94-2.06-.94L8.5 2.5l-.94 2.06-2.06.94zm10 10l.94 2.06.94-2.06 2.06-.94-2.06-.94-.94-2.06-.94 2.06-2.06.94z\"/><path d=\"M17.41 7.96l-1.37-1.37c-.4-.4-.92-.59-1.43-.59-.52 0-1.04.2-1.43.59L10.3 9.45l-7.72 7.72c-.78.78-.78 2.05 0 2.83L4 21.41c.39.39.9.59 1.41.59.51 0 1.02-.2 1.41-.59l7.78-7.78 2.81-2.81c.8-.78.8-2.07 0-2.86zM5.41 20L4 18.59l7.72-7.72 1.47 1.35L5.41 20z\"/>\n",
              "  </svg>\n",
              "      </button>\n",
              "      \n",
              "  <style>\n",
              "    .colab-df-container {\n",
              "      display:flex;\n",
              "      flex-wrap:wrap;\n",
              "      gap: 12px;\n",
              "    }\n",
              "\n",
              "    .colab-df-convert {\n",
              "      background-color: #E8F0FE;\n",
              "      border: none;\n",
              "      border-radius: 50%;\n",
              "      cursor: pointer;\n",
              "      display: none;\n",
              "      fill: #1967D2;\n",
              "      height: 32px;\n",
              "      padding: 0 0 0 0;\n",
              "      width: 32px;\n",
              "    }\n",
              "\n",
              "    .colab-df-convert:hover {\n",
              "      background-color: #E2EBFA;\n",
              "      box-shadow: 0px 1px 2px rgba(60, 64, 67, 0.3), 0px 1px 3px 1px rgba(60, 64, 67, 0.15);\n",
              "      fill: #174EA6;\n",
              "    }\n",
              "\n",
              "    [theme=dark] .colab-df-convert {\n",
              "      background-color: #3B4455;\n",
              "      fill: #D2E3FC;\n",
              "    }\n",
              "\n",
              "    [theme=dark] .colab-df-convert:hover {\n",
              "      background-color: #434B5C;\n",
              "      box-shadow: 0px 1px 3px 1px rgba(0, 0, 0, 0.15);\n",
              "      filter: drop-shadow(0px 1px 2px rgba(0, 0, 0, 0.3));\n",
              "      fill: #FFFFFF;\n",
              "    }\n",
              "  </style>\n",
              "\n",
              "      <script>\n",
              "        const buttonEl =\n",
              "          document.querySelector('#df-758899c1-956e-4c4a-864e-f5bdf0c7b446 button.colab-df-convert');\n",
              "        buttonEl.style.display =\n",
              "          google.colab.kernel.accessAllowed ? 'block' : 'none';\n",
              "\n",
              "        async function convertToInteractive(key) {\n",
              "          const element = document.querySelector('#df-758899c1-956e-4c4a-864e-f5bdf0c7b446');\n",
              "          const dataTable =\n",
              "            await google.colab.kernel.invokeFunction('convertToInteractive',\n",
              "                                                     [key], {});\n",
              "          if (!dataTable) return;\n",
              "\n",
              "          const docLinkHtml = 'Like what you see? Visit the ' +\n",
              "            '<a target=\"_blank\" href=https://colab.research.google.com/notebooks/data_table.ipynb>data table notebook</a>'\n",
              "            + ' to learn more about interactive tables.';\n",
              "          element.innerHTML = '';\n",
              "          dataTable['output_type'] = 'display_data';\n",
              "          await google.colab.output.renderOutput(dataTable, element);\n",
              "          const docLink = document.createElement('div');\n",
              "          docLink.innerHTML = docLinkHtml;\n",
              "          element.appendChild(docLink);\n",
              "        }\n",
              "      </script>\n",
              "    </div>\n",
              "  </div>\n",
              "  "
            ]
          },
          "metadata": {},
          "execution_count": 3
        }
      ]
    },
    {
      "cell_type": "code",
      "source": [
        "sms_spam[sms_spam['Label'] == 'ham']"
      ],
      "metadata": {
        "colab": {
          "base_uri": "https://localhost:8080/",
          "height": 424
        },
        "id": "PvF1TUDbD3th",
        "outputId": "9b0f4842-e011-4977-eaa0-56d23e51847c"
      },
      "execution_count": null,
      "outputs": [
        {
          "output_type": "execute_result",
          "data": {
            "text/plain": [
              "     Label                                                SMS\n",
              "0      ham  Go until jurong point, crazy.. Available only ...\n",
              "1      ham                      Ok lar... Joking wif u oni...\n",
              "3      ham  U dun say so early hor... U c already then say...\n",
              "4      ham  Nah I don't think he goes to usf, he lives aro...\n",
              "6      ham  Even my brother is not like to speak with me. ...\n",
              "...    ...                                                ...\n",
              "5565   ham                                       Huh y lei...\n",
              "5568   ham               Will ü b going to esplanade fr home?\n",
              "5569   ham  Pity, * was in mood for that. So...any other s...\n",
              "5570   ham  The guy did some bitching but I acted like i'd...\n",
              "5571   ham                         Rofl. Its true to its name\n",
              "\n",
              "[4825 rows x 2 columns]"
            ],
            "text/html": [
              "\n",
              "  <div id=\"df-55a21d82-4b9b-428b-814e-e6b82a352211\">\n",
              "    <div class=\"colab-df-container\">\n",
              "      <div>\n",
              "<style scoped>\n",
              "    .dataframe tbody tr th:only-of-type {\n",
              "        vertical-align: middle;\n",
              "    }\n",
              "\n",
              "    .dataframe tbody tr th {\n",
              "        vertical-align: top;\n",
              "    }\n",
              "\n",
              "    .dataframe thead th {\n",
              "        text-align: right;\n",
              "    }\n",
              "</style>\n",
              "<table border=\"1\" class=\"dataframe\">\n",
              "  <thead>\n",
              "    <tr style=\"text-align: right;\">\n",
              "      <th></th>\n",
              "      <th>Label</th>\n",
              "      <th>SMS</th>\n",
              "    </tr>\n",
              "  </thead>\n",
              "  <tbody>\n",
              "    <tr>\n",
              "      <th>0</th>\n",
              "      <td>ham</td>\n",
              "      <td>Go until jurong point, crazy.. Available only ...</td>\n",
              "    </tr>\n",
              "    <tr>\n",
              "      <th>1</th>\n",
              "      <td>ham</td>\n",
              "      <td>Ok lar... Joking wif u oni...</td>\n",
              "    </tr>\n",
              "    <tr>\n",
              "      <th>3</th>\n",
              "      <td>ham</td>\n",
              "      <td>U dun say so early hor... U c already then say...</td>\n",
              "    </tr>\n",
              "    <tr>\n",
              "      <th>4</th>\n",
              "      <td>ham</td>\n",
              "      <td>Nah I don't think he goes to usf, he lives aro...</td>\n",
              "    </tr>\n",
              "    <tr>\n",
              "      <th>6</th>\n",
              "      <td>ham</td>\n",
              "      <td>Even my brother is not like to speak with me. ...</td>\n",
              "    </tr>\n",
              "    <tr>\n",
              "      <th>...</th>\n",
              "      <td>...</td>\n",
              "      <td>...</td>\n",
              "    </tr>\n",
              "    <tr>\n",
              "      <th>5565</th>\n",
              "      <td>ham</td>\n",
              "      <td>Huh y lei...</td>\n",
              "    </tr>\n",
              "    <tr>\n",
              "      <th>5568</th>\n",
              "      <td>ham</td>\n",
              "      <td>Will ü b going to esplanade fr home?</td>\n",
              "    </tr>\n",
              "    <tr>\n",
              "      <th>5569</th>\n",
              "      <td>ham</td>\n",
              "      <td>Pity, * was in mood for that. So...any other s...</td>\n",
              "    </tr>\n",
              "    <tr>\n",
              "      <th>5570</th>\n",
              "      <td>ham</td>\n",
              "      <td>The guy did some bitching but I acted like i'd...</td>\n",
              "    </tr>\n",
              "    <tr>\n",
              "      <th>5571</th>\n",
              "      <td>ham</td>\n",
              "      <td>Rofl. Its true to its name</td>\n",
              "    </tr>\n",
              "  </tbody>\n",
              "</table>\n",
              "<p>4825 rows × 2 columns</p>\n",
              "</div>\n",
              "      <button class=\"colab-df-convert\" onclick=\"convertToInteractive('df-55a21d82-4b9b-428b-814e-e6b82a352211')\"\n",
              "              title=\"Convert this dataframe to an interactive table.\"\n",
              "              style=\"display:none;\">\n",
              "        \n",
              "  <svg xmlns=\"http://www.w3.org/2000/svg\" height=\"24px\"viewBox=\"0 0 24 24\"\n",
              "       width=\"24px\">\n",
              "    <path d=\"M0 0h24v24H0V0z\" fill=\"none\"/>\n",
              "    <path d=\"M18.56 5.44l.94 2.06.94-2.06 2.06-.94-2.06-.94-.94-2.06-.94 2.06-2.06.94zm-11 1L8.5 8.5l.94-2.06 2.06-.94-2.06-.94L8.5 2.5l-.94 2.06-2.06.94zm10 10l.94 2.06.94-2.06 2.06-.94-2.06-.94-.94-2.06-.94 2.06-2.06.94z\"/><path d=\"M17.41 7.96l-1.37-1.37c-.4-.4-.92-.59-1.43-.59-.52 0-1.04.2-1.43.59L10.3 9.45l-7.72 7.72c-.78.78-.78 2.05 0 2.83L4 21.41c.39.39.9.59 1.41.59.51 0 1.02-.2 1.41-.59l7.78-7.78 2.81-2.81c.8-.78.8-2.07 0-2.86zM5.41 20L4 18.59l7.72-7.72 1.47 1.35L5.41 20z\"/>\n",
              "  </svg>\n",
              "      </button>\n",
              "      \n",
              "  <style>\n",
              "    .colab-df-container {\n",
              "      display:flex;\n",
              "      flex-wrap:wrap;\n",
              "      gap: 12px;\n",
              "    }\n",
              "\n",
              "    .colab-df-convert {\n",
              "      background-color: #E8F0FE;\n",
              "      border: none;\n",
              "      border-radius: 50%;\n",
              "      cursor: pointer;\n",
              "      display: none;\n",
              "      fill: #1967D2;\n",
              "      height: 32px;\n",
              "      padding: 0 0 0 0;\n",
              "      width: 32px;\n",
              "    }\n",
              "\n",
              "    .colab-df-convert:hover {\n",
              "      background-color: #E2EBFA;\n",
              "      box-shadow: 0px 1px 2px rgba(60, 64, 67, 0.3), 0px 1px 3px 1px rgba(60, 64, 67, 0.15);\n",
              "      fill: #174EA6;\n",
              "    }\n",
              "\n",
              "    [theme=dark] .colab-df-convert {\n",
              "      background-color: #3B4455;\n",
              "      fill: #D2E3FC;\n",
              "    }\n",
              "\n",
              "    [theme=dark] .colab-df-convert:hover {\n",
              "      background-color: #434B5C;\n",
              "      box-shadow: 0px 1px 3px 1px rgba(0, 0, 0, 0.15);\n",
              "      filter: drop-shadow(0px 1px 2px rgba(0, 0, 0, 0.3));\n",
              "      fill: #FFFFFF;\n",
              "    }\n",
              "  </style>\n",
              "\n",
              "      <script>\n",
              "        const buttonEl =\n",
              "          document.querySelector('#df-55a21d82-4b9b-428b-814e-e6b82a352211 button.colab-df-convert');\n",
              "        buttonEl.style.display =\n",
              "          google.colab.kernel.accessAllowed ? 'block' : 'none';\n",
              "\n",
              "        async function convertToInteractive(key) {\n",
              "          const element = document.querySelector('#df-55a21d82-4b9b-428b-814e-e6b82a352211');\n",
              "          const dataTable =\n",
              "            await google.colab.kernel.invokeFunction('convertToInteractive',\n",
              "                                                     [key], {});\n",
              "          if (!dataTable) return;\n",
              "\n",
              "          const docLinkHtml = 'Like what you see? Visit the ' +\n",
              "            '<a target=\"_blank\" href=https://colab.research.google.com/notebooks/data_table.ipynb>data table notebook</a>'\n",
              "            + ' to learn more about interactive tables.';\n",
              "          element.innerHTML = '';\n",
              "          dataTable['output_type'] = 'display_data';\n",
              "          await google.colab.output.renderOutput(dataTable, element);\n",
              "          const docLink = document.createElement('div');\n",
              "          docLink.innerHTML = docLinkHtml;\n",
              "          element.appendChild(docLink);\n",
              "        }\n",
              "      </script>\n",
              "    </div>\n",
              "  </div>\n",
              "  "
            ]
          },
          "metadata": {},
          "execution_count": 4
        }
      ]
    },
    {
      "cell_type": "markdown",
      "source": [],
      "metadata": {
        "id": "vjw6Bttbd1ht"
      }
    },
    {
      "cell_type": "markdown",
      "source": [
        "\n",
        "Given the above data we want to predict if a given sms is **spam** or not (aslo called **ham**).\n",
        "One way to think about this problem is using Bayes' Theorem. In terms of probability we want to find out the $P(Spam | SMS)$\n",
        "\n",
        "\\begin{align}\n",
        "P(Spam | SMS) = \\frac{P(Spam) P(SMS|Spam) } {P(Spam) P(SMS|Spam) + P(Ham) P(SMS|Ham)}\n",
        "\\end{align}\n",
        "where $P(Spam)$ is the prior probability of an sms being spam. $P(SMS|Spam)$ is the likelihood of a sms being spam.\n",
        "\n",
        "Note that we need to estimate $P(Spam | SMS)$ which is the posterior probability of a SMS being spam.\n"
      ],
      "metadata": {
        "id": "rFjjcIwad1cs"
      }
    },
    {
      "cell_type": "markdown",
      "source": [
        "What is the prior probability of a message to be Spam?\n",
        "What is $P(Spam)$"
      ],
      "metadata": {
        "id": "2yrjomW2trfg"
      }
    },
    {
      "cell_type": "markdown",
      "source": [
        "\\begin{align}\n",
        "P(Spam) = \\frac{\\#Spam\\_SMS}{\\#SMS}\n",
        "\\end{align}\n",
        "\n",
        "In the next cell write code for calculating $P(Spam)$"
      ],
      "metadata": {
        "id": "0HGNnHUh5MQr"
      }
    },
    {
      "cell_type": "code",
      "source": [
        "## your code here"
      ],
      "metadata": {
        "id": "JtVON2l5R9GR"
      },
      "execution_count": null,
      "outputs": []
    },
    {
      "cell_type": "markdown",
      "source": [
        "What is $P(Ham)$?"
      ],
      "metadata": {
        "id": "oXBQnNaM6C_P"
      }
    },
    {
      "cell_type": "code",
      "source": [
        "## your code here"
      ],
      "metadata": {
        "id": "GPbBL8ry-3Dw"
      },
      "execution_count": null,
      "outputs": []
    },
    {
      "cell_type": "markdown",
      "source": [
        "**Training and Test Set**\n",
        "\n",
        "In machine learning, we need to  split our dataset into a training set and a test set. We'll use 80% of the data for training and the remaining 20% for testing.\n",
        "\n",
        "Training data is on which we need to estimate the probabilities. We will apply this estimate to decide spam or ham in test set and measure accuracy.\n",
        "\n",
        "Can you tell why we need to split data to training and test set?"
      ],
      "metadata": {
        "id": "5QoLzgEats5m"
      }
    },
    {
      "cell_type": "code",
      "source": [
        "# Randomize the dataset\n",
        "data_randomized = sms_spam.sample(frac=1, random_state=1)\n",
        "\n",
        "# Calculate index for split\n",
        "training_test_index = round(len(data_randomized) * 0.8)\n",
        "\n",
        "# Split into training and test sets\n",
        "training_set = data_randomized[:training_test_index].reset_index(drop=True)\n",
        "test_set = data_randomized[training_test_index:].reset_index(drop=True)\n",
        "\n",
        "print(training_set.shape)\n",
        "print(test_set.shape)"
      ],
      "metadata": {
        "id": "YCfRIf4Jr6yr",
        "colab": {
          "base_uri": "https://localhost:8080/"
        },
        "outputId": "29d5ec56-ac5a-4382-d064-717e7ec340f4"
      },
      "execution_count": null,
      "outputs": [
        {
          "output_type": "stream",
          "name": "stdout",
          "text": [
            "(4458, 2)\n",
            "(1114, 2)\n"
          ]
        }
      ]
    },
    {
      "cell_type": "code",
      "source": [],
      "metadata": {
        "id": "cSn7Z4pCG-oW"
      },
      "execution_count": null,
      "outputs": []
    },
    {
      "cell_type": "code",
      "source": [],
      "metadata": {
        "id": "Skl2CSDiG-lf"
      },
      "execution_count": null,
      "outputs": []
    },
    {
      "cell_type": "code",
      "source": [],
      "metadata": {
        "id": "9rgkDe77G-gL"
      },
      "execution_count": null,
      "outputs": []
    },
    {
      "cell_type": "markdown",
      "source": [
        "Next we need to calculate $P(SMS|Spam)$. This probability will tell us what is the likelihood of a SMS being spam.\n",
        "\n",
        "This is tricky. Why?\n",
        "\n",
        "First we need to understand what a **SMS** is made of. A **SMS** is sequence of words. We can represent a SMS as sequence of words $w_1, w_2 ... w_n$, where $w_i$ is the $i^{th}$  word.\n",
        "\n",
        "When we want to know the likelihood of a\n",
        "\n",
        "\\begin{align}\n",
        "P(SMS|Spam) = P(w_1, w_2 \\ldots w_n|Spam)\n",
        "\\end{align}\n",
        "\n",
        "$P(w_1, w_2 \\ldots w_n|Spam) $ looks scary!\n",
        "\n",
        "How do we calculate this?\n",
        "\n",
        "Let's understand this a little more. Let's take two SMS and understand this:\n",
        "\n",
        "Spam SMS - \"WINNER!! As a valued network customer you have\"\n",
        "Ham SMS - \"Even my brother is not like to speak with me...\"\n",
        "\n",
        "If we look at the words in the SMS we can tell which one is Spam and which one is Ham.\n",
        "\n",
        "But how are we really saying this? The words in the SMS.\n",
        "Notice the first SMS has words like \"winner, customer, network\" these are more likely to be associated with Spam messages. Where as second sms has words like \"brother, speak. me\" which are genuine words usually found in personal sms.\n",
        "\n",
        "Hence the word sequence $w_1, w_2 \\ldots w_n$ will be different for Spam and Ham sms and we want to estimate $P(w_1, w_2 \\ldots w_n|Spam)$.\n",
        "\n",
        "Remember probability can be estimated with counts. Let $c$ be the number of times word sequence $w_1, w_2 \\ldots w_n$ is found in data and $c_{spam}$ is the number of times it is marked as spam\n",
        "\n",
        "\\begin{align}\n",
        "P(w_1, w_2 \\ldots w_n|Spam) = \\frac{c_{spam}}{c}\n",
        "\\end{align}\n",
        "\n",
        "When $w_1, w_2 \\ldots w_n$ = \"WINNER!! As a valued network customer you have\" then we are trying to see how many times the same sms has come. Ideally this will be very rare that such exact sms comes multiple times so the probability estimates will be incorrect.\n",
        "\n",
        "To make better estimate we are going to make an assumption. What if the words $w1, w2 \\ldots w_n$ are independent?\n",
        "\\begin{align}\n",
        "P(w_1, w_2 \\ldots w_n|Spam) = P(w_1|Spam)P(w_2|Spam) \\ldots P(w_n|Spam)\n",
        "\\end{align}\n",
        "\n",
        "This follows from multiplicative rule of probability and independence assumption.\n",
        "Now if we want to calculate the likelihood of a SMS is spam then we can calculate\n",
        "\\begin{align}\n",
        "P(w_i|Spam) = \\frac{N_{i|spam}}{N_{spam}}\n",
        "\\end{align}\n",
        "where $N_{spam}$ is the number spam emails in the training set and $N_{i|spam}$ is the number of times the word is associated with a spam email.\n",
        "\n",
        "So for each word we need to calculate the counts of time it appears in training set, overall and by each SMS type - Spam and Ham.\n",
        "\n",
        "Then using Bayes' rule we can calculate the Posterior."
      ],
      "metadata": {
        "id": "r5OgOeih6IpI"
      }
    },
    {
      "cell_type": "markdown",
      "source": [],
      "metadata": {
        "id": "Bhc4mW8W6Ias"
      }
    },
    {
      "cell_type": "markdown",
      "source": [],
      "metadata": {
        "id": "ZsyUH7cXHLLi"
      }
    },
    {
      "cell_type": "markdown",
      "source": [],
      "metadata": {
        "id": "3O96u1QbHLIa"
      }
    },
    {
      "cell_type": "code",
      "source": [],
      "metadata": {
        "id": "r7XVu5D4HKwb"
      },
      "execution_count": null,
      "outputs": []
    },
    {
      "cell_type": "markdown",
      "source": [
        "**Data Cleaning**\n",
        "\n",
        "When a new message comes in, our multinomial Naive Bayes algorithm will make the classification based on the results\n",
        "\n",
        "To calculate all these probabilities, we'll first need to perform a bit of data cleaning to bring the data into a format that allows us to easily extract all the information we need. Right now, our training and test sets have this format (the messages below are fictitious to make the example easier to understand):\n"
      ],
      "metadata": {
        "id": "zFTszRXStuoQ"
      }
    },
    {
      "cell_type": "code",
      "source": [
        "training_set['Label'].value_counts(normalize=True)"
      ],
      "metadata": {
        "id": "xf5s7tP0r7ET",
        "colab": {
          "base_uri": "https://localhost:8080/"
        },
        "outputId": "6672b14a-2ecd-4b59-875b-2febe865cd94"
      },
      "execution_count": null,
      "outputs": [
        {
          "output_type": "execute_result",
          "data": {
            "text/plain": [
              "ham     0.86541\n",
              "spam    0.13459\n",
              "Name: Label, dtype: float64"
            ]
          },
          "metadata": {},
          "execution_count": 8
        }
      ]
    },
    {
      "cell_type": "code",
      "source": [
        "test_set['Label'].value_counts(normalize=True)"
      ],
      "metadata": {
        "id": "67XzC_d1r7Td",
        "colab": {
          "base_uri": "https://localhost:8080/"
        },
        "outputId": "2a4319a3-f9a0-4d97-ca14-3cf969cf1524"
      },
      "execution_count": null,
      "outputs": [
        {
          "output_type": "execute_result",
          "data": {
            "text/plain": [
              "ham     0.868043\n",
              "spam    0.131957\n",
              "Name: Label, dtype: float64"
            ]
          },
          "metadata": {},
          "execution_count": 9
        }
      ]
    },
    {
      "cell_type": "code",
      "source": [
        "# Before cleaning\n",
        "training_set.head(3)"
      ],
      "metadata": {
        "id": "NY2xREDFXt3i",
        "colab": {
          "base_uri": "https://localhost:8080/",
          "height": 143
        },
        "outputId": "148be0e5-f861-43d2-b0fb-a3939301f345"
      },
      "execution_count": null,
      "outputs": [
        {
          "output_type": "execute_result",
          "data": {
            "text/plain": [
              "  Label                                            SMS\n",
              "0   ham                   Yep, by the pretty sculpture\n",
              "1   ham  Yes, princess. Are you going to make me moan?\n",
              "2   ham                     Welp apparently he retired"
            ],
            "text/html": [
              "\n",
              "  <div id=\"df-c7c14f7b-95c3-4482-ba27-50de00f75915\">\n",
              "    <div class=\"colab-df-container\">\n",
              "      <div>\n",
              "<style scoped>\n",
              "    .dataframe tbody tr th:only-of-type {\n",
              "        vertical-align: middle;\n",
              "    }\n",
              "\n",
              "    .dataframe tbody tr th {\n",
              "        vertical-align: top;\n",
              "    }\n",
              "\n",
              "    .dataframe thead th {\n",
              "        text-align: right;\n",
              "    }\n",
              "</style>\n",
              "<table border=\"1\" class=\"dataframe\">\n",
              "  <thead>\n",
              "    <tr style=\"text-align: right;\">\n",
              "      <th></th>\n",
              "      <th>Label</th>\n",
              "      <th>SMS</th>\n",
              "    </tr>\n",
              "  </thead>\n",
              "  <tbody>\n",
              "    <tr>\n",
              "      <th>0</th>\n",
              "      <td>ham</td>\n",
              "      <td>Yep, by the pretty sculpture</td>\n",
              "    </tr>\n",
              "    <tr>\n",
              "      <th>1</th>\n",
              "      <td>ham</td>\n",
              "      <td>Yes, princess. Are you going to make me moan?</td>\n",
              "    </tr>\n",
              "    <tr>\n",
              "      <th>2</th>\n",
              "      <td>ham</td>\n",
              "      <td>Welp apparently he retired</td>\n",
              "    </tr>\n",
              "  </tbody>\n",
              "</table>\n",
              "</div>\n",
              "      <button class=\"colab-df-convert\" onclick=\"convertToInteractive('df-c7c14f7b-95c3-4482-ba27-50de00f75915')\"\n",
              "              title=\"Convert this dataframe to an interactive table.\"\n",
              "              style=\"display:none;\">\n",
              "        \n",
              "  <svg xmlns=\"http://www.w3.org/2000/svg\" height=\"24px\"viewBox=\"0 0 24 24\"\n",
              "       width=\"24px\">\n",
              "    <path d=\"M0 0h24v24H0V0z\" fill=\"none\"/>\n",
              "    <path d=\"M18.56 5.44l.94 2.06.94-2.06 2.06-.94-2.06-.94-.94-2.06-.94 2.06-2.06.94zm-11 1L8.5 8.5l.94-2.06 2.06-.94-2.06-.94L8.5 2.5l-.94 2.06-2.06.94zm10 10l.94 2.06.94-2.06 2.06-.94-2.06-.94-.94-2.06-.94 2.06-2.06.94z\"/><path d=\"M17.41 7.96l-1.37-1.37c-.4-.4-.92-.59-1.43-.59-.52 0-1.04.2-1.43.59L10.3 9.45l-7.72 7.72c-.78.78-.78 2.05 0 2.83L4 21.41c.39.39.9.59 1.41.59.51 0 1.02-.2 1.41-.59l7.78-7.78 2.81-2.81c.8-.78.8-2.07 0-2.86zM5.41 20L4 18.59l7.72-7.72 1.47 1.35L5.41 20z\"/>\n",
              "  </svg>\n",
              "      </button>\n",
              "      \n",
              "  <style>\n",
              "    .colab-df-container {\n",
              "      display:flex;\n",
              "      flex-wrap:wrap;\n",
              "      gap: 12px;\n",
              "    }\n",
              "\n",
              "    .colab-df-convert {\n",
              "      background-color: #E8F0FE;\n",
              "      border: none;\n",
              "      border-radius: 50%;\n",
              "      cursor: pointer;\n",
              "      display: none;\n",
              "      fill: #1967D2;\n",
              "      height: 32px;\n",
              "      padding: 0 0 0 0;\n",
              "      width: 32px;\n",
              "    }\n",
              "\n",
              "    .colab-df-convert:hover {\n",
              "      background-color: #E2EBFA;\n",
              "      box-shadow: 0px 1px 2px rgba(60, 64, 67, 0.3), 0px 1px 3px 1px rgba(60, 64, 67, 0.15);\n",
              "      fill: #174EA6;\n",
              "    }\n",
              "\n",
              "    [theme=dark] .colab-df-convert {\n",
              "      background-color: #3B4455;\n",
              "      fill: #D2E3FC;\n",
              "    }\n",
              "\n",
              "    [theme=dark] .colab-df-convert:hover {\n",
              "      background-color: #434B5C;\n",
              "      box-shadow: 0px 1px 3px 1px rgba(0, 0, 0, 0.15);\n",
              "      filter: drop-shadow(0px 1px 2px rgba(0, 0, 0, 0.3));\n",
              "      fill: #FFFFFF;\n",
              "    }\n",
              "  </style>\n",
              "\n",
              "      <script>\n",
              "        const buttonEl =\n",
              "          document.querySelector('#df-c7c14f7b-95c3-4482-ba27-50de00f75915 button.colab-df-convert');\n",
              "        buttonEl.style.display =\n",
              "          google.colab.kernel.accessAllowed ? 'block' : 'none';\n",
              "\n",
              "        async function convertToInteractive(key) {\n",
              "          const element = document.querySelector('#df-c7c14f7b-95c3-4482-ba27-50de00f75915');\n",
              "          const dataTable =\n",
              "            await google.colab.kernel.invokeFunction('convertToInteractive',\n",
              "                                                     [key], {});\n",
              "          if (!dataTable) return;\n",
              "\n",
              "          const docLinkHtml = 'Like what you see? Visit the ' +\n",
              "            '<a target=\"_blank\" href=https://colab.research.google.com/notebooks/data_table.ipynb>data table notebook</a>'\n",
              "            + ' to learn more about interactive tables.';\n",
              "          element.innerHTML = '';\n",
              "          dataTable['output_type'] = 'display_data';\n",
              "          await google.colab.output.renderOutput(dataTable, element);\n",
              "          const docLink = document.createElement('div');\n",
              "          docLink.innerHTML = docLinkHtml;\n",
              "          element.appendChild(docLink);\n",
              "        }\n",
              "      </script>\n",
              "    </div>\n",
              "  </div>\n",
              "  "
            ]
          },
          "metadata": {},
          "execution_count": 10
        }
      ]
    },
    {
      "cell_type": "markdown",
      "source": [
        "**Letter Case and Punctuation**\n",
        "\n",
        "Let's begin the data cleaning process by removing the punctuation and making all the words lowercase."
      ],
      "metadata": {
        "id": "Ealk2sKSJVK9"
      }
    },
    {
      "cell_type": "markdown",
      "source": [],
      "metadata": {
        "id": "HRmCUOfntyg8"
      }
    },
    {
      "cell_type": "code",
      "source": [
        "# After cleaning\n",
        "training_set['SMS'] = training_set['SMS'].str.replace(\n",
        "   '\\W', ' ') # Removes punctuation\n",
        "training_set['SMS'] = training_set['SMS'].str.lower()\n",
        "training_set.head(3)"
      ],
      "metadata": {
        "id": "jEWyIWwZXt6F",
        "colab": {
          "base_uri": "https://localhost:8080/",
          "height": 180
        },
        "outputId": "3077de3b-eb61-47b4-da29-67b22346823f"
      },
      "execution_count": null,
      "outputs": [
        {
          "output_type": "stream",
          "name": "stderr",
          "text": [
            "<ipython-input-16-82891ec54ccc>:2: FutureWarning: The default value of regex will change from True to False in a future version.\n",
            "  training_set['SMS'] = training_set['SMS'].str.replace(\n"
          ]
        },
        {
          "output_type": "execute_result",
          "data": {
            "text/plain": [
              "  Label                                            SMS\n",
              "0   ham                   yep  by the pretty sculpture\n",
              "1   ham  yes  princess  are you going to make me moan \n",
              "2   ham                     welp apparently he retired"
            ],
            "text/html": [
              "\n",
              "  <div id=\"df-1000e330-6d89-4e54-8a2c-fece74b31c9c\">\n",
              "    <div class=\"colab-df-container\">\n",
              "      <div>\n",
              "<style scoped>\n",
              "    .dataframe tbody tr th:only-of-type {\n",
              "        vertical-align: middle;\n",
              "    }\n",
              "\n",
              "    .dataframe tbody tr th {\n",
              "        vertical-align: top;\n",
              "    }\n",
              "\n",
              "    .dataframe thead th {\n",
              "        text-align: right;\n",
              "    }\n",
              "</style>\n",
              "<table border=\"1\" class=\"dataframe\">\n",
              "  <thead>\n",
              "    <tr style=\"text-align: right;\">\n",
              "      <th></th>\n",
              "      <th>Label</th>\n",
              "      <th>SMS</th>\n",
              "    </tr>\n",
              "  </thead>\n",
              "  <tbody>\n",
              "    <tr>\n",
              "      <th>0</th>\n",
              "      <td>ham</td>\n",
              "      <td>yep  by the pretty sculpture</td>\n",
              "    </tr>\n",
              "    <tr>\n",
              "      <th>1</th>\n",
              "      <td>ham</td>\n",
              "      <td>yes  princess  are you going to make me moan</td>\n",
              "    </tr>\n",
              "    <tr>\n",
              "      <th>2</th>\n",
              "      <td>ham</td>\n",
              "      <td>welp apparently he retired</td>\n",
              "    </tr>\n",
              "  </tbody>\n",
              "</table>\n",
              "</div>\n",
              "      <button class=\"colab-df-convert\" onclick=\"convertToInteractive('df-1000e330-6d89-4e54-8a2c-fece74b31c9c')\"\n",
              "              title=\"Convert this dataframe to an interactive table.\"\n",
              "              style=\"display:none;\">\n",
              "        \n",
              "  <svg xmlns=\"http://www.w3.org/2000/svg\" height=\"24px\"viewBox=\"0 0 24 24\"\n",
              "       width=\"24px\">\n",
              "    <path d=\"M0 0h24v24H0V0z\" fill=\"none\"/>\n",
              "    <path d=\"M18.56 5.44l.94 2.06.94-2.06 2.06-.94-2.06-.94-.94-2.06-.94 2.06-2.06.94zm-11 1L8.5 8.5l.94-2.06 2.06-.94-2.06-.94L8.5 2.5l-.94 2.06-2.06.94zm10 10l.94 2.06.94-2.06 2.06-.94-2.06-.94-.94-2.06-.94 2.06-2.06.94z\"/><path d=\"M17.41 7.96l-1.37-1.37c-.4-.4-.92-.59-1.43-.59-.52 0-1.04.2-1.43.59L10.3 9.45l-7.72 7.72c-.78.78-.78 2.05 0 2.83L4 21.41c.39.39.9.59 1.41.59.51 0 1.02-.2 1.41-.59l7.78-7.78 2.81-2.81c.8-.78.8-2.07 0-2.86zM5.41 20L4 18.59l7.72-7.72 1.47 1.35L5.41 20z\"/>\n",
              "  </svg>\n",
              "      </button>\n",
              "      \n",
              "  <style>\n",
              "    .colab-df-container {\n",
              "      display:flex;\n",
              "      flex-wrap:wrap;\n",
              "      gap: 12px;\n",
              "    }\n",
              "\n",
              "    .colab-df-convert {\n",
              "      background-color: #E8F0FE;\n",
              "      border: none;\n",
              "      border-radius: 50%;\n",
              "      cursor: pointer;\n",
              "      display: none;\n",
              "      fill: #1967D2;\n",
              "      height: 32px;\n",
              "      padding: 0 0 0 0;\n",
              "      width: 32px;\n",
              "    }\n",
              "\n",
              "    .colab-df-convert:hover {\n",
              "      background-color: #E2EBFA;\n",
              "      box-shadow: 0px 1px 2px rgba(60, 64, 67, 0.3), 0px 1px 3px 1px rgba(60, 64, 67, 0.15);\n",
              "      fill: #174EA6;\n",
              "    }\n",
              "\n",
              "    [theme=dark] .colab-df-convert {\n",
              "      background-color: #3B4455;\n",
              "      fill: #D2E3FC;\n",
              "    }\n",
              "\n",
              "    [theme=dark] .colab-df-convert:hover {\n",
              "      background-color: #434B5C;\n",
              "      box-shadow: 0px 1px 3px 1px rgba(0, 0, 0, 0.15);\n",
              "      filter: drop-shadow(0px 1px 2px rgba(0, 0, 0, 0.3));\n",
              "      fill: #FFFFFF;\n",
              "    }\n",
              "  </style>\n",
              "\n",
              "      <script>\n",
              "        const buttonEl =\n",
              "          document.querySelector('#df-1000e330-6d89-4e54-8a2c-fece74b31c9c button.colab-df-convert');\n",
              "        buttonEl.style.display =\n",
              "          google.colab.kernel.accessAllowed ? 'block' : 'none';\n",
              "\n",
              "        async function convertToInteractive(key) {\n",
              "          const element = document.querySelector('#df-1000e330-6d89-4e54-8a2c-fece74b31c9c');\n",
              "          const dataTable =\n",
              "            await google.colab.kernel.invokeFunction('convertToInteractive',\n",
              "                                                     [key], {});\n",
              "          if (!dataTable) return;\n",
              "\n",
              "          const docLinkHtml = 'Like what you see? Visit the ' +\n",
              "            '<a target=\"_blank\" href=https://colab.research.google.com/notebooks/data_table.ipynb>data table notebook</a>'\n",
              "            + ' to learn more about interactive tables.';\n",
              "          element.innerHTML = '';\n",
              "          dataTable['output_type'] = 'display_data';\n",
              "          await google.colab.output.renderOutput(dataTable, element);\n",
              "          const docLink = document.createElement('div');\n",
              "          docLink.innerHTML = docLinkHtml;\n",
              "          element.appendChild(docLink);\n",
              "        }\n",
              "      </script>\n",
              "    </div>\n",
              "  </div>\n",
              "  "
            ]
          },
          "metadata": {},
          "execution_count": 16
        }
      ]
    },
    {
      "cell_type": "markdown",
      "source": [
        "**Creating the Vocabulary**\n",
        "\n",
        "Vocabulary is the set of word in the training set. Vocabulary is like dictionary, it is collection of all possible set of words in the training set. First we need to keep track of all words and post that we can calculate counts for each.\n",
        "We will store the set of all unique words in training data in a list or dictionary in python"
      ],
      "metadata": {
        "id": "s83I0UmBt0TB"
      }
    },
    {
      "cell_type": "code",
      "source": [
        "\n",
        "vocabulary = #your code here"
      ],
      "metadata": {
        "id": "CR_KEzh_Xt8W"
      },
      "execution_count": null,
      "outputs": []
    },
    {
      "cell_type": "markdown",
      "source": [
        "It looks like there are 7,783 unique words in all the messages of our training set."
      ],
      "metadata": {
        "id": "BKLQIYWmJ6GW"
      }
    },
    {
      "cell_type": "code",
      "source": [
        "#expected answer if vocabulary is your list or\n",
        "len(vocabulary)"
      ],
      "metadata": {
        "id": "0yRUhR4vXt_N",
        "colab": {
          "base_uri": "https://localhost:8080/"
        },
        "outputId": "7c1af875-4ef4-482f-983d-0483bf71af2b"
      },
      "execution_count": null,
      "outputs": [
        {
          "output_type": "execute_result",
          "data": {
            "text/plain": [
              "7783"
            ]
          },
          "metadata": {},
          "execution_count": 18
        }
      ]
    },
    {
      "cell_type": "markdown",
      "source": [
        "**How do we count?**\n",
        "\n",
        "Suppose we have 3 sentence \"secret prize! secret prize! claim now\", \"coming to my secret party?\" and \"secret prize claim winner\"\n",
        "\n",
        "Then for each words we will keep a list of size 3 - same as the number of sentence.\n",
        "\n",
        "Note in the below cell, for first word 'secret' occurs twice in first sentence, But we still count 1 for it, it occurs once in 2nd sentence and 3rd sentence. So it has 1 in all the indices. Word 'winner' appears only in last sentence and has an entry in the last index.\n",
        "\n",
        "Similarly for other words, we keep the count.\n",
        "\n",
        "We have total 7783 words and 4458 sentences. So for each word we need to keep a list of 4458 where each index will store how many times the word appears in that sentence.\n"
      ],
      "metadata": {
        "id": "ARfueOaWt2tr"
      }
    },
    {
      "cell_type": "code",
      "source": [
        "word_counts_per_sms = {'secret': [1,1,1],\n",
        "                       'prize': [1,0,1],\n",
        "                       'claim': [1,0,1],\n",
        "                       'now': [1,0,1],\n",
        "                       'coming': [0,1,0],\n",
        "                       'to': [0,1,0],\n",
        "                       'my': [0,1,0],\n",
        "                       'party': [0,1,0],\n",
        "                       'winner': [0,0,1]\n",
        "                      }\n",
        "\n",
        "word_counts = pd.DataFrame(word_counts_per_sms)\n",
        "word_counts.head()"
      ],
      "metadata": {
        "id": "E237XRI7Y1BY",
        "colab": {
          "base_uri": "https://localhost:8080/",
          "height": 143
        },
        "outputId": "59a15f96-b743-4a11-a212-5581b3a86501"
      },
      "execution_count": null,
      "outputs": [
        {
          "output_type": "execute_result",
          "data": {
            "text/plain": [
              "   secret  prize  claim  now  coming  to  my  party  winner\n",
              "0       1      1      1    1       0   0   0      0       0\n",
              "1       1      0      0    0       1   1   1      1       0\n",
              "2       1      1      1    1       0   0   0      0       1"
            ],
            "text/html": [
              "\n",
              "  <div id=\"df-c5073579-452c-4c69-9eee-55e3d2c0f0ee\">\n",
              "    <div class=\"colab-df-container\">\n",
              "      <div>\n",
              "<style scoped>\n",
              "    .dataframe tbody tr th:only-of-type {\n",
              "        vertical-align: middle;\n",
              "    }\n",
              "\n",
              "    .dataframe tbody tr th {\n",
              "        vertical-align: top;\n",
              "    }\n",
              "\n",
              "    .dataframe thead th {\n",
              "        text-align: right;\n",
              "    }\n",
              "</style>\n",
              "<table border=\"1\" class=\"dataframe\">\n",
              "  <thead>\n",
              "    <tr style=\"text-align: right;\">\n",
              "      <th></th>\n",
              "      <th>secret</th>\n",
              "      <th>prize</th>\n",
              "      <th>claim</th>\n",
              "      <th>now</th>\n",
              "      <th>coming</th>\n",
              "      <th>to</th>\n",
              "      <th>my</th>\n",
              "      <th>party</th>\n",
              "      <th>winner</th>\n",
              "    </tr>\n",
              "  </thead>\n",
              "  <tbody>\n",
              "    <tr>\n",
              "      <th>0</th>\n",
              "      <td>1</td>\n",
              "      <td>1</td>\n",
              "      <td>1</td>\n",
              "      <td>1</td>\n",
              "      <td>0</td>\n",
              "      <td>0</td>\n",
              "      <td>0</td>\n",
              "      <td>0</td>\n",
              "      <td>0</td>\n",
              "    </tr>\n",
              "    <tr>\n",
              "      <th>1</th>\n",
              "      <td>1</td>\n",
              "      <td>0</td>\n",
              "      <td>0</td>\n",
              "      <td>0</td>\n",
              "      <td>1</td>\n",
              "      <td>1</td>\n",
              "      <td>1</td>\n",
              "      <td>1</td>\n",
              "      <td>0</td>\n",
              "    </tr>\n",
              "    <tr>\n",
              "      <th>2</th>\n",
              "      <td>1</td>\n",
              "      <td>1</td>\n",
              "      <td>1</td>\n",
              "      <td>1</td>\n",
              "      <td>0</td>\n",
              "      <td>0</td>\n",
              "      <td>0</td>\n",
              "      <td>0</td>\n",
              "      <td>1</td>\n",
              "    </tr>\n",
              "  </tbody>\n",
              "</table>\n",
              "</div>\n",
              "      <button class=\"colab-df-convert\" onclick=\"convertToInteractive('df-c5073579-452c-4c69-9eee-55e3d2c0f0ee')\"\n",
              "              title=\"Convert this dataframe to an interactive table.\"\n",
              "              style=\"display:none;\">\n",
              "        \n",
              "  <svg xmlns=\"http://www.w3.org/2000/svg\" height=\"24px\"viewBox=\"0 0 24 24\"\n",
              "       width=\"24px\">\n",
              "    <path d=\"M0 0h24v24H0V0z\" fill=\"none\"/>\n",
              "    <path d=\"M18.56 5.44l.94 2.06.94-2.06 2.06-.94-2.06-.94-.94-2.06-.94 2.06-2.06.94zm-11 1L8.5 8.5l.94-2.06 2.06-.94-2.06-.94L8.5 2.5l-.94 2.06-2.06.94zm10 10l.94 2.06.94-2.06 2.06-.94-2.06-.94-.94-2.06-.94 2.06-2.06.94z\"/><path d=\"M17.41 7.96l-1.37-1.37c-.4-.4-.92-.59-1.43-.59-.52 0-1.04.2-1.43.59L10.3 9.45l-7.72 7.72c-.78.78-.78 2.05 0 2.83L4 21.41c.39.39.9.59 1.41.59.51 0 1.02-.2 1.41-.59l7.78-7.78 2.81-2.81c.8-.78.8-2.07 0-2.86zM5.41 20L4 18.59l7.72-7.72 1.47 1.35L5.41 20z\"/>\n",
              "  </svg>\n",
              "      </button>\n",
              "      \n",
              "  <style>\n",
              "    .colab-df-container {\n",
              "      display:flex;\n",
              "      flex-wrap:wrap;\n",
              "      gap: 12px;\n",
              "    }\n",
              "\n",
              "    .colab-df-convert {\n",
              "      background-color: #E8F0FE;\n",
              "      border: none;\n",
              "      border-radius: 50%;\n",
              "      cursor: pointer;\n",
              "      display: none;\n",
              "      fill: #1967D2;\n",
              "      height: 32px;\n",
              "      padding: 0 0 0 0;\n",
              "      width: 32px;\n",
              "    }\n",
              "\n",
              "    .colab-df-convert:hover {\n",
              "      background-color: #E2EBFA;\n",
              "      box-shadow: 0px 1px 2px rgba(60, 64, 67, 0.3), 0px 1px 3px 1px rgba(60, 64, 67, 0.15);\n",
              "      fill: #174EA6;\n",
              "    }\n",
              "\n",
              "    [theme=dark] .colab-df-convert {\n",
              "      background-color: #3B4455;\n",
              "      fill: #D2E3FC;\n",
              "    }\n",
              "\n",
              "    [theme=dark] .colab-df-convert:hover {\n",
              "      background-color: #434B5C;\n",
              "      box-shadow: 0px 1px 3px 1px rgba(0, 0, 0, 0.15);\n",
              "      filter: drop-shadow(0px 1px 2px rgba(0, 0, 0, 0.3));\n",
              "      fill: #FFFFFF;\n",
              "    }\n",
              "  </style>\n",
              "\n",
              "      <script>\n",
              "        const buttonEl =\n",
              "          document.querySelector('#df-c5073579-452c-4c69-9eee-55e3d2c0f0ee button.colab-df-convert');\n",
              "        buttonEl.style.display =\n",
              "          google.colab.kernel.accessAllowed ? 'block' : 'none';\n",
              "\n",
              "        async function convertToInteractive(key) {\n",
              "          const element = document.querySelector('#df-c5073579-452c-4c69-9eee-55e3d2c0f0ee');\n",
              "          const dataTable =\n",
              "            await google.colab.kernel.invokeFunction('convertToInteractive',\n",
              "                                                     [key], {});\n",
              "          if (!dataTable) return;\n",
              "\n",
              "          const docLinkHtml = 'Like what you see? Visit the ' +\n",
              "            '<a target=\"_blank\" href=https://colab.research.google.com/notebooks/data_table.ipynb>data table notebook</a>'\n",
              "            + ' to learn more about interactive tables.';\n",
              "          element.innerHTML = '';\n",
              "          dataTable['output_type'] = 'display_data';\n",
              "          await google.colab.output.renderOutput(dataTable, element);\n",
              "          const docLink = document.createElement('div');\n",
              "          docLink.innerHTML = docLinkHtml;\n",
              "          element.appendChild(docLink);\n",
              "        }\n",
              "      </script>\n",
              "    </div>\n",
              "  </div>\n",
              "  "
            ]
          },
          "metadata": {},
          "execution_count": 22
        }
      ]
    },
    {
      "cell_type": "markdown",
      "source": [
        "To create the dictionary we need for our training set, we can use the code below:\n",
        "\n",
        "We start by initializing a dictionary named word_counts_per_sms, where each key is a unique word (a string) from the vocabulary, and each value is a list of the length of the training set, where each element in that list is a 0.\n",
        "\n",
        "The code [0] * 5 outputs [0, 0, 0, 0, 0]. So the code [0] * len(training_set['SMS']) outputs a list of the length of training_set['SMS'].\n",
        "\n",
        "We loop over training_set['SMS'] using the enumerate() function to get both the index and the SMS message (index and sms).\n",
        "\n",
        "Using a nested loop, we loop over sms (where sms is a list of strings, where each string represents a word in a message).\n",
        "\n",
        "We increment word_counts_per_sms[word][index] by 1."
      ],
      "metadata": {
        "id": "pRArK4HvLty8"
      }
    },
    {
      "cell_type": "code",
      "source": [
        "word_counts_per_sms = {unique_word: [0] * len(training_set['SMS']) for unique_word in vocabulary}\n",
        "\n",
        "#your code here to calculate word_counts_per_sms"
      ],
      "metadata": {
        "id": "NPSD0N2UY1EF"
      },
      "execution_count": null,
      "outputs": []
    },
    {
      "cell_type": "markdown",
      "source": [
        "Now that we have the dictionary we need, let's do the final transformations to our training set."
      ],
      "metadata": {
        "id": "tWAxRVBvt4By"
      }
    },
    {
      "cell_type": "code",
      "source": [
        "word_counts = pd.DataFrame(word_counts_per_sms)\n",
        "word_counts.head()"
      ],
      "metadata": {
        "id": "-EWJ2mHkY1G4",
        "colab": {
          "base_uri": "https://localhost:8080/",
          "height": 280
        },
        "outputId": "c2af4afa-4736-44e5-f469-3cfd2796e4f5"
      },
      "execution_count": null,
      "outputs": [
        {
          "output_type": "execute_result",
          "data": {
            "text/plain": [
              "   act  rem  mahfuuz  wer  ideas  nature  credit  thnk  proper  compensation  \\\n",
              "0    0    0        0    0      0       0       0     0       0             0   \n",
              "1    0    0        0    0      0       0       0     0       0             0   \n",
              "2    0    0        0    0      0       0       0     0       0             0   \n",
              "3    0    0        0    0      0       0       0     0       0             0   \n",
              "4    0    0        0    0      0       0       0     0       0             0   \n",
              "\n",
              "   ...  olave  starving  reply  playin  weight  09065394973  boooo  loud  \\\n",
              "0  ...      0         0      0       0       0            0      0     0   \n",
              "1  ...      0         0      0       0       0            0      0     0   \n",
              "2  ...      0         0      0       0       0            0      0     0   \n",
              "3  ...      0         0      0       0       0            0      0     0   \n",
              "4  ...      0         0      0       0       0            0      0     0   \n",
              "\n",
              "   seventeen  nudist  \n",
              "0          0       0  \n",
              "1          0       0  \n",
              "2          0       0  \n",
              "3          0       0  \n",
              "4          0       0  \n",
              "\n",
              "[5 rows x 7783 columns]"
            ],
            "text/html": [
              "\n",
              "  <div id=\"df-be5eacc2-a4db-49ea-9333-72761afb141c\">\n",
              "    <div class=\"colab-df-container\">\n",
              "      <div>\n",
              "<style scoped>\n",
              "    .dataframe tbody tr th:only-of-type {\n",
              "        vertical-align: middle;\n",
              "    }\n",
              "\n",
              "    .dataframe tbody tr th {\n",
              "        vertical-align: top;\n",
              "    }\n",
              "\n",
              "    .dataframe thead th {\n",
              "        text-align: right;\n",
              "    }\n",
              "</style>\n",
              "<table border=\"1\" class=\"dataframe\">\n",
              "  <thead>\n",
              "    <tr style=\"text-align: right;\">\n",
              "      <th></th>\n",
              "      <th>act</th>\n",
              "      <th>rem</th>\n",
              "      <th>mahfuuz</th>\n",
              "      <th>wer</th>\n",
              "      <th>ideas</th>\n",
              "      <th>nature</th>\n",
              "      <th>credit</th>\n",
              "      <th>thnk</th>\n",
              "      <th>proper</th>\n",
              "      <th>compensation</th>\n",
              "      <th>...</th>\n",
              "      <th>olave</th>\n",
              "      <th>starving</th>\n",
              "      <th>reply</th>\n",
              "      <th>playin</th>\n",
              "      <th>weight</th>\n",
              "      <th>09065394973</th>\n",
              "      <th>boooo</th>\n",
              "      <th>loud</th>\n",
              "      <th>seventeen</th>\n",
              "      <th>nudist</th>\n",
              "    </tr>\n",
              "  </thead>\n",
              "  <tbody>\n",
              "    <tr>\n",
              "      <th>0</th>\n",
              "      <td>0</td>\n",
              "      <td>0</td>\n",
              "      <td>0</td>\n",
              "      <td>0</td>\n",
              "      <td>0</td>\n",
              "      <td>0</td>\n",
              "      <td>0</td>\n",
              "      <td>0</td>\n",
              "      <td>0</td>\n",
              "      <td>0</td>\n",
              "      <td>...</td>\n",
              "      <td>0</td>\n",
              "      <td>0</td>\n",
              "      <td>0</td>\n",
              "      <td>0</td>\n",
              "      <td>0</td>\n",
              "      <td>0</td>\n",
              "      <td>0</td>\n",
              "      <td>0</td>\n",
              "      <td>0</td>\n",
              "      <td>0</td>\n",
              "    </tr>\n",
              "    <tr>\n",
              "      <th>1</th>\n",
              "      <td>0</td>\n",
              "      <td>0</td>\n",
              "      <td>0</td>\n",
              "      <td>0</td>\n",
              "      <td>0</td>\n",
              "      <td>0</td>\n",
              "      <td>0</td>\n",
              "      <td>0</td>\n",
              "      <td>0</td>\n",
              "      <td>0</td>\n",
              "      <td>...</td>\n",
              "      <td>0</td>\n",
              "      <td>0</td>\n",
              "      <td>0</td>\n",
              "      <td>0</td>\n",
              "      <td>0</td>\n",
              "      <td>0</td>\n",
              "      <td>0</td>\n",
              "      <td>0</td>\n",
              "      <td>0</td>\n",
              "      <td>0</td>\n",
              "    </tr>\n",
              "    <tr>\n",
              "      <th>2</th>\n",
              "      <td>0</td>\n",
              "      <td>0</td>\n",
              "      <td>0</td>\n",
              "      <td>0</td>\n",
              "      <td>0</td>\n",
              "      <td>0</td>\n",
              "      <td>0</td>\n",
              "      <td>0</td>\n",
              "      <td>0</td>\n",
              "      <td>0</td>\n",
              "      <td>...</td>\n",
              "      <td>0</td>\n",
              "      <td>0</td>\n",
              "      <td>0</td>\n",
              "      <td>0</td>\n",
              "      <td>0</td>\n",
              "      <td>0</td>\n",
              "      <td>0</td>\n",
              "      <td>0</td>\n",
              "      <td>0</td>\n",
              "      <td>0</td>\n",
              "    </tr>\n",
              "    <tr>\n",
              "      <th>3</th>\n",
              "      <td>0</td>\n",
              "      <td>0</td>\n",
              "      <td>0</td>\n",
              "      <td>0</td>\n",
              "      <td>0</td>\n",
              "      <td>0</td>\n",
              "      <td>0</td>\n",
              "      <td>0</td>\n",
              "      <td>0</td>\n",
              "      <td>0</td>\n",
              "      <td>...</td>\n",
              "      <td>0</td>\n",
              "      <td>0</td>\n",
              "      <td>0</td>\n",
              "      <td>0</td>\n",
              "      <td>0</td>\n",
              "      <td>0</td>\n",
              "      <td>0</td>\n",
              "      <td>0</td>\n",
              "      <td>0</td>\n",
              "      <td>0</td>\n",
              "    </tr>\n",
              "    <tr>\n",
              "      <th>4</th>\n",
              "      <td>0</td>\n",
              "      <td>0</td>\n",
              "      <td>0</td>\n",
              "      <td>0</td>\n",
              "      <td>0</td>\n",
              "      <td>0</td>\n",
              "      <td>0</td>\n",
              "      <td>0</td>\n",
              "      <td>0</td>\n",
              "      <td>0</td>\n",
              "      <td>...</td>\n",
              "      <td>0</td>\n",
              "      <td>0</td>\n",
              "      <td>0</td>\n",
              "      <td>0</td>\n",
              "      <td>0</td>\n",
              "      <td>0</td>\n",
              "      <td>0</td>\n",
              "      <td>0</td>\n",
              "      <td>0</td>\n",
              "      <td>0</td>\n",
              "    </tr>\n",
              "  </tbody>\n",
              "</table>\n",
              "<p>5 rows × 7783 columns</p>\n",
              "</div>\n",
              "      <button class=\"colab-df-convert\" onclick=\"convertToInteractive('df-be5eacc2-a4db-49ea-9333-72761afb141c')\"\n",
              "              title=\"Convert this dataframe to an interactive table.\"\n",
              "              style=\"display:none;\">\n",
              "        \n",
              "  <svg xmlns=\"http://www.w3.org/2000/svg\" height=\"24px\"viewBox=\"0 0 24 24\"\n",
              "       width=\"24px\">\n",
              "    <path d=\"M0 0h24v24H0V0z\" fill=\"none\"/>\n",
              "    <path d=\"M18.56 5.44l.94 2.06.94-2.06 2.06-.94-2.06-.94-.94-2.06-.94 2.06-2.06.94zm-11 1L8.5 8.5l.94-2.06 2.06-.94-2.06-.94L8.5 2.5l-.94 2.06-2.06.94zm10 10l.94 2.06.94-2.06 2.06-.94-2.06-.94-.94-2.06-.94 2.06-2.06.94z\"/><path d=\"M17.41 7.96l-1.37-1.37c-.4-.4-.92-.59-1.43-.59-.52 0-1.04.2-1.43.59L10.3 9.45l-7.72 7.72c-.78.78-.78 2.05 0 2.83L4 21.41c.39.39.9.59 1.41.59.51 0 1.02-.2 1.41-.59l7.78-7.78 2.81-2.81c.8-.78.8-2.07 0-2.86zM5.41 20L4 18.59l7.72-7.72 1.47 1.35L5.41 20z\"/>\n",
              "  </svg>\n",
              "      </button>\n",
              "      \n",
              "  <style>\n",
              "    .colab-df-container {\n",
              "      display:flex;\n",
              "      flex-wrap:wrap;\n",
              "      gap: 12px;\n",
              "    }\n",
              "\n",
              "    .colab-df-convert {\n",
              "      background-color: #E8F0FE;\n",
              "      border: none;\n",
              "      border-radius: 50%;\n",
              "      cursor: pointer;\n",
              "      display: none;\n",
              "      fill: #1967D2;\n",
              "      height: 32px;\n",
              "      padding: 0 0 0 0;\n",
              "      width: 32px;\n",
              "    }\n",
              "\n",
              "    .colab-df-convert:hover {\n",
              "      background-color: #E2EBFA;\n",
              "      box-shadow: 0px 1px 2px rgba(60, 64, 67, 0.3), 0px 1px 3px 1px rgba(60, 64, 67, 0.15);\n",
              "      fill: #174EA6;\n",
              "    }\n",
              "\n",
              "    [theme=dark] .colab-df-convert {\n",
              "      background-color: #3B4455;\n",
              "      fill: #D2E3FC;\n",
              "    }\n",
              "\n",
              "    [theme=dark] .colab-df-convert:hover {\n",
              "      background-color: #434B5C;\n",
              "      box-shadow: 0px 1px 3px 1px rgba(0, 0, 0, 0.15);\n",
              "      filter: drop-shadow(0px 1px 2px rgba(0, 0, 0, 0.3));\n",
              "      fill: #FFFFFF;\n",
              "    }\n",
              "  </style>\n",
              "\n",
              "      <script>\n",
              "        const buttonEl =\n",
              "          document.querySelector('#df-be5eacc2-a4db-49ea-9333-72761afb141c button.colab-df-convert');\n",
              "        buttonEl.style.display =\n",
              "          google.colab.kernel.accessAllowed ? 'block' : 'none';\n",
              "\n",
              "        async function convertToInteractive(key) {\n",
              "          const element = document.querySelector('#df-be5eacc2-a4db-49ea-9333-72761afb141c');\n",
              "          const dataTable =\n",
              "            await google.colab.kernel.invokeFunction('convertToInteractive',\n",
              "                                                     [key], {});\n",
              "          if (!dataTable) return;\n",
              "\n",
              "          const docLinkHtml = 'Like what you see? Visit the ' +\n",
              "            '<a target=\"_blank\" href=https://colab.research.google.com/notebooks/data_table.ipynb>data table notebook</a>'\n",
              "            + ' to learn more about interactive tables.';\n",
              "          element.innerHTML = '';\n",
              "          dataTable['output_type'] = 'display_data';\n",
              "          await google.colab.output.renderOutput(dataTable, element);\n",
              "          const docLink = document.createElement('div');\n",
              "          docLink.innerHTML = docLinkHtml;\n",
              "          element.appendChild(docLink);\n",
              "        }\n",
              "      </script>\n",
              "    </div>\n",
              "  </div>\n",
              "  "
            ]
          },
          "metadata": {},
          "execution_count": 21
        }
      ]
    },
    {
      "cell_type": "markdown",
      "source": [
        "The Label column is missing, so we'll use the pd.concat() function to concatenate the DataFrame we just built with the DataFrame containing the training set. This way, we'll also have the Label and the SMS columns."
      ],
      "metadata": {
        "id": "yM8-DdtGt4_e"
      }
    },
    {
      "cell_type": "code",
      "source": [
        "training_set_clean = pd.concat([training_set, word_counts], axis=1)\n",
        "training_set_clean.head()"
      ],
      "metadata": {
        "id": "1hsjHgQiY1Js",
        "colab": {
          "base_uri": "https://localhost:8080/",
          "height": 525
        },
        "outputId": "35cdbde3-b795-40a1-af1f-0df6197fcaba"
      },
      "execution_count": null,
      "outputs": [
        {
          "output_type": "execute_result",
          "data": {
            "text/plain": [
              "  Label                                                SMS  08712402972  \\\n",
              "0   ham                  [yep, by, the, pretty, sculpture]            0   \n",
              "1   ham  [yes, princess, are, you, going, to, make, me,...            0   \n",
              "2   ham                    [welp, apparently, he, retired]            0   \n",
              "3   ham                                           [havent]            0   \n",
              "4   ham  [i, forgot, 2, ask, ü, all, smth, there, s, a,...            0   \n",
              "\n",
              "   outgoing  operator  slowly  knew  easily  l8  hcl  ...  450ppw  genus  \\\n",
              "0         0         0       0     0       0   0    0  ...       0      0   \n",
              "1         0         0       0     0       0   0    0  ...       0      0   \n",
              "2         0         0       0     0       0   0    0  ...       0      0   \n",
              "3         0         0       0     0       0   0    0  ...       0      0   \n",
              "4         0         0       0     0       0   0    0  ...       0      0   \n",
              "\n",
              "   scammers  26th  leanne  usc  sorted  mudyadhu  soup  hardcore  \n",
              "0         0     0       0    0       0         0     0         0  \n",
              "1         0     0       0    0       0         0     0         0  \n",
              "2         0     0       0    0       0         0     0         0  \n",
              "3         0     0       0    0       0         0     0         0  \n",
              "4         0     0       0    0       0         0     0         0  \n",
              "\n",
              "[5 rows x 7785 columns]"
            ],
            "text/html": [
              "\n",
              "  <div id=\"df-4ada386c-bbbe-4772-8470-ad758c1b6670\">\n",
              "    <div class=\"colab-df-container\">\n",
              "      <div>\n",
              "<style scoped>\n",
              "    .dataframe tbody tr th:only-of-type {\n",
              "        vertical-align: middle;\n",
              "    }\n",
              "\n",
              "    .dataframe tbody tr th {\n",
              "        vertical-align: top;\n",
              "    }\n",
              "\n",
              "    .dataframe thead th {\n",
              "        text-align: right;\n",
              "    }\n",
              "</style>\n",
              "<table border=\"1\" class=\"dataframe\">\n",
              "  <thead>\n",
              "    <tr style=\"text-align: right;\">\n",
              "      <th></th>\n",
              "      <th>Label</th>\n",
              "      <th>SMS</th>\n",
              "      <th>08712402972</th>\n",
              "      <th>outgoing</th>\n",
              "      <th>operator</th>\n",
              "      <th>slowly</th>\n",
              "      <th>knew</th>\n",
              "      <th>easily</th>\n",
              "      <th>l8</th>\n",
              "      <th>hcl</th>\n",
              "      <th>...</th>\n",
              "      <th>450ppw</th>\n",
              "      <th>genus</th>\n",
              "      <th>scammers</th>\n",
              "      <th>26th</th>\n",
              "      <th>leanne</th>\n",
              "      <th>usc</th>\n",
              "      <th>sorted</th>\n",
              "      <th>mudyadhu</th>\n",
              "      <th>soup</th>\n",
              "      <th>hardcore</th>\n",
              "    </tr>\n",
              "  </thead>\n",
              "  <tbody>\n",
              "    <tr>\n",
              "      <th>0</th>\n",
              "      <td>ham</td>\n",
              "      <td>[yep, by, the, pretty, sculpture]</td>\n",
              "      <td>0</td>\n",
              "      <td>0</td>\n",
              "      <td>0</td>\n",
              "      <td>0</td>\n",
              "      <td>0</td>\n",
              "      <td>0</td>\n",
              "      <td>0</td>\n",
              "      <td>0</td>\n",
              "      <td>...</td>\n",
              "      <td>0</td>\n",
              "      <td>0</td>\n",
              "      <td>0</td>\n",
              "      <td>0</td>\n",
              "      <td>0</td>\n",
              "      <td>0</td>\n",
              "      <td>0</td>\n",
              "      <td>0</td>\n",
              "      <td>0</td>\n",
              "      <td>0</td>\n",
              "    </tr>\n",
              "    <tr>\n",
              "      <th>1</th>\n",
              "      <td>ham</td>\n",
              "      <td>[yes, princess, are, you, going, to, make, me,...</td>\n",
              "      <td>0</td>\n",
              "      <td>0</td>\n",
              "      <td>0</td>\n",
              "      <td>0</td>\n",
              "      <td>0</td>\n",
              "      <td>0</td>\n",
              "      <td>0</td>\n",
              "      <td>0</td>\n",
              "      <td>...</td>\n",
              "      <td>0</td>\n",
              "      <td>0</td>\n",
              "      <td>0</td>\n",
              "      <td>0</td>\n",
              "      <td>0</td>\n",
              "      <td>0</td>\n",
              "      <td>0</td>\n",
              "      <td>0</td>\n",
              "      <td>0</td>\n",
              "      <td>0</td>\n",
              "    </tr>\n",
              "    <tr>\n",
              "      <th>2</th>\n",
              "      <td>ham</td>\n",
              "      <td>[welp, apparently, he, retired]</td>\n",
              "      <td>0</td>\n",
              "      <td>0</td>\n",
              "      <td>0</td>\n",
              "      <td>0</td>\n",
              "      <td>0</td>\n",
              "      <td>0</td>\n",
              "      <td>0</td>\n",
              "      <td>0</td>\n",
              "      <td>...</td>\n",
              "      <td>0</td>\n",
              "      <td>0</td>\n",
              "      <td>0</td>\n",
              "      <td>0</td>\n",
              "      <td>0</td>\n",
              "      <td>0</td>\n",
              "      <td>0</td>\n",
              "      <td>0</td>\n",
              "      <td>0</td>\n",
              "      <td>0</td>\n",
              "    </tr>\n",
              "    <tr>\n",
              "      <th>3</th>\n",
              "      <td>ham</td>\n",
              "      <td>[havent]</td>\n",
              "      <td>0</td>\n",
              "      <td>0</td>\n",
              "      <td>0</td>\n",
              "      <td>0</td>\n",
              "      <td>0</td>\n",
              "      <td>0</td>\n",
              "      <td>0</td>\n",
              "      <td>0</td>\n",
              "      <td>...</td>\n",
              "      <td>0</td>\n",
              "      <td>0</td>\n",
              "      <td>0</td>\n",
              "      <td>0</td>\n",
              "      <td>0</td>\n",
              "      <td>0</td>\n",
              "      <td>0</td>\n",
              "      <td>0</td>\n",
              "      <td>0</td>\n",
              "      <td>0</td>\n",
              "    </tr>\n",
              "    <tr>\n",
              "      <th>4</th>\n",
              "      <td>ham</td>\n",
              "      <td>[i, forgot, 2, ask, ü, all, smth, there, s, a,...</td>\n",
              "      <td>0</td>\n",
              "      <td>0</td>\n",
              "      <td>0</td>\n",
              "      <td>0</td>\n",
              "      <td>0</td>\n",
              "      <td>0</td>\n",
              "      <td>0</td>\n",
              "      <td>0</td>\n",
              "      <td>...</td>\n",
              "      <td>0</td>\n",
              "      <td>0</td>\n",
              "      <td>0</td>\n",
              "      <td>0</td>\n",
              "      <td>0</td>\n",
              "      <td>0</td>\n",
              "      <td>0</td>\n",
              "      <td>0</td>\n",
              "      <td>0</td>\n",
              "      <td>0</td>\n",
              "    </tr>\n",
              "  </tbody>\n",
              "</table>\n",
              "<p>5 rows × 7785 columns</p>\n",
              "</div>\n",
              "      <button class=\"colab-df-convert\" onclick=\"convertToInteractive('df-4ada386c-bbbe-4772-8470-ad758c1b6670')\"\n",
              "              title=\"Convert this dataframe to an interactive table.\"\n",
              "              style=\"display:none;\">\n",
              "        \n",
              "  <svg xmlns=\"http://www.w3.org/2000/svg\" height=\"24px\"viewBox=\"0 0 24 24\"\n",
              "       width=\"24px\">\n",
              "    <path d=\"M0 0h24v24H0V0z\" fill=\"none\"/>\n",
              "    <path d=\"M18.56 5.44l.94 2.06.94-2.06 2.06-.94-2.06-.94-.94-2.06-.94 2.06-2.06.94zm-11 1L8.5 8.5l.94-2.06 2.06-.94-2.06-.94L8.5 2.5l-.94 2.06-2.06.94zm10 10l.94 2.06.94-2.06 2.06-.94-2.06-.94-.94-2.06-.94 2.06-2.06.94z\"/><path d=\"M17.41 7.96l-1.37-1.37c-.4-.4-.92-.59-1.43-.59-.52 0-1.04.2-1.43.59L10.3 9.45l-7.72 7.72c-.78.78-.78 2.05 0 2.83L4 21.41c.39.39.9.59 1.41.59.51 0 1.02-.2 1.41-.59l7.78-7.78 2.81-2.81c.8-.78.8-2.07 0-2.86zM5.41 20L4 18.59l7.72-7.72 1.47 1.35L5.41 20z\"/>\n",
              "  </svg>\n",
              "      </button>\n",
              "      \n",
              "  <style>\n",
              "    .colab-df-container {\n",
              "      display:flex;\n",
              "      flex-wrap:wrap;\n",
              "      gap: 12px;\n",
              "    }\n",
              "\n",
              "    .colab-df-convert {\n",
              "      background-color: #E8F0FE;\n",
              "      border: none;\n",
              "      border-radius: 50%;\n",
              "      cursor: pointer;\n",
              "      display: none;\n",
              "      fill: #1967D2;\n",
              "      height: 32px;\n",
              "      padding: 0 0 0 0;\n",
              "      width: 32px;\n",
              "    }\n",
              "\n",
              "    .colab-df-convert:hover {\n",
              "      background-color: #E2EBFA;\n",
              "      box-shadow: 0px 1px 2px rgba(60, 64, 67, 0.3), 0px 1px 3px 1px rgba(60, 64, 67, 0.15);\n",
              "      fill: #174EA6;\n",
              "    }\n",
              "\n",
              "    [theme=dark] .colab-df-convert {\n",
              "      background-color: #3B4455;\n",
              "      fill: #D2E3FC;\n",
              "    }\n",
              "\n",
              "    [theme=dark] .colab-df-convert:hover {\n",
              "      background-color: #434B5C;\n",
              "      box-shadow: 0px 1px 3px 1px rgba(0, 0, 0, 0.15);\n",
              "      filter: drop-shadow(0px 1px 2px rgba(0, 0, 0, 0.3));\n",
              "      fill: #FFFFFF;\n",
              "    }\n",
              "  </style>\n",
              "\n",
              "      <script>\n",
              "        const buttonEl =\n",
              "          document.querySelector('#df-4ada386c-bbbe-4772-8470-ad758c1b6670 button.colab-df-convert');\n",
              "        buttonEl.style.display =\n",
              "          google.colab.kernel.accessAllowed ? 'block' : 'none';\n",
              "\n",
              "        async function convertToInteractive(key) {\n",
              "          const element = document.querySelector('#df-4ada386c-bbbe-4772-8470-ad758c1b6670');\n",
              "          const dataTable =\n",
              "            await google.colab.kernel.invokeFunction('convertToInteractive',\n",
              "                                                     [key], {});\n",
              "          if (!dataTable) return;\n",
              "\n",
              "          const docLinkHtml = 'Like what you see? Visit the ' +\n",
              "            '<a target=\"_blank\" href=https://colab.research.google.com/notebooks/data_table.ipynb>data table notebook</a>'\n",
              "            + ' to learn more about interactive tables.';\n",
              "          element.innerHTML = '';\n",
              "          dataTable['output_type'] = 'display_data';\n",
              "          await google.colab.output.renderOutput(dataTable, element);\n",
              "          const docLink = document.createElement('div');\n",
              "          docLink.innerHTML = docLinkHtml;\n",
              "          element.appendChild(docLink);\n",
              "        }\n",
              "      </script>\n",
              "    </div>\n",
              "  </div>\n",
              "  "
            ]
          },
          "metadata": {},
          "execution_count": 72
        }
      ]
    },
    {
      "cell_type": "markdown",
      "source": [
        "**Calculating Constants First**\n",
        "\n",
        "Now that we're done with cleaning the training set, we can begin coding the spam filter. The Bayes algorithm will need to answer these two probability questions to be able to classify new messages:\n",
        "\n",
        "Also, to calculate $P(w_i|Spam)$ and $P(w_i|Ham)$ inside the formulas above, we'll need to use these equations:\n",
        "\n",
        "$P(w_i|Spam) = \\frac{N_{i|Spam} + \\alpha}{N_{spam} + \\alpha.N_v}$\n",
        "\n",
        "\n",
        "$P(w_i|Ham) = \\frac{N_{i|Ham} + \\alpha}{N_{ham} + \\alpha.N_v}$\n",
        "\n",
        "Where $N_v$ is the size of the vocabulary (7785 in our case)\n",
        "$N_{i|Spam}$ is number of times word $w_i$ is found in spam email and $N_{spam}$ total number of spam email.\n",
        "\n",
        "Note that word can appear multiple time in a sms, but we will only count it as once. There is an advanced version where count is used but here we will only use if word is present or absent.\n",
        "\n",
        "This $\\alpha$ is added to account for words which are not seen in training set but might be in test set. For them both $N_{i|Spam}$ and $N_{i}$ is 0.\n",
        "This is added to our previous definition of likelihood to avoid zero probability cases just because word is not seen in training\n",
        "\n",
        "\n"
      ],
      "metadata": {
        "id": "dDrf8JC4t6VI"
      }
    },
    {
      "cell_type": "code",
      "source": [
        "# Isolating spam and ham messages first\n",
        "spam_messages = # your code here\n",
        "ham_messages = # your code here\n",
        "\n",
        "# P(Spam) and P(Ham)\n",
        "p_spam = # your code here (prior probability)\n",
        "p_ham = # your code here (prior probability)\n",
        "\n",
        "# N_Spam\n",
        "\n",
        "n_spam = # your code here (total number of spam message)\n",
        "\n",
        "# N_Ham\n",
        "\n",
        "n_ham = # your code here (total number of ham message)\n",
        "\n",
        "# N_Vocabulary\n",
        "n_vocabulary = len(vocabulary)\n",
        "\n",
        "# Laplace smoothing\n",
        "alpha = 1"
      ],
      "metadata": {
        "id": "xZznVqPKY1M-"
      },
      "execution_count": null,
      "outputs": []
    },
    {
      "cell_type": "markdown",
      "source": [
        "**Calculating Parameters**\n",
        "\n",
        "Now that we have the constant terms calculated above, we can move on with calculating the parameters P(wi|Spam) and P(wi|Ham).\n",
        "\n",
        "P(wi|Spam) and P(wi|Ham) will vary depending on the individual words. For instance, P(\"secret\"|Spam) will have a certain probability value, while P(\"cousin\"|Spam) or P(\"lovely\"|Spam) will most likely have other values.\n",
        "\n",
        "Therefore, each parameter will be a conditional probability value associated with each word in the vocabulary."
      ],
      "metadata": {
        "id": "Tr7EelQRt8WD"
      }
    },
    {
      "cell_type": "code",
      "source": [
        "# Initiate parameters\n",
        "parameters_spam = {unique_word:0 for unique_word in vocabulary}\n",
        "parameters_ham = {unique_word:0 for unique_word in vocabulary}\n",
        "\n",
        "# Calculate parameters\n",
        "for word in vocabulary:\n",
        "   n_word_given_spam = # your code here # spam_messages already defined\n",
        "   p_word_given_spam = # your code here  - use the likelihood formula 𝑃(𝑤𝑖|𝑆𝑝𝑎𝑚)\n",
        "   parameters_spam[word] = p_word_given_spam\n",
        "\n",
        "   n_word_given_ham = # your code here  # ham_messages already defined 𝑃(𝑤𝑖|𝑆𝑝𝑎𝑚)\n",
        "   p_word_given_ham = # your code here  - use the likelihood formula 𝑃(𝑤𝑖|Ham)\n",
        "   parameters_ham[word] = p_word_given_ham"
      ],
      "metadata": {
        "id": "mYrY6kMoY1Qx"
      },
      "execution_count": null,
      "outputs": []
    },
    {
      "cell_type": "markdown",
      "source": [
        "**Classifying A New Message**\n",
        "\n",
        "Now that we have all our parameters calculated, we can start creating the spam filter. The spam filter is understood as a function that:\n",
        "\n",
        "Takes in as input a new message (w1, w2, ..., wn).\n",
        "Calculates P(Spam|w1, w2, ..., wn) and P(Ham|w1, w2, ..., wn).\n",
        "Compares the values of P(Spam|w1, w2, ..., wn) and P(Ham|w1, w2, ..., wn), and:\n",
        "If P(Ham|w1, w2, ..., wn) > P(Spam|w1, w2, ..., wn), then the message is classified as ham.\n",
        "If P(Ham|w1, w2, ..., wn) < P(Spam|w1, w2, ..., wn), then the message is classified as spam.\n",
        "If P(Ham|w1, w2, ..., wn) = P(Spam|w1, w2, ..., wn), then the algorithm may request human help.\n",
        "Note that some new messages will contain words that are not part of the vocabulary. We will simply ignore these words when we're calculating the probabilities.\n",
        "\n",
        "Let's start by writing a first version of this function. For the classify() function below, notice that:\n",
        "\n",
        "The input variable message needs to be a string.\n",
        "We perform a bit of data cleaning on the string message:\n",
        "We remove the punctuation using the re.sub() function.\n",
        "We bring all letters to lower case using the str.lower() method.\n",
        "We split the string at the space character and transform it into a Python list using the str.split() method.\n",
        "We calculate p_spam_given_message and p_ham_given_message.\n",
        "We compare p_spam_given_message with p_ham_given_message and then print a classification label."
      ],
      "metadata": {
        "id": "4rCadikgt90l"
      }
    },
    {
      "cell_type": "code",
      "source": [
        "import re\n",
        "\n",
        "def classify(message):\n",
        "   '''\n",
        "   message: a string\n",
        "   '''\n",
        "\n",
        "   message = re.sub('\\W', ' ', message)\n",
        "   message = message.lower().split()\n",
        "\n",
        "   p_spam_given_message = p_spam\n",
        "   p_ham_given_message = p_ham\n",
        "\n",
        "   for word in message:\n",
        "      if word in parameters_spam:\n",
        "         p_spam_given_message *= #your code here\n",
        "\n",
        "      if word in parameters_ham:\n",
        "         p_ham_given_message *= #your code here\n",
        "\n",
        "   print('P(Spam|message):', p_spam_given_message)\n",
        "   print('P(Ham|message):', p_ham_given_message)\n",
        "\n",
        "   if p_ham_given_message > p_spam_given_message:\n",
        "      print('Label: Ham')\n",
        "   elif p_ham_given_message < p_spam_given_message:\n",
        "      print('Label: Spam')\n",
        "   else:\n",
        "      print('Equal proabilities, have a human classify this!')"
      ],
      "metadata": {
        "id": "8srZNd56ZV7B"
      },
      "execution_count": null,
      "outputs": []
    },
    {
      "cell_type": "markdown",
      "source": [
        "We'll now test the spam filter on two new messages. One message is obviously spam, and the other is obviously ham."
      ],
      "metadata": {
        "id": "52qq8olzuAK1"
      }
    },
    {
      "cell_type": "code",
      "source": [
        "classify('WINNER!! This is the secret code to unlock the money: C3421.')"
      ],
      "metadata": {
        "id": "Tsytdc-GZV9V",
        "colab": {
          "base_uri": "https://localhost:8080/"
        },
        "outputId": "2a19e996-aa1e-444b-86c3-40fe0fc5a915"
      },
      "execution_count": null,
      "outputs": [
        {
          "output_type": "stream",
          "name": "stdout",
          "text": [
            "P(Spam|message): 1.3481290211300841e-25\n",
            "P(Ham|message): 1.9368049028589875e-27\n",
            "Label: Spam\n"
          ]
        }
      ]
    },
    {
      "cell_type": "code",
      "source": [
        "classify(\"Sounds good, Tom, then see u there\")"
      ],
      "metadata": {
        "id": "HaN_ZURmZWDz",
        "colab": {
          "base_uri": "https://localhost:8080/"
        },
        "outputId": "3805a41e-b81d-4c8c-cfbb-80c4ae870c06"
      },
      "execution_count": null,
      "outputs": [
        {
          "output_type": "stream",
          "name": "stdout",
          "text": [
            "P(Spam|message): 2.4372375665888117e-25\n",
            "P(Ham|message): 3.687530435009238e-21\n",
            "Label: Ham\n"
          ]
        }
      ]
    },
    {
      "cell_type": "markdown",
      "source": [
        "**Measuring the Spam Filter's Accuracy**\n",
        "\n",
        "The two results look promising, but let's see how well the filter does on our test set, which has 1,114 messages.\n",
        "\n",
        "We'll start by writing a function that returns classification labels instead of printing them."
      ],
      "metadata": {
        "id": "KfqUA2bUuClL"
      }
    },
    {
      "cell_type": "code",
      "source": [
        "def classify_test_set(message):\n",
        "   '''\n",
        "   message: a string\n",
        "   '''\n",
        "\n",
        "   message = re.sub('\\W', ' ', message)\n",
        "   message = message.lower().split()\n",
        "\n",
        "   p_spam_given_message = p_spam\n",
        "   p_ham_given_message = p_ham\n",
        "\n",
        "   for word in message:\n",
        "      if word in parameters_spam:\n",
        "         p_spam_given_message *= parameters_spam[word]\n",
        "\n",
        "      if word in parameters_ham:\n",
        "         p_ham_given_message *= parameters_ham[word]\n",
        "\n",
        "   if p_ham_given_message > p_spam_given_message:\n",
        "      return 'ham'\n",
        "   elif p_spam_given_message > p_ham_given_message:\n",
        "      return 'spam'\n",
        "   else:\n",
        "      return 'needs human classification'"
      ],
      "metadata": {
        "id": "MKsuD2kXZWkY"
      },
      "execution_count": null,
      "outputs": []
    },
    {
      "cell_type": "markdown",
      "source": [
        "Now that we have a function that returns labels instead of printing them, we can use it to create a new column in our test set."
      ],
      "metadata": {
        "id": "rRo3Bq0MuEAo"
      }
    },
    {
      "cell_type": "code",
      "source": [
        "test_set['predicted'] = test_set['SMS'].apply(classify_test_set)\n",
        "test_set.head()"
      ],
      "metadata": {
        "id": "7ppjz0JLZWny",
        "colab": {
          "base_uri": "https://localhost:8080/",
          "height": 206
        },
        "outputId": "6d080ca3-ecc8-4176-d442-31514c42c40e"
      },
      "execution_count": null,
      "outputs": [
        {
          "output_type": "execute_result",
          "data": {
            "text/plain": [
              "  Label                                                SMS predicted\n",
              "0   ham          Later i guess. I needa do mcat study too.       ham\n",
              "1   ham             But i haf enuff space got like 4 mb...       ham\n",
              "2  spam  Had your mobile 10 mths? Update to latest Oran...      spam\n",
              "3   ham  All sounds good. Fingers . Makes it difficult ...       ham\n",
              "4   ham  All done, all handed in. Don't know if mega sh...       ham"
            ],
            "text/html": [
              "\n",
              "  <div id=\"df-960b74b2-48db-4bbd-b453-da1cb767a2aa\">\n",
              "    <div class=\"colab-df-container\">\n",
              "      <div>\n",
              "<style scoped>\n",
              "    .dataframe tbody tr th:only-of-type {\n",
              "        vertical-align: middle;\n",
              "    }\n",
              "\n",
              "    .dataframe tbody tr th {\n",
              "        vertical-align: top;\n",
              "    }\n",
              "\n",
              "    .dataframe thead th {\n",
              "        text-align: right;\n",
              "    }\n",
              "</style>\n",
              "<table border=\"1\" class=\"dataframe\">\n",
              "  <thead>\n",
              "    <tr style=\"text-align: right;\">\n",
              "      <th></th>\n",
              "      <th>Label</th>\n",
              "      <th>SMS</th>\n",
              "      <th>predicted</th>\n",
              "    </tr>\n",
              "  </thead>\n",
              "  <tbody>\n",
              "    <tr>\n",
              "      <th>0</th>\n",
              "      <td>ham</td>\n",
              "      <td>Later i guess. I needa do mcat study too.</td>\n",
              "      <td>ham</td>\n",
              "    </tr>\n",
              "    <tr>\n",
              "      <th>1</th>\n",
              "      <td>ham</td>\n",
              "      <td>But i haf enuff space got like 4 mb...</td>\n",
              "      <td>ham</td>\n",
              "    </tr>\n",
              "    <tr>\n",
              "      <th>2</th>\n",
              "      <td>spam</td>\n",
              "      <td>Had your mobile 10 mths? Update to latest Oran...</td>\n",
              "      <td>spam</td>\n",
              "    </tr>\n",
              "    <tr>\n",
              "      <th>3</th>\n",
              "      <td>ham</td>\n",
              "      <td>All sounds good. Fingers . Makes it difficult ...</td>\n",
              "      <td>ham</td>\n",
              "    </tr>\n",
              "    <tr>\n",
              "      <th>4</th>\n",
              "      <td>ham</td>\n",
              "      <td>All done, all handed in. Don't know if mega sh...</td>\n",
              "      <td>ham</td>\n",
              "    </tr>\n",
              "  </tbody>\n",
              "</table>\n",
              "</div>\n",
              "      <button class=\"colab-df-convert\" onclick=\"convertToInteractive('df-960b74b2-48db-4bbd-b453-da1cb767a2aa')\"\n",
              "              title=\"Convert this dataframe to an interactive table.\"\n",
              "              style=\"display:none;\">\n",
              "        \n",
              "  <svg xmlns=\"http://www.w3.org/2000/svg\" height=\"24px\"viewBox=\"0 0 24 24\"\n",
              "       width=\"24px\">\n",
              "    <path d=\"M0 0h24v24H0V0z\" fill=\"none\"/>\n",
              "    <path d=\"M18.56 5.44l.94 2.06.94-2.06 2.06-.94-2.06-.94-.94-2.06-.94 2.06-2.06.94zm-11 1L8.5 8.5l.94-2.06 2.06-.94-2.06-.94L8.5 2.5l-.94 2.06-2.06.94zm10 10l.94 2.06.94-2.06 2.06-.94-2.06-.94-.94-2.06-.94 2.06-2.06.94z\"/><path d=\"M17.41 7.96l-1.37-1.37c-.4-.4-.92-.59-1.43-.59-.52 0-1.04.2-1.43.59L10.3 9.45l-7.72 7.72c-.78.78-.78 2.05 0 2.83L4 21.41c.39.39.9.59 1.41.59.51 0 1.02-.2 1.41-.59l7.78-7.78 2.81-2.81c.8-.78.8-2.07 0-2.86zM5.41 20L4 18.59l7.72-7.72 1.47 1.35L5.41 20z\"/>\n",
              "  </svg>\n",
              "      </button>\n",
              "      \n",
              "  <style>\n",
              "    .colab-df-container {\n",
              "      display:flex;\n",
              "      flex-wrap:wrap;\n",
              "      gap: 12px;\n",
              "    }\n",
              "\n",
              "    .colab-df-convert {\n",
              "      background-color: #E8F0FE;\n",
              "      border: none;\n",
              "      border-radius: 50%;\n",
              "      cursor: pointer;\n",
              "      display: none;\n",
              "      fill: #1967D2;\n",
              "      height: 32px;\n",
              "      padding: 0 0 0 0;\n",
              "      width: 32px;\n",
              "    }\n",
              "\n",
              "    .colab-df-convert:hover {\n",
              "      background-color: #E2EBFA;\n",
              "      box-shadow: 0px 1px 2px rgba(60, 64, 67, 0.3), 0px 1px 3px 1px rgba(60, 64, 67, 0.15);\n",
              "      fill: #174EA6;\n",
              "    }\n",
              "\n",
              "    [theme=dark] .colab-df-convert {\n",
              "      background-color: #3B4455;\n",
              "      fill: #D2E3FC;\n",
              "    }\n",
              "\n",
              "    [theme=dark] .colab-df-convert:hover {\n",
              "      background-color: #434B5C;\n",
              "      box-shadow: 0px 1px 3px 1px rgba(0, 0, 0, 0.15);\n",
              "      filter: drop-shadow(0px 1px 2px rgba(0, 0, 0, 0.3));\n",
              "      fill: #FFFFFF;\n",
              "    }\n",
              "  </style>\n",
              "\n",
              "      <script>\n",
              "        const buttonEl =\n",
              "          document.querySelector('#df-960b74b2-48db-4bbd-b453-da1cb767a2aa button.colab-df-convert');\n",
              "        buttonEl.style.display =\n",
              "          google.colab.kernel.accessAllowed ? 'block' : 'none';\n",
              "\n",
              "        async function convertToInteractive(key) {\n",
              "          const element = document.querySelector('#df-960b74b2-48db-4bbd-b453-da1cb767a2aa');\n",
              "          const dataTable =\n",
              "            await google.colab.kernel.invokeFunction('convertToInteractive',\n",
              "                                                     [key], {});\n",
              "          if (!dataTable) return;\n",
              "\n",
              "          const docLinkHtml = 'Like what you see? Visit the ' +\n",
              "            '<a target=\"_blank\" href=https://colab.research.google.com/notebooks/data_table.ipynb>data table notebook</a>'\n",
              "            + ' to learn more about interactive tables.';\n",
              "          element.innerHTML = '';\n",
              "          dataTable['output_type'] = 'display_data';\n",
              "          await google.colab.output.renderOutput(dataTable, element);\n",
              "          const docLink = document.createElement('div');\n",
              "          docLink.innerHTML = docLinkHtml;\n",
              "          element.appendChild(docLink);\n",
              "        }\n",
              "      </script>\n",
              "    </div>\n",
              "  </div>\n",
              "  "
            ]
          },
          "metadata": {},
          "execution_count": 90
        }
      ]
    },
    {
      "cell_type": "markdown",
      "source": [
        "We can compare the predicted values with the actual values to measure how good our spam filter is with classifying new messages. To make the measurement, we'll use accuracy as a metric"
      ],
      "metadata": {
        "id": "jgKjNn6PuFGs"
      }
    },
    {
      "cell_type": "code",
      "source": [
        "correct = 0\n",
        "total = test_set.shape[0]\n",
        "\n",
        "for row in test_set.iterrows():\n",
        "   row = row[1]\n",
        "   if row['Label'] == row['predicted']:\n",
        "      correct += 1\n",
        "\n",
        "print('Correct:', correct)\n",
        "print('Incorrect:', total - correct)\n",
        "print('Accuracy:', correct/total)"
      ],
      "metadata": {
        "id": "mnCMLBnsY1TY",
        "colab": {
          "base_uri": "https://localhost:8080/"
        },
        "outputId": "4c6f8db3-e3ef-486b-f75a-38663623135d"
      },
      "execution_count": null,
      "outputs": [
        {
          "output_type": "stream",
          "name": "stdout",
          "text": [
            "Correct: 1100\n",
            "Incorrect: 14\n",
            "Accuracy: 0.9874326750448833\n"
          ]
        }
      ]
    }
  ]
}